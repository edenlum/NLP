{
  "nbformat": 4,
  "nbformat_minor": 0,
  "metadata": {
    "colab": {
      "provenance": [],
      "gpuType": "T4"
    },
    "kernelspec": {
      "name": "python3",
      "display_name": "Python 3"
    },
    "language_info": {
      "name": "python"
    },
    "accelerator": "GPU",
    "widgets": {
      "application/vnd.jupyter.widget-state+json": {
        "a7d16a5fdf8c473eb517f6dc5e23ff57": {
          "model_module": "@jupyter-widgets/controls",
          "model_name": "HBoxModel",
          "model_module_version": "1.5.0",
          "state": {
            "_dom_classes": [],
            "_model_module": "@jupyter-widgets/controls",
            "_model_module_version": "1.5.0",
            "_model_name": "HBoxModel",
            "_view_count": null,
            "_view_module": "@jupyter-widgets/controls",
            "_view_module_version": "1.5.0",
            "_view_name": "HBoxView",
            "box_style": "",
            "children": [
              "IPY_MODEL_9ffa5003be6848c8b4c51ae392030161",
              "IPY_MODEL_cfbeb15b65ac433da5d39687b471947e",
              "IPY_MODEL_50081e41bdae4b45b01057f7012f6729"
            ],
            "layout": "IPY_MODEL_0e5995de522c4722ab44b66c40812593"
          }
        },
        "9ffa5003be6848c8b4c51ae392030161": {
          "model_module": "@jupyter-widgets/controls",
          "model_name": "HTMLModel",
          "model_module_version": "1.5.0",
          "state": {
            "_dom_classes": [],
            "_model_module": "@jupyter-widgets/controls",
            "_model_module_version": "1.5.0",
            "_model_name": "HTMLModel",
            "_view_count": null,
            "_view_module": "@jupyter-widgets/controls",
            "_view_module_version": "1.5.0",
            "_view_name": "HTMLView",
            "description": "",
            "description_tooltip": null,
            "layout": "IPY_MODEL_c7083f06b64e4014834b53563194c042",
            "placeholder": "​",
            "style": "IPY_MODEL_faa29e47af9b4021a3811bd735919850",
            "value": "100%"
          }
        },
        "cfbeb15b65ac433da5d39687b471947e": {
          "model_module": "@jupyter-widgets/controls",
          "model_name": "FloatProgressModel",
          "model_module_version": "1.5.0",
          "state": {
            "_dom_classes": [],
            "_model_module": "@jupyter-widgets/controls",
            "_model_module_version": "1.5.0",
            "_model_name": "FloatProgressModel",
            "_view_count": null,
            "_view_module": "@jupyter-widgets/controls",
            "_view_module_version": "1.5.0",
            "_view_name": "ProgressView",
            "bar_style": "success",
            "description": "",
            "description_tooltip": null,
            "layout": "IPY_MODEL_435d758b5e1e4ece966fc1bf62d08ab2",
            "max": 3,
            "min": 0,
            "orientation": "horizontal",
            "style": "IPY_MODEL_28e6ef3e8bb74929a7dd745eadd1971b",
            "value": 3
          }
        },
        "50081e41bdae4b45b01057f7012f6729": {
          "model_module": "@jupyter-widgets/controls",
          "model_name": "HTMLModel",
          "model_module_version": "1.5.0",
          "state": {
            "_dom_classes": [],
            "_model_module": "@jupyter-widgets/controls",
            "_model_module_version": "1.5.0",
            "_model_name": "HTMLModel",
            "_view_count": null,
            "_view_module": "@jupyter-widgets/controls",
            "_view_module_version": "1.5.0",
            "_view_name": "HTMLView",
            "description": "",
            "description_tooltip": null,
            "layout": "IPY_MODEL_2f08722d2fc5453587f7f9a530aa8900",
            "placeholder": "​",
            "style": "IPY_MODEL_99e67e92989e462482eab70cc7c60869",
            "value": " 3/3 [00:00&lt;00:00, 64.62it/s]"
          }
        },
        "0e5995de522c4722ab44b66c40812593": {
          "model_module": "@jupyter-widgets/base",
          "model_name": "LayoutModel",
          "model_module_version": "1.2.0",
          "state": {
            "_model_module": "@jupyter-widgets/base",
            "_model_module_version": "1.2.0",
            "_model_name": "LayoutModel",
            "_view_count": null,
            "_view_module": "@jupyter-widgets/base",
            "_view_module_version": "1.2.0",
            "_view_name": "LayoutView",
            "align_content": null,
            "align_items": null,
            "align_self": null,
            "border": null,
            "bottom": null,
            "display": null,
            "flex": null,
            "flex_flow": null,
            "grid_area": null,
            "grid_auto_columns": null,
            "grid_auto_flow": null,
            "grid_auto_rows": null,
            "grid_column": null,
            "grid_gap": null,
            "grid_row": null,
            "grid_template_areas": null,
            "grid_template_columns": null,
            "grid_template_rows": null,
            "height": null,
            "justify_content": null,
            "justify_items": null,
            "left": null,
            "margin": null,
            "max_height": null,
            "max_width": null,
            "min_height": null,
            "min_width": null,
            "object_fit": null,
            "object_position": null,
            "order": null,
            "overflow": null,
            "overflow_x": null,
            "overflow_y": null,
            "padding": null,
            "right": null,
            "top": null,
            "visibility": null,
            "width": null
          }
        },
        "c7083f06b64e4014834b53563194c042": {
          "model_module": "@jupyter-widgets/base",
          "model_name": "LayoutModel",
          "model_module_version": "1.2.0",
          "state": {
            "_model_module": "@jupyter-widgets/base",
            "_model_module_version": "1.2.0",
            "_model_name": "LayoutModel",
            "_view_count": null,
            "_view_module": "@jupyter-widgets/base",
            "_view_module_version": "1.2.0",
            "_view_name": "LayoutView",
            "align_content": null,
            "align_items": null,
            "align_self": null,
            "border": null,
            "bottom": null,
            "display": null,
            "flex": null,
            "flex_flow": null,
            "grid_area": null,
            "grid_auto_columns": null,
            "grid_auto_flow": null,
            "grid_auto_rows": null,
            "grid_column": null,
            "grid_gap": null,
            "grid_row": null,
            "grid_template_areas": null,
            "grid_template_columns": null,
            "grid_template_rows": null,
            "height": null,
            "justify_content": null,
            "justify_items": null,
            "left": null,
            "margin": null,
            "max_height": null,
            "max_width": null,
            "min_height": null,
            "min_width": null,
            "object_fit": null,
            "object_position": null,
            "order": null,
            "overflow": null,
            "overflow_x": null,
            "overflow_y": null,
            "padding": null,
            "right": null,
            "top": null,
            "visibility": null,
            "width": null
          }
        },
        "faa29e47af9b4021a3811bd735919850": {
          "model_module": "@jupyter-widgets/controls",
          "model_name": "DescriptionStyleModel",
          "model_module_version": "1.5.0",
          "state": {
            "_model_module": "@jupyter-widgets/controls",
            "_model_module_version": "1.5.0",
            "_model_name": "DescriptionStyleModel",
            "_view_count": null,
            "_view_module": "@jupyter-widgets/base",
            "_view_module_version": "1.2.0",
            "_view_name": "StyleView",
            "description_width": ""
          }
        },
        "435d758b5e1e4ece966fc1bf62d08ab2": {
          "model_module": "@jupyter-widgets/base",
          "model_name": "LayoutModel",
          "model_module_version": "1.2.0",
          "state": {
            "_model_module": "@jupyter-widgets/base",
            "_model_module_version": "1.2.0",
            "_model_name": "LayoutModel",
            "_view_count": null,
            "_view_module": "@jupyter-widgets/base",
            "_view_module_version": "1.2.0",
            "_view_name": "LayoutView",
            "align_content": null,
            "align_items": null,
            "align_self": null,
            "border": null,
            "bottom": null,
            "display": null,
            "flex": null,
            "flex_flow": null,
            "grid_area": null,
            "grid_auto_columns": null,
            "grid_auto_flow": null,
            "grid_auto_rows": null,
            "grid_column": null,
            "grid_gap": null,
            "grid_row": null,
            "grid_template_areas": null,
            "grid_template_columns": null,
            "grid_template_rows": null,
            "height": null,
            "justify_content": null,
            "justify_items": null,
            "left": null,
            "margin": null,
            "max_height": null,
            "max_width": null,
            "min_height": null,
            "min_width": null,
            "object_fit": null,
            "object_position": null,
            "order": null,
            "overflow": null,
            "overflow_x": null,
            "overflow_y": null,
            "padding": null,
            "right": null,
            "top": null,
            "visibility": null,
            "width": null
          }
        },
        "28e6ef3e8bb74929a7dd745eadd1971b": {
          "model_module": "@jupyter-widgets/controls",
          "model_name": "ProgressStyleModel",
          "model_module_version": "1.5.0",
          "state": {
            "_model_module": "@jupyter-widgets/controls",
            "_model_module_version": "1.5.0",
            "_model_name": "ProgressStyleModel",
            "_view_count": null,
            "_view_module": "@jupyter-widgets/base",
            "_view_module_version": "1.2.0",
            "_view_name": "StyleView",
            "bar_color": null,
            "description_width": ""
          }
        },
        "2f08722d2fc5453587f7f9a530aa8900": {
          "model_module": "@jupyter-widgets/base",
          "model_name": "LayoutModel",
          "model_module_version": "1.2.0",
          "state": {
            "_model_module": "@jupyter-widgets/base",
            "_model_module_version": "1.2.0",
            "_model_name": "LayoutModel",
            "_view_count": null,
            "_view_module": "@jupyter-widgets/base",
            "_view_module_version": "1.2.0",
            "_view_name": "LayoutView",
            "align_content": null,
            "align_items": null,
            "align_self": null,
            "border": null,
            "bottom": null,
            "display": null,
            "flex": null,
            "flex_flow": null,
            "grid_area": null,
            "grid_auto_columns": null,
            "grid_auto_flow": null,
            "grid_auto_rows": null,
            "grid_column": null,
            "grid_gap": null,
            "grid_row": null,
            "grid_template_areas": null,
            "grid_template_columns": null,
            "grid_template_rows": null,
            "height": null,
            "justify_content": null,
            "justify_items": null,
            "left": null,
            "margin": null,
            "max_height": null,
            "max_width": null,
            "min_height": null,
            "min_width": null,
            "object_fit": null,
            "object_position": null,
            "order": null,
            "overflow": null,
            "overflow_x": null,
            "overflow_y": null,
            "padding": null,
            "right": null,
            "top": null,
            "visibility": null,
            "width": null
          }
        },
        "99e67e92989e462482eab70cc7c60869": {
          "model_module": "@jupyter-widgets/controls",
          "model_name": "DescriptionStyleModel",
          "model_module_version": "1.5.0",
          "state": {
            "_model_module": "@jupyter-widgets/controls",
            "_model_module_version": "1.5.0",
            "_model_name": "DescriptionStyleModel",
            "_view_count": null,
            "_view_module": "@jupyter-widgets/base",
            "_view_module_version": "1.2.0",
            "_view_name": "StyleView",
            "description_width": ""
          }
        }
      }
    }
  },
  "cells": [
    {
      "cell_type": "markdown",
      "metadata": {
        "id": "vM85j1-ZX8RZ"
      },
      "source": [
        "To begin copy this notebook to your own drive:\n",
        "\n",
        "![image.png](data:image/png;base64,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)\n",
        "\n",
        "\n",
        "### Submission Instructions:\n",
        "1. **Restart the kernel** (in the menubar, select Runtime$\\rightarrow$Restart runtime)\n",
        "2. **Download the notebook** (in the menubar, select File$\\rightarrow$Download .ipynb)\n",
        "3. **Upload the downloaded notebook (.ipynb file) to your repository**.\n",
        "\n",
        "\n",
        "Make sure you fill in any place that says `YOUR CODE HERE`, and that no tests fail.  \n",
        "\n",
        "Note: To use a GPU, do the following: Runtime$\\rightarrow$Change runtime type$\\rightarrow$ GPU"
      ]
    },
    {
      "cell_type": "code",
      "metadata": {
        "colab": {
          "base_uri": "https://localhost:8080/"
        },
        "id": "BOtck6n09468",
        "outputId": "388e1038-69f1-4741-a8ec-e2ac5fbdf4a1"
      },
      "source": [
        "import gdown\n",
        "import nltk\n",
        "gdown.download('https://drive.google.com/uc?export=download&id=1PFOG06NEsTL6VieKQjMk1oNzyzcUtiWn', 'glove.npy', quiet=False)\n",
        "gdown.download('https://drive.google.com/uc?export=download&id=1-3SxpirQjmX-RCRyRjKdP2L7G_tNgp00', 'vocab.json', quiet=False)\n",
        "\n",
        "nltk.download('punkt')"
      ],
      "execution_count": null,
      "outputs": [
        {
          "output_type": "stream",
          "name": "stderr",
          "text": [
            "Downloading...\n",
            "From: https://drive.google.com/uc?export=download&id=1PFOG06NEsTL6VieKQjMk1oNzyzcUtiWn\n",
            "To: /content/glove.npy\n",
            "100%|██████████| 480M/480M [00:01<00:00, 250MB/s]\n",
            "Downloading...\n",
            "From: https://drive.google.com/uc?export=download&id=1-3SxpirQjmX-RCRyRjKdP2L7G_tNgp00\n",
            "To: /content/vocab.json\n",
            "100%|██████████| 7.69M/7.69M [00:00<00:00, 244MB/s]\n",
            "[nltk_data] Downloading package punkt to /root/nltk_data...\n",
            "[nltk_data]   Package punkt is already up-to-date!\n"
          ]
        },
        {
          "output_type": "execute_result",
          "data": {
            "text/plain": [
              "True"
            ]
          },
          "metadata": {},
          "execution_count": 6
        }
      ]
    },
    {
      "cell_type": "code",
      "metadata": {
        "colab": {
          "base_uri": "https://localhost:8080/"
        },
        "id": "WbkSh2AW-tpN",
        "outputId": "f154a7a3-5dc5-4e11-951e-75447cbdae9c"
      },
      "source": [
        "!pip install datasets\n",
        "!pip uninstall -y transformers accelerate\n",
        "!pip install transformers accelerate\n",
        "!pip install git+https://github.com/huggingface/accelerate"
      ],
      "execution_count": null,
      "outputs": [
        {
          "output_type": "stream",
          "name": "stdout",
          "text": [
            "Looking in indexes: https://pypi.org/simple, https://us-python.pkg.dev/colab-wheels/public/simple/\n",
            "Collecting datasets\n",
            "  Downloading datasets-2.12.0-py3-none-any.whl (474 kB)\n",
            "\u001b[2K     \u001b[90m━━━━━━━━━━━━━━━━━━━━━━━━━━━━━━━━━━━━━━\u001b[0m \u001b[32m474.6/474.6 kB\u001b[0m \u001b[31m14.8 MB/s\u001b[0m eta \u001b[36m0:00:00\u001b[0m\n",
            "\u001b[?25hRequirement already satisfied: numpy>=1.17 in /usr/local/lib/python3.10/dist-packages (from datasets) (1.22.4)\n",
            "Requirement already satisfied: pyarrow>=8.0.0 in /usr/local/lib/python3.10/dist-packages (from datasets) (9.0.0)\n",
            "Collecting dill<0.3.7,>=0.3.0 (from datasets)\n",
            "  Downloading dill-0.3.6-py3-none-any.whl (110 kB)\n",
            "\u001b[2K     \u001b[90m━━━━━━━━━━━━━━━━━━━━━━━━━━━━━━━━━━━━━━\u001b[0m \u001b[32m110.5/110.5 kB\u001b[0m \u001b[31m16.1 MB/s\u001b[0m eta \u001b[36m0:00:00\u001b[0m\n",
            "\u001b[?25hRequirement already satisfied: pandas in /usr/local/lib/python3.10/dist-packages (from datasets) (1.5.3)\n",
            "Requirement already satisfied: requests>=2.19.0 in /usr/local/lib/python3.10/dist-packages (from datasets) (2.27.1)\n",
            "Requirement already satisfied: tqdm>=4.62.1 in /usr/local/lib/python3.10/dist-packages (from datasets) (4.65.0)\n",
            "Collecting xxhash (from datasets)\n",
            "  Downloading xxhash-3.2.0-cp310-cp310-manylinux_2_17_x86_64.manylinux2014_x86_64.whl (212 kB)\n",
            "\u001b[2K     \u001b[90m━━━━━━━━━━━━━━━━━━━━━━━━━━━━━━━━━━━━━━\u001b[0m \u001b[32m212.5/212.5 kB\u001b[0m \u001b[31m28.0 MB/s\u001b[0m eta \u001b[36m0:00:00\u001b[0m\n",
            "\u001b[?25hCollecting multiprocess (from datasets)\n",
            "  Downloading multiprocess-0.70.14-py310-none-any.whl (134 kB)\n",
            "\u001b[2K     \u001b[90m━━━━━━━━━━━━━━━━━━━━━━━━━━━━━━━━━━━━━━\u001b[0m \u001b[32m134.3/134.3 kB\u001b[0m \u001b[31m16.2 MB/s\u001b[0m eta \u001b[36m0:00:00\u001b[0m\n",
            "\u001b[?25hRequirement already satisfied: fsspec[http]>=2021.11.1 in /usr/local/lib/python3.10/dist-packages (from datasets) (2023.4.0)\n",
            "Collecting aiohttp (from datasets)\n",
            "  Downloading aiohttp-3.8.4-cp310-cp310-manylinux_2_17_x86_64.manylinux2014_x86_64.whl (1.0 MB)\n",
            "\u001b[2K     \u001b[90m━━━━━━━━━━━━━━━━━━━━━━━━━━━━━━━━━━━━━━━━\u001b[0m \u001b[32m1.0/1.0 MB\u001b[0m \u001b[31m53.0 MB/s\u001b[0m eta \u001b[36m0:00:00\u001b[0m\n",
            "\u001b[?25hCollecting huggingface-hub<1.0.0,>=0.11.0 (from datasets)\n",
            "  Downloading huggingface_hub-0.14.1-py3-none-any.whl (224 kB)\n",
            "\u001b[2K     \u001b[90m━━━━━━━━━━━━━━━━━━━━━━━━━━━━━━━━━━━━━━\u001b[0m \u001b[32m224.5/224.5 kB\u001b[0m \u001b[31m26.5 MB/s\u001b[0m eta \u001b[36m0:00:00\u001b[0m\n",
            "\u001b[?25hRequirement already satisfied: packaging in /usr/local/lib/python3.10/dist-packages (from datasets) (23.1)\n",
            "Collecting responses<0.19 (from datasets)\n",
            "  Downloading responses-0.18.0-py3-none-any.whl (38 kB)\n",
            "Requirement already satisfied: pyyaml>=5.1 in /usr/local/lib/python3.10/dist-packages (from datasets) (6.0)\n",
            "Requirement already satisfied: attrs>=17.3.0 in /usr/local/lib/python3.10/dist-packages (from aiohttp->datasets) (23.1.0)\n",
            "Requirement already satisfied: charset-normalizer<4.0,>=2.0 in /usr/local/lib/python3.10/dist-packages (from aiohttp->datasets) (2.0.12)\n",
            "Collecting multidict<7.0,>=4.5 (from aiohttp->datasets)\n",
            "  Downloading multidict-6.0.4-cp310-cp310-manylinux_2_17_x86_64.manylinux2014_x86_64.whl (114 kB)\n",
            "\u001b[2K     \u001b[90m━━━━━━━━━━━━━━━━━━━━━━━━━━━━━━━━━━━━━━\u001b[0m \u001b[32m114.5/114.5 kB\u001b[0m \u001b[31m12.7 MB/s\u001b[0m eta \u001b[36m0:00:00\u001b[0m\n",
            "\u001b[?25hCollecting async-timeout<5.0,>=4.0.0a3 (from aiohttp->datasets)\n",
            "  Downloading async_timeout-4.0.2-py3-none-any.whl (5.8 kB)\n",
            "Collecting yarl<2.0,>=1.0 (from aiohttp->datasets)\n",
            "  Downloading yarl-1.9.2-cp310-cp310-manylinux_2_17_x86_64.manylinux2014_x86_64.whl (268 kB)\n",
            "\u001b[2K     \u001b[90m━━━━━━━━━━━━━━━━━━━━━━━━━━━━━━━━━━━━━━\u001b[0m \u001b[32m268.8/268.8 kB\u001b[0m \u001b[31m33.2 MB/s\u001b[0m eta \u001b[36m0:00:00\u001b[0m\n",
            "\u001b[?25hCollecting frozenlist>=1.1.1 (from aiohttp->datasets)\n",
            "  Downloading frozenlist-1.3.3-cp310-cp310-manylinux_2_5_x86_64.manylinux1_x86_64.manylinux_2_17_x86_64.manylinux2014_x86_64.whl (149 kB)\n",
            "\u001b[2K     \u001b[90m━━━━━━━━━━━━━━━━━━━━━━━━━━━━━━━━━━━━━━\u001b[0m \u001b[32m149.6/149.6 kB\u001b[0m \u001b[31m21.4 MB/s\u001b[0m eta \u001b[36m0:00:00\u001b[0m\n",
            "\u001b[?25hCollecting aiosignal>=1.1.2 (from aiohttp->datasets)\n",
            "  Downloading aiosignal-1.3.1-py3-none-any.whl (7.6 kB)\n",
            "Requirement already satisfied: filelock in /usr/local/lib/python3.10/dist-packages (from huggingface-hub<1.0.0,>=0.11.0->datasets) (3.12.0)\n",
            "Requirement already satisfied: typing-extensions>=3.7.4.3 in /usr/local/lib/python3.10/dist-packages (from huggingface-hub<1.0.0,>=0.11.0->datasets) (4.5.0)\n",
            "Requirement already satisfied: urllib3<1.27,>=1.21.1 in /usr/local/lib/python3.10/dist-packages (from requests>=2.19.0->datasets) (1.26.15)\n",
            "Requirement already satisfied: certifi>=2017.4.17 in /usr/local/lib/python3.10/dist-packages (from requests>=2.19.0->datasets) (2022.12.7)\n",
            "Requirement already satisfied: idna<4,>=2.5 in /usr/local/lib/python3.10/dist-packages (from requests>=2.19.0->datasets) (3.4)\n",
            "Requirement already satisfied: python-dateutil>=2.8.1 in /usr/local/lib/python3.10/dist-packages (from pandas->datasets) (2.8.2)\n",
            "Requirement already satisfied: pytz>=2020.1 in /usr/local/lib/python3.10/dist-packages (from pandas->datasets) (2022.7.1)\n",
            "Requirement already satisfied: six>=1.5 in /usr/local/lib/python3.10/dist-packages (from python-dateutil>=2.8.1->pandas->datasets) (1.16.0)\n",
            "Installing collected packages: xxhash, multidict, frozenlist, dill, async-timeout, yarl, responses, multiprocess, huggingface-hub, aiosignal, aiohttp, datasets\n",
            "Successfully installed aiohttp-3.8.4 aiosignal-1.3.1 async-timeout-4.0.2 datasets-2.12.0 dill-0.3.6 frozenlist-1.3.3 huggingface-hub-0.14.1 multidict-6.0.4 multiprocess-0.70.14 responses-0.18.0 xxhash-3.2.0 yarl-1.9.2\n",
            "\u001b[33mWARNING: Skipping transformers as it is not installed.\u001b[0m\u001b[33m\n",
            "\u001b[0m\u001b[33mWARNING: Skipping accelerate as it is not installed.\u001b[0m\u001b[33m\n",
            "\u001b[0mLooking in indexes: https://pypi.org/simple, https://us-python.pkg.dev/colab-wheels/public/simple/\n",
            "Collecting transformers\n",
            "  Downloading transformers-4.29.2-py3-none-any.whl (7.1 MB)\n",
            "\u001b[2K     \u001b[90m━━━━━━━━━━━━━━━━━━━━━━━━━━━━━━━━━━━━━━━━\u001b[0m \u001b[32m7.1/7.1 MB\u001b[0m \u001b[31m70.5 MB/s\u001b[0m eta \u001b[36m0:00:00\u001b[0m\n",
            "\u001b[?25hCollecting accelerate\n",
            "  Downloading accelerate-0.19.0-py3-none-any.whl (219 kB)\n",
            "\u001b[2K     \u001b[90m━━━━━━━━━━━━━━━━━━━━━━━━━━━━━━━━━━━━━━\u001b[0m \u001b[32m219.1/219.1 kB\u001b[0m \u001b[31m24.3 MB/s\u001b[0m eta \u001b[36m0:00:00\u001b[0m\n",
            "\u001b[?25hRequirement already satisfied: filelock in /usr/local/lib/python3.10/dist-packages (from transformers) (3.12.0)\n",
            "Requirement already satisfied: huggingface-hub<1.0,>=0.14.1 in /usr/local/lib/python3.10/dist-packages (from transformers) (0.14.1)\n",
            "Requirement already satisfied: numpy>=1.17 in /usr/local/lib/python3.10/dist-packages (from transformers) (1.22.4)\n",
            "Requirement already satisfied: packaging>=20.0 in /usr/local/lib/python3.10/dist-packages (from transformers) (23.1)\n",
            "Requirement already satisfied: pyyaml>=5.1 in /usr/local/lib/python3.10/dist-packages (from transformers) (6.0)\n",
            "Requirement already satisfied: regex!=2019.12.17 in /usr/local/lib/python3.10/dist-packages (from transformers) (2022.10.31)\n",
            "Requirement already satisfied: requests in /usr/local/lib/python3.10/dist-packages (from transformers) (2.27.1)\n",
            "Collecting tokenizers!=0.11.3,<0.14,>=0.11.1 (from transformers)\n",
            "  Downloading tokenizers-0.13.3-cp310-cp310-manylinux_2_17_x86_64.manylinux2014_x86_64.whl (7.8 MB)\n",
            "\u001b[2K     \u001b[90m━━━━━━━━━━━━━━━━━━━━━━━━━━━━━━━━━━━━━━━━\u001b[0m \u001b[32m7.8/7.8 MB\u001b[0m \u001b[31m116.0 MB/s\u001b[0m eta \u001b[36m0:00:00\u001b[0m\n",
            "\u001b[?25hRequirement already satisfied: tqdm>=4.27 in /usr/local/lib/python3.10/dist-packages (from transformers) (4.65.0)\n",
            "Requirement already satisfied: psutil in /usr/local/lib/python3.10/dist-packages (from accelerate) (5.9.5)\n",
            "Requirement already satisfied: torch>=1.6.0 in /usr/local/lib/python3.10/dist-packages (from accelerate) (2.0.1+cu118)\n",
            "Requirement already satisfied: fsspec in /usr/local/lib/python3.10/dist-packages (from huggingface-hub<1.0,>=0.14.1->transformers) (2023.4.0)\n",
            "Requirement already satisfied: typing-extensions>=3.7.4.3 in /usr/local/lib/python3.10/dist-packages (from huggingface-hub<1.0,>=0.14.1->transformers) (4.5.0)\n",
            "Requirement already satisfied: sympy in /usr/local/lib/python3.10/dist-packages (from torch>=1.6.0->accelerate) (1.11.1)\n",
            "Requirement already satisfied: networkx in /usr/local/lib/python3.10/dist-packages (from torch>=1.6.0->accelerate) (3.1)\n",
            "Requirement already satisfied: jinja2 in /usr/local/lib/python3.10/dist-packages (from torch>=1.6.0->accelerate) (3.1.2)\n",
            "Requirement already satisfied: triton==2.0.0 in /usr/local/lib/python3.10/dist-packages (from torch>=1.6.0->accelerate) (2.0.0)\n",
            "Requirement already satisfied: cmake in /usr/local/lib/python3.10/dist-packages (from triton==2.0.0->torch>=1.6.0->accelerate) (3.25.2)\n",
            "Requirement already satisfied: lit in /usr/local/lib/python3.10/dist-packages (from triton==2.0.0->torch>=1.6.0->accelerate) (16.0.5)\n",
            "Requirement already satisfied: urllib3<1.27,>=1.21.1 in /usr/local/lib/python3.10/dist-packages (from requests->transformers) (1.26.15)\n",
            "Requirement already satisfied: certifi>=2017.4.17 in /usr/local/lib/python3.10/dist-packages (from requests->transformers) (2022.12.7)\n",
            "Requirement already satisfied: charset-normalizer~=2.0.0 in /usr/local/lib/python3.10/dist-packages (from requests->transformers) (2.0.12)\n",
            "Requirement already satisfied: idna<4,>=2.5 in /usr/local/lib/python3.10/dist-packages (from requests->transformers) (3.4)\n",
            "Requirement already satisfied: MarkupSafe>=2.0 in /usr/local/lib/python3.10/dist-packages (from jinja2->torch>=1.6.0->accelerate) (2.1.2)\n",
            "Requirement already satisfied: mpmath>=0.19 in /usr/local/lib/python3.10/dist-packages (from sympy->torch>=1.6.0->accelerate) (1.3.0)\n",
            "Installing collected packages: tokenizers, transformers, accelerate\n",
            "Successfully installed accelerate-0.19.0 tokenizers-0.13.3 transformers-4.29.2\n",
            "Looking in indexes: https://pypi.org/simple, https://us-python.pkg.dev/colab-wheels/public/simple/\n",
            "Collecting git+https://github.com/huggingface/accelerate\n",
            "  Cloning https://github.com/huggingface/accelerate to /tmp/pip-req-build-lbq21lyw\n",
            "  Running command git clone --filter=blob:none --quiet https://github.com/huggingface/accelerate /tmp/pip-req-build-lbq21lyw\n",
            "  Resolved https://github.com/huggingface/accelerate to commit 7d24bdefb5b3252505151d8c1ac0efbed3574857\n",
            "  Installing build dependencies ... \u001b[?25l\u001b[?25hdone\n",
            "  Getting requirements to build wheel ... \u001b[?25l\u001b[?25hdone\n",
            "  Preparing metadata (pyproject.toml) ... \u001b[?25l\u001b[?25hdone\n",
            "Requirement already satisfied: numpy>=1.17 in /usr/local/lib/python3.10/dist-packages (from accelerate==0.20.0.dev0) (1.22.4)\n",
            "Requirement already satisfied: packaging>=20.0 in /usr/local/lib/python3.10/dist-packages (from accelerate==0.20.0.dev0) (23.1)\n",
            "Requirement already satisfied: psutil in /usr/local/lib/python3.10/dist-packages (from accelerate==0.20.0.dev0) (5.9.5)\n",
            "Requirement already satisfied: pyyaml in /usr/local/lib/python3.10/dist-packages (from accelerate==0.20.0.dev0) (6.0)\n",
            "Requirement already satisfied: torch>=1.6.0 in /usr/local/lib/python3.10/dist-packages (from accelerate==0.20.0.dev0) (2.0.1+cu118)\n",
            "Requirement already satisfied: filelock in /usr/local/lib/python3.10/dist-packages (from torch>=1.6.0->accelerate==0.20.0.dev0) (3.12.0)\n",
            "Requirement already satisfied: typing-extensions in /usr/local/lib/python3.10/dist-packages (from torch>=1.6.0->accelerate==0.20.0.dev0) (4.5.0)\n",
            "Requirement already satisfied: sympy in /usr/local/lib/python3.10/dist-packages (from torch>=1.6.0->accelerate==0.20.0.dev0) (1.11.1)\n",
            "Requirement already satisfied: networkx in /usr/local/lib/python3.10/dist-packages (from torch>=1.6.0->accelerate==0.20.0.dev0) (3.1)\n",
            "Requirement already satisfied: jinja2 in /usr/local/lib/python3.10/dist-packages (from torch>=1.6.0->accelerate==0.20.0.dev0) (3.1.2)\n",
            "Requirement already satisfied: triton==2.0.0 in /usr/local/lib/python3.10/dist-packages (from torch>=1.6.0->accelerate==0.20.0.dev0) (2.0.0)\n",
            "Requirement already satisfied: cmake in /usr/local/lib/python3.10/dist-packages (from triton==2.0.0->torch>=1.6.0->accelerate==0.20.0.dev0) (3.25.2)\n",
            "Requirement already satisfied: lit in /usr/local/lib/python3.10/dist-packages (from triton==2.0.0->torch>=1.6.0->accelerate==0.20.0.dev0) (16.0.5)\n",
            "Requirement already satisfied: MarkupSafe>=2.0 in /usr/local/lib/python3.10/dist-packages (from jinja2->torch>=1.6.0->accelerate==0.20.0.dev0) (2.1.2)\n",
            "Requirement already satisfied: mpmath>=0.19 in /usr/local/lib/python3.10/dist-packages (from sympy->torch>=1.6.0->accelerate==0.20.0.dev0) (1.3.0)\n",
            "Building wheels for collected packages: accelerate\n",
            "  Building wheel for accelerate (pyproject.toml) ... \u001b[?25l\u001b[?25hdone\n",
            "  Created wheel for accelerate: filename=accelerate-0.20.0.dev0-py3-none-any.whl size=226010 sha256=7b81995a2a1dcbeeea3110abde9822006b66b147f5b6401c461f28583b91ecdf\n",
            "  Stored in directory: /tmp/pip-ephem-wheel-cache-l3e65h6w/wheels/f6/c7/9d/1b8a5ca8353d9307733bc719107acb67acdc95063bba749f26\n",
            "Successfully built accelerate\n",
            "Installing collected packages: accelerate\n",
            "  Attempting uninstall: accelerate\n",
            "    Found existing installation: accelerate 0.19.0\n",
            "    Uninstalling accelerate-0.19.0:\n",
            "      Successfully uninstalled accelerate-0.19.0\n",
            "Successfully installed accelerate-0.20.0.dev0\n"
          ]
        }
      ]
    },
    {
      "cell_type": "code",
      "metadata": {
        "colab": {
          "base_uri": "https://localhost:8080/",
          "height": 87,
          "referenced_widgets": [
            "a7d16a5fdf8c473eb517f6dc5e23ff57",
            "9ffa5003be6848c8b4c51ae392030161",
            "cfbeb15b65ac433da5d39687b471947e",
            "50081e41bdae4b45b01057f7012f6729",
            "0e5995de522c4722ab44b66c40812593",
            "c7083f06b64e4014834b53563194c042",
            "faa29e47af9b4021a3811bd735919850",
            "435d758b5e1e4ece966fc1bf62d08ab2",
            "28e6ef3e8bb74929a7dd745eadd1971b",
            "2f08722d2fc5453587f7f9a530aa8900",
            "99e67e92989e462482eab70cc7c60869"
          ]
        },
        "id": "Wdk6SawN-Ahb",
        "outputId": "b7aa4e42-0840-4636-e515-797e5e13044e"
      },
      "source": [
        "import numpy as np\n",
        "from datasets import load_dataset\n",
        "\n",
        "\n",
        "raw_datasets = load_dataset(\"imdb\")\n"
      ],
      "execution_count": null,
      "outputs": [
        {
          "output_type": "stream",
          "name": "stderr",
          "text": [
            "WARNING:datasets.builder:Found cached dataset imdb (/root/.cache/huggingface/datasets/imdb/plain_text/1.0.0/d613c88cf8fa3bab83b4ded3713f1f74830d1100e171db75bbddb80b3345c9c0)\n"
          ]
        },
        {
          "output_type": "display_data",
          "data": {
            "text/plain": [
              "  0%|          | 0/3 [00:00<?, ?it/s]"
            ],
            "application/vnd.jupyter.widget-view+json": {
              "version_major": 2,
              "version_minor": 0,
              "model_id": "a7d16a5fdf8c473eb517f6dc5e23ff57"
            }
          },
          "metadata": {}
        }
      ]
    },
    {
      "cell_type": "code",
      "metadata": {
        "id": "Pnx3G7V8-PiR"
      },
      "source": [
        "\n",
        "from nltk.tokenize import word_tokenize\n",
        "import json\n",
        "\n",
        "with open(\"vocab.json\") as f:\n",
        "  vocab = json.load(f)\n",
        "\n",
        "def tokenize_function(example):\n",
        "  sentences = [x.lower() for x in example['text']]\n",
        "  tokenized_sentences = [word_tokenize(x) for x in sentences]\n",
        "  tokenized_idx = [[vocab[word] if word in vocab else vocab[\"unk\"] for word in x] for x in tokenized_sentences]\n",
        "  max_size = max([len(x) for x in tokenized_idx])\n",
        "  final_tokenized_idx = tokenized_idx\n",
        "\n",
        "  return {\"labels\":example['label'],'input_ids':final_tokenized_idx}"
      ],
      "execution_count": null,
      "outputs": []
    },
    {
      "cell_type": "code",
      "metadata": {
        "colab": {
          "base_uri": "https://localhost:8080/"
        },
        "id": "wB21r_h3A7yB",
        "outputId": "ba382998-e46b-41f0-a59a-37531f074e6b"
      },
      "source": [
        "small_train_dataset = raw_datasets['train'].shuffle(seed=42).map(tokenize_function,batched=True)\n",
        "small_eval_dataset = raw_datasets['test'].shuffle(seed=42).map(tokenize_function,batched=True)"
      ],
      "execution_count": null,
      "outputs": [
        {
          "output_type": "stream",
          "name": "stderr",
          "text": [
            "WARNING:datasets.arrow_dataset:Loading cached shuffled indices for dataset at /root/.cache/huggingface/datasets/imdb/plain_text/1.0.0/d613c88cf8fa3bab83b4ded3713f1f74830d1100e171db75bbddb80b3345c9c0/cache-9c48ce5d173413c7.arrow\n",
            "WARNING:datasets.arrow_dataset:Loading cached processed dataset at /root/.cache/huggingface/datasets/imdb/plain_text/1.0.0/d613c88cf8fa3bab83b4ded3713f1f74830d1100e171db75bbddb80b3345c9c0/cache-f9884db20ec7edfc.arrow\n",
            "WARNING:datasets.arrow_dataset:Loading cached shuffled indices for dataset at /root/.cache/huggingface/datasets/imdb/plain_text/1.0.0/d613c88cf8fa3bab83b4ded3713f1f74830d1100e171db75bbddb80b3345c9c0/cache-c1eaa46e94dfbfd3.arrow\n",
            "WARNING:datasets.arrow_dataset:Loading cached processed dataset at /root/.cache/huggingface/datasets/imdb/plain_text/1.0.0/d613c88cf8fa3bab83b4ded3713f1f74830d1100e171db75bbddb80b3345c9c0/cache-06e358d7e8266040.arrow\n"
          ]
        }
      ]
    },
    {
      "cell_type": "code",
      "metadata": {
        "id": "mI0aXI_ip2v1"
      },
      "source": [
        "def pad_sequence_to_length(\n",
        "    sequence,\n",
        "    desired_length: int,\n",
        "    default_value = lambda: 0,\n",
        "    padding_on_right: bool = True,\n",
        "):\n",
        "    sequence = list(sequence)\n",
        "    # Truncates the sequence to the desired length.\n",
        "    if padding_on_right:\n",
        "        padded_sequence = sequence[:desired_length]\n",
        "    else:\n",
        "        padded_sequence = sequence[-desired_length:]\n",
        "    # Continues to pad with default_value() until we reach the desired length.\n",
        "    pad_length = desired_length - len(padded_sequence)\n",
        "    # This just creates the default value once, so if it's a list, and if it gets mutated\n",
        "    # later, it could cause subtle bugs. But the risk there is low, and this is much faster.\n",
        "    values_to_pad = [default_value()] * pad_length\n",
        "    if padding_on_right:\n",
        "        padded_sequence = padded_sequence + values_to_pad\n",
        "    else:\n",
        "        padded_sequence = values_to_pad + padded_sequence\n",
        "    return padded_sequence"
      ],
      "execution_count": null,
      "outputs": []
    },
    {
      "cell_type": "code",
      "metadata": {
        "id": "7xGIcwomAG3e",
        "colab": {
          "base_uri": "https://localhost:8080/"
        },
        "outputId": "48ffacf3-e3f0-446b-ef60-763a92d0d16d"
      },
      "source": [
        "from datasets import load_metric\n",
        "\n",
        "metric = load_metric(\"accuracy\")\n",
        "\n",
        "def compute_metrics(eval_pred):\n",
        "    logits = eval_pred.predictions\n",
        "    labels = eval_pred.label_ids\n",
        "    predictions = np.argmax(logits, axis=-1)\n",
        "    return metric.compute(predictions=predictions, references=labels)"
      ],
      "execution_count": null,
      "outputs": [
        {
          "output_type": "stream",
          "name": "stderr",
          "text": [
            "<ipython-input-11-c6aba47c7ef1>:3: FutureWarning: load_metric is deprecated and will be removed in the next major version of datasets. Use 'evaluate.load' instead, from the new library 🤗 Evaluate: https://huggingface.co/docs/evaluate\n",
            "  metric = load_metric(\"accuracy\")\n"
          ]
        }
      ]
    },
    {
      "cell_type": "code",
      "metadata": {
        "id": "YnOoHih5WzQf"
      },
      "source": [
        "from dataclasses import dataclass\n",
        "\n",
        "@dataclass\n",
        "class DataCollatorWithPadding:\n",
        "  \n",
        "  def __call__(self, features):\n",
        "    features_dict={}\n",
        "    if \"labels\" in features[0]:\n",
        "        \n",
        "      features_dict[\"labels\"] = torch.tensor([x.pop(\"labels\") for x in features]).long()\n",
        "\n",
        "    input_ids = [x.pop(\"input_ids\") for x in features]\n",
        "    max_len = max(len(x) for x in input_ids)\n",
        "    masks = [[1]*len(x) for x in input_ids]\n",
        "    \n",
        "    features_dict[\"input_ids\"] = torch.tensor([pad_sequence_to_length(x,max_len) for x in input_ids]).long()\n",
        "    features_dict[\"attention_masks\"] = torch.tensor([pad_sequence_to_length(x,max_len) for x in masks]).long()\n",
        "\n",
        "    return features_dict\n"
      ],
      "execution_count": null,
      "outputs": []
    },
    {
      "cell_type": "code",
      "metadata": {
        "id": "lC1VDdd1DfSQ"
      },
      "source": [
        "from torch import nn\n",
        "import torch\n",
        "from torch.distributions.bernoulli import Bernoulli\n",
        "\n",
        "#Use nn.Sequential and nn.Linear for the network, and nn.CrossEntropyLoss for the loss.\n",
        "#Make sure that the final layer has output dimension of size 2.\n",
        "class DAN(nn.Module):\n",
        "  def __init__(self, num_hidden_layers, dropout, activation):\n",
        "          super().__init__()\n",
        "          self.num_labels = 2\n",
        "          self.embeddings = nn.Embedding.from_pretrained(torch.FloatTensor(np.load(\"glove.npy\")))\n",
        "          emd_dims = 300\n",
        "          hidden_dims = 300\n",
        "          # YOUR CODE HERE\n",
        "          self.dropout = dropout\n",
        "          model = []\n",
        "          model.append(nn.Linear(emd_dims, hidden_dims))\n",
        "          model.append(activation)\n",
        "          for i in range(num_hidden_layers):\n",
        "            model.append(nn.Linear(hidden_dims, hidden_dims))\n",
        "            model.append(activation)\n",
        "          model.append(nn.Linear(hidden_dims, self.num_labels))\n",
        "          model.append(nn.Softmax(dim=1))\n",
        "          self.classifier = nn.Sequential(*model)\n",
        "          self.loss = nn.CrossEntropyLoss()\n",
        "          # END YOUR END\n",
        "          \n",
        "\n",
        "\n",
        "  def forward(self,input_ids,attention_masks,labels=None,**kwargs):\n",
        "      # YOUR CODE HERE\n",
        "      masked_embs = input_ids * attention_masks\n",
        "      x = self.embeddings(masked_embs)      \n",
        "      rw = Bernoulli(1-self.dropout).sample((x.shape[1], ))\n",
        "      x = x[:, rw==1]\n",
        "      avg = torch.mean(x, 1) \n",
        "      # END YOUR END\n",
        "      res = self.classifier(avg)\n",
        "      loss = self.loss(res, labels)\n",
        "      return {\"loss\":loss,\"logits\":res}\n",
        "\n"
      ],
      "execution_count": null,
      "outputs": []
    },
    {
      "cell_type": "code",
      "metadata": {
        "id": "yTle329KAw19"
      },
      "source": [
        "#Hint: You may want to look at https://huggingface.co/transformers/main_classes/callback.html\n",
        "from transformers import Trainer\n",
        "from transformers import TrainingArguments\n",
        "\n",
        "co = DataCollatorWithPadding()\n",
        "\n",
        "def configure_model(num_train_epochs, num_hidden_layers, dropout, activation):\n",
        "  training_args = TrainingArguments(\"DAN\",\n",
        "                                    # YOUR CODE HERE\n",
        "                                    num_train_epochs=num_train_epochs, #must be at least 10.\n",
        "                                    per_device_train_batch_size=40,\n",
        "                                    per_device_eval_batch_size=40,\n",
        "                                    learning_rate=0.001,\n",
        "                                    # END YOUR END\n",
        "                    \n",
        "                                    save_total_limit=2,\n",
        "                                    log_level=\"error\",\n",
        "                                    evaluation_strategy=\"epoch\")\n",
        "  \n",
        "  model = DAN(num_hidden_layers, dropout, activation)    \n",
        "\n",
        "  trainer = Trainer(\n",
        "      model=model,\n",
        "      data_collator=co,\n",
        "      args=training_args,\n",
        "      callbacks = [\n",
        "                  # YOUR CODE HERE\n",
        "\n",
        "                  # END YOUR END\n",
        "      ],\n",
        "      train_dataset=small_train_dataset,\n",
        "      eval_dataset=small_eval_dataset,\n",
        "      compute_metrics=compute_metrics,\n",
        "  )\n",
        "  filename = f\"model_{num_train_epochs}_{num_hidden_layers}_{dropout}_{activation}\"\n",
        "  torch.save(model.state_dict(), f\"models/{filename}\")\n",
        "  return trainer\n"
      ],
      "execution_count": null,
      "outputs": []
    },
    {
      "cell_type": "code",
      "source": [
        "import matplotlib.pyplot as plt\n",
        "\n",
        "def plot_accuracy(num_train_epochs, trainer, title):\n",
        "  accuracies = []\n",
        "  for l in trainer.state.log_history:\n",
        "    if 'eval_accuracy' in l:\n",
        "      accuracies.append(l['eval_accuracy'])\n",
        "  epochs = range(1, num_train_epochs+1)\n",
        "  plt.plot(epochs, accuracies)\n",
        "  plt.xlabel(\"Epoch\")\n",
        "  plt.ylabel(\"Accuracy\")\n",
        "  plt.ylim([.70, .84])\n",
        "  plt.title(title)\n",
        "  plt.show()\n"
      ],
      "metadata": {
        "id": "RIs5IMCvU4-9"
      },
      "execution_count": null,
      "outputs": []
    },
    {
      "cell_type": "code",
      "source": [
        "def plot_by_slice(slice_data, slice_title, trainers):\n",
        "  accuracies = []\n",
        "  for t in trainers:\n",
        "    a = []\n",
        "    for l in t.state.log_history:\n",
        "      if 'eval_accuracy' in l:\n",
        "        a.append(l['eval_accuracy'])\n",
        "    accuracies.append(max(a))\n",
        "  plt.plot(slice_data, accuracies)\n",
        "  plt.xlabel(slice_title)\n",
        "  plt.ylabel(\"Accuracy\")\n",
        "  plt.ylim([.77, .84])\n",
        "  plt.title(f\"{slice_title} Accuracy\")\n",
        "  plt.show()"
      ],
      "metadata": {
        "id": "9QHyO5VN4qU4"
      },
      "execution_count": null,
      "outputs": []
    },
    {
      "cell_type": "code",
      "source": [
        "!mkdir models"
      ],
      "metadata": {
        "id": "-c-6QY-V927f"
      },
      "execution_count": null,
      "outputs": []
    },
    {
      "cell_type": "markdown",
      "source": [
        "## 5.b"
      ],
      "metadata": {
        "id": "uioWTWSrc-iF"
      }
    },
    {
      "cell_type": "code",
      "metadata": {
        "id": "1HvPThWvCq1F",
        "colab": {
          "base_uri": "https://localhost:8080/",
          "height": 1000
        },
        "outputId": "80c7bdda-b37c-4e27-ce0c-43891812af85"
      },
      "source": [
        "dropouts = [0, 0.1, 0.2, 0.3, 0.4, 0.5]\n",
        "do_trainers = []\n",
        "\n",
        "for d in dropouts:\n",
        "  num_train_epochs=25\n",
        "  num_hidden_layers=2\n",
        "  activation=\"ReLU\"\n",
        "  title = f\"epochs:{num_train_epochs}_hidden:{num_hidden_layers}_act:{activation}_do:{d}\"\n",
        "  trainer = configure_model(num_train_epochs=num_train_epochs, num_hidden_layers=num_hidden_layers, dropout=d, activation=nn.ReLU())\n",
        "  trainer.train()\n",
        "  do_trainers.append(trainer)"
      ],
      "execution_count": null,
      "outputs": [
        {
          "output_type": "stream",
          "name": "stdout",
          "text": [
            "{'loss': 0.5689, 'learning_rate': 0.000968, 'epoch': 0.8}\n",
            "{'eval_loss': 0.5802783370018005, 'eval_accuracy': 0.71868, 'eval_runtime': 11.266, 'eval_samples_per_second': 2219.058, 'eval_steps_per_second': 55.476, 'epoch': 1.0}\n",
            "{'loss': 0.5007, 'learning_rate': 0.0009360000000000001, 'epoch': 1.6}\n",
            "{'eval_loss': 0.4846876859664917, 'eval_accuracy': 0.81956, 'eval_runtime': 10.972, 'eval_samples_per_second': 2278.525, 'eval_steps_per_second': 56.963, 'epoch': 2.0}\n",
            "{'loss': 0.4981, 'learning_rate': 0.0009040000000000001, 'epoch': 2.4}\n",
            "{'eval_loss': 0.5180813074111938, 'eval_accuracy': 0.78536, 'eval_runtime': 11.1423, 'eval_samples_per_second': 2243.71, 'eval_steps_per_second': 56.093, 'epoch': 3.0}\n",
            "{'loss': 0.4979, 'learning_rate': 0.000872, 'epoch': 3.2}\n",
            "{'loss': 0.4837, 'learning_rate': 0.00084, 'epoch': 4.0}\n",
            "{'eval_loss': 0.49509289860725403, 'eval_accuracy': 0.80892, 'eval_runtime': 10.8294, 'eval_samples_per_second': 2308.527, 'eval_steps_per_second': 57.713, 'epoch': 4.0}\n",
            "{'loss': 0.4882, 'learning_rate': 0.000808, 'epoch': 4.8}\n",
            "{'eval_loss': 0.48215433955192566, 'eval_accuracy': 0.82208, 'eval_runtime': 10.9407, 'eval_samples_per_second': 2285.048, 'eval_steps_per_second': 57.126, 'epoch': 5.0}\n",
            "{'loss': 0.478, 'learning_rate': 0.000776, 'epoch': 5.6}\n",
            "{'eval_loss': 0.4805808961391449, 'eval_accuracy': 0.82372, 'eval_runtime': 11.5977, 'eval_samples_per_second': 2155.605, 'eval_steps_per_second': 53.89, 'epoch': 6.0}\n",
            "{'loss': 0.4746, 'learning_rate': 0.000744, 'epoch': 6.4}\n",
            "{'eval_loss': 0.47752130031585693, 'eval_accuracy': 0.82644, 'eval_runtime': 11.9593, 'eval_samples_per_second': 2090.416, 'eval_steps_per_second': 52.26, 'epoch': 7.0}\n",
            "{'loss': 0.4765, 'learning_rate': 0.000712, 'epoch': 7.2}\n",
            "{'loss': 0.4744, 'learning_rate': 0.00068, 'epoch': 8.0}\n",
            "{'eval_loss': 0.5220128893852234, 'eval_accuracy': 0.77804, 'eval_runtime': 12.1926, 'eval_samples_per_second': 2050.43, 'eval_steps_per_second': 51.261, 'epoch': 8.0}\n",
            "{'loss': 0.4742, 'learning_rate': 0.000648, 'epoch': 8.8}\n",
            "{'eval_loss': 0.47367438673973083, 'eval_accuracy': 0.83216, 'eval_runtime': 12.0317, 'eval_samples_per_second': 2077.843, 'eval_steps_per_second': 51.946, 'epoch': 9.0}\n",
            "{'loss': 0.4685, 'learning_rate': 0.000616, 'epoch': 9.6}\n",
            "{'eval_loss': 0.4723910689353943, 'eval_accuracy': 0.83164, 'eval_runtime': 12.0498, 'eval_samples_per_second': 2074.719, 'eval_steps_per_second': 51.868, 'epoch': 10.0}\n",
            "{'loss': 0.4723, 'learning_rate': 0.000584, 'epoch': 10.4}\n",
            "{'eval_loss': 0.4790169894695282, 'eval_accuracy': 0.82524, 'eval_runtime': 12.1332, 'eval_samples_per_second': 2060.463, 'eval_steps_per_second': 51.512, 'epoch': 11.0}\n",
            "{'loss': 0.4711, 'learning_rate': 0.0005520000000000001, 'epoch': 11.2}\n",
            "{'loss': 0.4687, 'learning_rate': 0.0005200000000000001, 'epoch': 12.0}\n",
            "{'eval_loss': 0.48198699951171875, 'eval_accuracy': 0.81936, 'eval_runtime': 12.3105, 'eval_samples_per_second': 2030.783, 'eval_steps_per_second': 50.77, 'epoch': 12.0}\n",
            "{'loss': 0.4695, 'learning_rate': 0.000488, 'epoch': 12.8}\n",
            "{'eval_loss': 0.49228012561798096, 'eval_accuracy': 0.81136, 'eval_runtime': 12.0887, 'eval_samples_per_second': 2068.048, 'eval_steps_per_second': 51.701, 'epoch': 13.0}\n",
            "{'loss': 0.4644, 'learning_rate': 0.000456, 'epoch': 13.6}\n",
            "{'eval_loss': 0.474056601524353, 'eval_accuracy': 0.82816, 'eval_runtime': 11.9527, 'eval_samples_per_second': 2091.581, 'eval_steps_per_second': 52.29, 'epoch': 14.0}\n",
            "{'loss': 0.4679, 'learning_rate': 0.000424, 'epoch': 14.4}\n",
            "{'eval_loss': 0.47901758551597595, 'eval_accuracy': 0.82648, 'eval_runtime': 12.0449, 'eval_samples_per_second': 2075.575, 'eval_steps_per_second': 51.889, 'epoch': 15.0}\n",
            "{'loss': 0.4651, 'learning_rate': 0.00039200000000000004, 'epoch': 15.2}\n",
            "{'loss': 0.464, 'learning_rate': 0.00035999999999999997, 'epoch': 16.0}\n",
            "{'eval_loss': 0.47296059131622314, 'eval_accuracy': 0.8308, 'eval_runtime': 12.0744, 'eval_samples_per_second': 2070.492, 'eval_steps_per_second': 51.762, 'epoch': 16.0}\n",
            "{'loss': 0.4641, 'learning_rate': 0.000328, 'epoch': 16.8}\n",
            "{'eval_loss': 0.47194793820381165, 'eval_accuracy': 0.83236, 'eval_runtime': 11.9945, 'eval_samples_per_second': 2084.288, 'eval_steps_per_second': 52.107, 'epoch': 17.0}\n",
            "{'loss': 0.4618, 'learning_rate': 0.000296, 'epoch': 17.6}\n",
            "{'eval_loss': 0.47635936737060547, 'eval_accuracy': 0.82872, 'eval_runtime': 12.0466, 'eval_samples_per_second': 2075.268, 'eval_steps_per_second': 51.882, 'epoch': 18.0}\n",
            "{'loss': 0.4632, 'learning_rate': 0.000264, 'epoch': 18.4}\n",
            "{'eval_loss': 0.4713466465473175, 'eval_accuracy': 0.83324, 'eval_runtime': 12.0521, 'eval_samples_per_second': 2074.319, 'eval_steps_per_second': 51.858, 'epoch': 19.0}\n",
            "{'loss': 0.459, 'learning_rate': 0.00023200000000000003, 'epoch': 19.2}\n",
            "{'loss': 0.4611, 'learning_rate': 0.0002, 'epoch': 20.0}\n",
            "{'eval_loss': 0.47148939967155457, 'eval_accuracy': 0.833, 'eval_runtime': 12.0278, 'eval_samples_per_second': 2078.524, 'eval_steps_per_second': 51.963, 'epoch': 20.0}\n",
            "{'loss': 0.4576, 'learning_rate': 0.00016800000000000002, 'epoch': 20.8}\n",
            "{'eval_loss': 0.4699511229991913, 'eval_accuracy': 0.83428, 'eval_runtime': 12.1051, 'eval_samples_per_second': 2065.242, 'eval_steps_per_second': 51.631, 'epoch': 21.0}\n",
            "{'loss': 0.4598, 'learning_rate': 0.00013600000000000003, 'epoch': 21.6}\n",
            "{'eval_loss': 0.47206076979637146, 'eval_accuracy': 0.83304, 'eval_runtime': 12.1517, 'eval_samples_per_second': 2057.328, 'eval_steps_per_second': 51.433, 'epoch': 22.0}\n",
            "{'loss': 0.4581, 'learning_rate': 0.000104, 'epoch': 22.4}\n",
            "{'eval_loss': 0.47020286321640015, 'eval_accuracy': 0.8332, 'eval_runtime': 11.9545, 'eval_samples_per_second': 2091.26, 'eval_steps_per_second': 52.281, 'epoch': 23.0}\n",
            "{'loss': 0.456, 'learning_rate': 7.2e-05, 'epoch': 23.2}\n",
            "{'loss': 0.4552, 'learning_rate': 4e-05, 'epoch': 24.0}\n",
            "{'eval_loss': 0.47032588720321655, 'eval_accuracy': 0.8348, 'eval_runtime': 12.0994, 'eval_samples_per_second': 2066.225, 'eval_steps_per_second': 51.656, 'epoch': 24.0}\n",
            "{'loss': 0.4571, 'learning_rate': 8e-06, 'epoch': 24.8}\n",
            "{'eval_loss': 0.4698238670825958, 'eval_accuracy': 0.83472, 'eval_runtime': 12.0023, 'eval_samples_per_second': 2082.937, 'eval_steps_per_second': 52.073, 'epoch': 25.0}\n",
            "{'train_runtime': 681.7246, 'train_samples_per_second': 916.792, 'train_steps_per_second': 22.92, 'train_loss': 0.47332069750976563, 'epoch': 25.0}\n"
          ]
        },
        {
          "output_type": "stream",
          "name": "stderr",
          "text": [
            "/usr/local/lib/python3.10/dist-packages/transformers/optimization.py:407: FutureWarning: This implementation of AdamW is deprecated and will be removed in a future version. Use the PyTorch implementation torch.optim.AdamW instead, or set `no_deprecation_warning=True` to disable this warning\n",
            "  warnings.warn(\n"
          ]
        },
        {
          "output_type": "stream",
          "name": "stdout",
          "text": [
            "{'loss': 0.5626, 'learning_rate': 0.000968, 'epoch': 0.8}\n",
            "{'eval_loss': 0.4951950013637543, 'eval_accuracy': 0.80912, 'eval_runtime': 11.9992, 'eval_samples_per_second': 2083.475, 'eval_steps_per_second': 52.087, 'epoch': 1.0}\n",
            "{'loss': 0.5012, 'learning_rate': 0.0009360000000000001, 'epoch': 1.6}\n",
            "{'eval_loss': 0.49351149797439575, 'eval_accuracy': 0.8098, 'eval_runtime': 12.0093, 'eval_samples_per_second': 2081.714, 'eval_steps_per_second': 52.043, 'epoch': 2.0}\n",
            "{'loss': 0.5067, 'learning_rate': 0.0009040000000000001, 'epoch': 2.4}\n",
            "{'eval_loss': 0.48968324065208435, 'eval_accuracy': 0.81484, 'eval_runtime': 11.9739, 'eval_samples_per_second': 2087.87, 'eval_steps_per_second': 52.197, 'epoch': 3.0}\n",
            "{'loss': 0.4952, 'learning_rate': 0.000872, 'epoch': 3.2}\n",
            "{'loss': 0.4902, 'learning_rate': 0.00084, 'epoch': 4.0}\n",
            "{'eval_loss': 0.4890108108520508, 'eval_accuracy': 0.81544, 'eval_runtime': 11.9789, 'eval_samples_per_second': 2086.997, 'eval_steps_per_second': 52.175, 'epoch': 4.0}\n",
            "{'loss': 0.4932, 'learning_rate': 0.000808, 'epoch': 4.8}\n",
            "{'eval_loss': 0.48585107922554016, 'eval_accuracy': 0.81828, 'eval_runtime': 11.9066, 'eval_samples_per_second': 2099.669, 'eval_steps_per_second': 52.492, 'epoch': 5.0}\n",
            "{'loss': 0.4828, 'learning_rate': 0.000776, 'epoch': 5.6}\n",
            "{'eval_loss': 0.497451514005661, 'eval_accuracy': 0.80664, 'eval_runtime': 11.9979, 'eval_samples_per_second': 2083.702, 'eval_steps_per_second': 52.093, 'epoch': 6.0}\n",
            "{'loss': 0.489, 'learning_rate': 0.000744, 'epoch': 6.4}\n",
            "{'eval_loss': 0.49693018198013306, 'eval_accuracy': 0.80532, 'eval_runtime': 11.8267, 'eval_samples_per_second': 2113.868, 'eval_steps_per_second': 52.847, 'epoch': 7.0}\n",
            "{'loss': 0.4857, 'learning_rate': 0.000712, 'epoch': 7.2}\n",
            "{'loss': 0.4819, 'learning_rate': 0.00068, 'epoch': 8.0}\n",
            "{'eval_loss': 0.4859303832054138, 'eval_accuracy': 0.81792, 'eval_runtime': 11.9451, 'eval_samples_per_second': 2092.907, 'eval_steps_per_second': 52.323, 'epoch': 8.0}\n",
            "{'loss': 0.4819, 'learning_rate': 0.000648, 'epoch': 8.8}\n",
            "{'eval_loss': 0.4819839894771576, 'eval_accuracy': 0.82172, 'eval_runtime': 11.8579, 'eval_samples_per_second': 2108.305, 'eval_steps_per_second': 52.708, 'epoch': 9.0}\n",
            "{'loss': 0.4773, 'learning_rate': 0.000616, 'epoch': 9.6}\n",
            "{'eval_loss': 0.48423248529434204, 'eval_accuracy': 0.82, 'eval_runtime': 11.5008, 'eval_samples_per_second': 2173.771, 'eval_steps_per_second': 54.344, 'epoch': 10.0}\n",
            "{'loss': 0.481, 'learning_rate': 0.000584, 'epoch': 10.4}\n",
            "{'eval_loss': 0.4890156388282776, 'eval_accuracy': 0.81256, 'eval_runtime': 10.8895, 'eval_samples_per_second': 2295.796, 'eval_steps_per_second': 57.395, 'epoch': 11.0}\n",
            "{'loss': 0.4757, 'learning_rate': 0.0005520000000000001, 'epoch': 11.2}\n",
            "{'loss': 0.4745, 'learning_rate': 0.0005200000000000001, 'epoch': 12.0}\n",
            "{'eval_loss': 0.4874197244644165, 'eval_accuracy': 0.81532, 'eval_runtime': 11.286, 'eval_samples_per_second': 2215.128, 'eval_steps_per_second': 55.378, 'epoch': 12.0}\n",
            "{'loss': 0.4739, 'learning_rate': 0.000488, 'epoch': 12.8}\n",
            "{'eval_loss': 0.4824970066547394, 'eval_accuracy': 0.82104, 'eval_runtime': 10.7425, 'eval_samples_per_second': 2327.21, 'eval_steps_per_second': 58.18, 'epoch': 13.0}\n",
            "{'loss': 0.4705, 'learning_rate': 0.000456, 'epoch': 13.6}\n",
            "{'eval_loss': 0.4784146845340729, 'eval_accuracy': 0.82408, 'eval_runtime': 10.8751, 'eval_samples_per_second': 2298.832, 'eval_steps_per_second': 57.471, 'epoch': 14.0}\n",
            "{'loss': 0.4731, 'learning_rate': 0.000424, 'epoch': 14.4}\n",
            "{'eval_loss': 0.47731029987335205, 'eval_accuracy': 0.82576, 'eval_runtime': 11.6297, 'eval_samples_per_second': 2149.669, 'eval_steps_per_second': 53.742, 'epoch': 15.0}\n",
            "{'loss': 0.4702, 'learning_rate': 0.00039200000000000004, 'epoch': 15.2}\n",
            "{'loss': 0.4695, 'learning_rate': 0.00035999999999999997, 'epoch': 16.0}\n",
            "{'eval_loss': 0.47887948155403137, 'eval_accuracy': 0.82576, 'eval_runtime': 11.4073, 'eval_samples_per_second': 2191.575, 'eval_steps_per_second': 54.789, 'epoch': 16.0}\n",
            "{'loss': 0.4697, 'learning_rate': 0.000328, 'epoch': 16.8}\n",
            "{'eval_loss': 0.479434996843338, 'eval_accuracy': 0.82428, 'eval_runtime': 11.0503, 'eval_samples_per_second': 2262.38, 'eval_steps_per_second': 56.559, 'epoch': 17.0}\n",
            "{'loss': 0.4678, 'learning_rate': 0.000296, 'epoch': 17.6}\n",
            "{'eval_loss': 0.48120948672294617, 'eval_accuracy': 0.82336, 'eval_runtime': 10.5514, 'eval_samples_per_second': 2369.348, 'eval_steps_per_second': 59.234, 'epoch': 18.0}\n",
            "{'loss': 0.4698, 'learning_rate': 0.000264, 'epoch': 18.4}\n",
            "{'eval_loss': 0.4765689969062805, 'eval_accuracy': 0.8266, 'eval_runtime': 11.3182, 'eval_samples_per_second': 2208.839, 'eval_steps_per_second': 55.221, 'epoch': 19.0}\n",
            "{'loss': 0.467, 'learning_rate': 0.00023200000000000003, 'epoch': 19.2}\n",
            "{'loss': 0.4667, 'learning_rate': 0.0002, 'epoch': 20.0}\n",
            "{'eval_loss': 0.4761509895324707, 'eval_accuracy': 0.82836, 'eval_runtime': 11.1709, 'eval_samples_per_second': 2237.967, 'eval_steps_per_second': 55.949, 'epoch': 20.0}\n",
            "{'loss': 0.4644, 'learning_rate': 0.00016800000000000002, 'epoch': 20.8}\n",
            "{'eval_loss': 0.4758281707763672, 'eval_accuracy': 0.82828, 'eval_runtime': 11.8877, 'eval_samples_per_second': 2103.016, 'eval_steps_per_second': 52.575, 'epoch': 21.0}\n",
            "{'loss': 0.4662, 'learning_rate': 0.00013600000000000003, 'epoch': 21.6}\n",
            "{'eval_loss': 0.47802281379699707, 'eval_accuracy': 0.82552, 'eval_runtime': 11.9126, 'eval_samples_per_second': 2098.624, 'eval_steps_per_second': 52.466, 'epoch': 22.0}\n",
            "{'loss': 0.4635, 'learning_rate': 0.000104, 'epoch': 22.4}\n",
            "{'eval_loss': 0.4738486707210541, 'eval_accuracy': 0.8306, 'eval_runtime': 11.9542, 'eval_samples_per_second': 2091.314, 'eval_steps_per_second': 52.283, 'epoch': 23.0}\n",
            "{'loss': 0.4638, 'learning_rate': 7.2e-05, 'epoch': 23.2}\n",
            "{'loss': 0.4627, 'learning_rate': 4e-05, 'epoch': 24.0}\n",
            "{'eval_loss': 0.47499993443489075, 'eval_accuracy': 0.82836, 'eval_runtime': 11.9658, 'eval_samples_per_second': 2089.29, 'eval_steps_per_second': 52.232, 'epoch': 24.0}\n",
            "{'loss': 0.4652, 'learning_rate': 8e-06, 'epoch': 24.8}\n",
            "{'eval_loss': 0.4748919606208801, 'eval_accuracy': 0.82876, 'eval_runtime': 11.9993, 'eval_samples_per_second': 2083.457, 'eval_steps_per_second': 52.086, 'epoch': 25.0}\n",
            "{'train_runtime': 676.6574, 'train_samples_per_second': 923.658, 'train_steps_per_second': 23.091, 'train_loss': 0.4792474567871094, 'epoch': 25.0}\n"
          ]
        },
        {
          "output_type": "stream",
          "name": "stderr",
          "text": [
            "/usr/local/lib/python3.10/dist-packages/transformers/optimization.py:407: FutureWarning: This implementation of AdamW is deprecated and will be removed in a future version. Use the PyTorch implementation torch.optim.AdamW instead, or set `no_deprecation_warning=True` to disable this warning\n",
            "  warnings.warn(\n"
          ]
        },
        {
          "output_type": "stream",
          "name": "stdout",
          "text": [
            "{'loss': 0.5694, 'learning_rate': 0.000968, 'epoch': 0.8}\n",
            "{'eval_loss': 0.5006513595581055, 'eval_accuracy': 0.80312, 'eval_runtime': 11.9128, 'eval_samples_per_second': 2098.574, 'eval_steps_per_second': 52.464, 'epoch': 1.0}\n",
            "{'loss': 0.5064, 'learning_rate': 0.0009360000000000001, 'epoch': 1.6}\n",
            "{'eval_loss': 0.5212997794151306, 'eval_accuracy': 0.78128, 'eval_runtime': 11.8352, 'eval_samples_per_second': 2112.34, 'eval_steps_per_second': 52.809, 'epoch': 2.0}\n",
            "{'loss': 0.5098, 'learning_rate': 0.0009040000000000001, 'epoch': 2.4}\n",
            "{'eval_loss': 0.4942399859428406, 'eval_accuracy': 0.81048, 'eval_runtime': 11.8459, 'eval_samples_per_second': 2110.439, 'eval_steps_per_second': 52.761, 'epoch': 3.0}\n",
            "{'loss': 0.5011, 'learning_rate': 0.000872, 'epoch': 3.2}\n",
            "{'loss': 0.4972, 'learning_rate': 0.00084, 'epoch': 4.0}\n",
            "{'eval_loss': 0.5062692761421204, 'eval_accuracy': 0.79576, 'eval_runtime': 11.8064, 'eval_samples_per_second': 2117.502, 'eval_steps_per_second': 52.938, 'epoch': 4.0}\n",
            "{'loss': 0.4973, 'learning_rate': 0.000808, 'epoch': 4.8}\n",
            "{'eval_loss': 0.5077440738677979, 'eval_accuracy': 0.7958, 'eval_runtime': 11.8877, 'eval_samples_per_second': 2103.011, 'eval_steps_per_second': 52.575, 'epoch': 5.0}\n",
            "{'loss': 0.4927, 'learning_rate': 0.000776, 'epoch': 5.6}\n",
            "{'eval_loss': 0.5053918957710266, 'eval_accuracy': 0.79512, 'eval_runtime': 11.8327, 'eval_samples_per_second': 2112.78, 'eval_steps_per_second': 52.82, 'epoch': 6.0}\n",
            "{'loss': 0.4917, 'learning_rate': 0.000744, 'epoch': 6.4}\n",
            "{'eval_loss': 0.513714611530304, 'eval_accuracy': 0.78596, 'eval_runtime': 11.9062, 'eval_samples_per_second': 2099.754, 'eval_steps_per_second': 52.494, 'epoch': 7.0}\n",
            "{'loss': 0.4918, 'learning_rate': 0.000712, 'epoch': 7.2}\n",
            "{'loss': 0.4869, 'learning_rate': 0.00068, 'epoch': 8.0}\n",
            "{'eval_loss': 0.49678128957748413, 'eval_accuracy': 0.80516, 'eval_runtime': 11.8751, 'eval_samples_per_second': 2105.252, 'eval_steps_per_second': 52.631, 'epoch': 8.0}\n",
            "{'loss': 0.485, 'learning_rate': 0.000648, 'epoch': 8.8}\n",
            "{'eval_loss': 0.4857169985771179, 'eval_accuracy': 0.81692, 'eval_runtime': 11.7957, 'eval_samples_per_second': 2119.424, 'eval_steps_per_second': 52.986, 'epoch': 9.0}\n",
            "{'loss': 0.4839, 'learning_rate': 0.000616, 'epoch': 9.6}\n",
            "{'eval_loss': 0.4872482717037201, 'eval_accuracy': 0.81328, 'eval_runtime': 11.847, 'eval_samples_per_second': 2110.245, 'eval_steps_per_second': 52.756, 'epoch': 10.0}\n",
            "{'loss': 0.482, 'learning_rate': 0.000584, 'epoch': 10.4}\n",
            "{'eval_loss': 0.48649850487709045, 'eval_accuracy': 0.81596, 'eval_runtime': 11.8588, 'eval_samples_per_second': 2108.142, 'eval_steps_per_second': 52.704, 'epoch': 11.0}\n",
            "{'loss': 0.4798, 'learning_rate': 0.0005520000000000001, 'epoch': 11.2}\n",
            "{'loss': 0.481, 'learning_rate': 0.0005200000000000001, 'epoch': 12.0}\n",
            "{'eval_loss': 0.5001697540283203, 'eval_accuracy': 0.80144, 'eval_runtime': 11.9216, 'eval_samples_per_second': 2097.033, 'eval_steps_per_second': 52.426, 'epoch': 12.0}\n",
            "{'loss': 0.4808, 'learning_rate': 0.000488, 'epoch': 12.8}\n",
            "{'eval_loss': 0.5025964975357056, 'eval_accuracy': 0.79768, 'eval_runtime': 11.7835, 'eval_samples_per_second': 2121.606, 'eval_steps_per_second': 53.04, 'epoch': 13.0}\n",
            "{'loss': 0.4753, 'learning_rate': 0.000456, 'epoch': 13.6}\n",
            "{'eval_loss': 0.5075103044509888, 'eval_accuracy': 0.79324, 'eval_runtime': 11.9043, 'eval_samples_per_second': 2100.084, 'eval_steps_per_second': 52.502, 'epoch': 14.0}\n",
            "{'loss': 0.4782, 'learning_rate': 0.000424, 'epoch': 14.4}\n",
            "{'eval_loss': 0.483941912651062, 'eval_accuracy': 0.8184, 'eval_runtime': 11.9926, 'eval_samples_per_second': 2084.615, 'eval_steps_per_second': 52.115, 'epoch': 15.0}\n",
            "{'loss': 0.4785, 'learning_rate': 0.00039200000000000004, 'epoch': 15.2}\n",
            "{'loss': 0.4744, 'learning_rate': 0.00035999999999999997, 'epoch': 16.0}\n",
            "{'eval_loss': 0.4827532172203064, 'eval_accuracy': 0.82072, 'eval_runtime': 12.0523, 'eval_samples_per_second': 2074.297, 'eval_steps_per_second': 51.857, 'epoch': 16.0}\n",
            "{'loss': 0.4778, 'learning_rate': 0.000328, 'epoch': 16.8}\n",
            "{'eval_loss': 0.48263174295425415, 'eval_accuracy': 0.82012, 'eval_runtime': 11.9045, 'eval_samples_per_second': 2100.043, 'eval_steps_per_second': 52.501, 'epoch': 17.0}\n",
            "{'loss': 0.4742, 'learning_rate': 0.000296, 'epoch': 17.6}\n",
            "{'eval_loss': 0.49250367283821106, 'eval_accuracy': 0.81016, 'eval_runtime': 11.5563, 'eval_samples_per_second': 2163.323, 'eval_steps_per_second': 54.083, 'epoch': 18.0}\n",
            "{'loss': 0.4761, 'learning_rate': 0.000264, 'epoch': 18.4}\n",
            "{'eval_loss': 0.4834606349468231, 'eval_accuracy': 0.81948, 'eval_runtime': 10.6848, 'eval_samples_per_second': 2339.773, 'eval_steps_per_second': 58.494, 'epoch': 19.0}\n",
            "{'loss': 0.4732, 'learning_rate': 0.00023200000000000003, 'epoch': 19.2}\n",
            "{'loss': 0.474, 'learning_rate': 0.0002, 'epoch': 20.0}\n",
            "{'eval_loss': 0.48298582434654236, 'eval_accuracy': 0.82068, 'eval_runtime': 11.3028, 'eval_samples_per_second': 2211.84, 'eval_steps_per_second': 55.296, 'epoch': 20.0}\n",
            "{'loss': 0.4714, 'learning_rate': 0.00016800000000000002, 'epoch': 20.8}\n",
            "{'eval_loss': 0.48041027784347534, 'eval_accuracy': 0.8228, 'eval_runtime': 13.982, 'eval_samples_per_second': 1788.01, 'eval_steps_per_second': 44.7, 'epoch': 21.0}\n",
            "{'loss': 0.4719, 'learning_rate': 0.00013600000000000003, 'epoch': 21.6}\n",
            "{'eval_loss': 0.4837963283061981, 'eval_accuracy': 0.81952, 'eval_runtime': 11.6672, 'eval_samples_per_second': 2142.754, 'eval_steps_per_second': 53.569, 'epoch': 22.0}\n",
            "{'loss': 0.469, 'learning_rate': 0.000104, 'epoch': 22.4}\n",
            "{'eval_loss': 0.4796845018863678, 'eval_accuracy': 0.82312, 'eval_runtime': 11.7354, 'eval_samples_per_second': 2130.299, 'eval_steps_per_second': 53.257, 'epoch': 23.0}\n",
            "{'loss': 0.4695, 'learning_rate': 7.2e-05, 'epoch': 23.2}\n",
            "{'loss': 0.469, 'learning_rate': 4e-05, 'epoch': 24.0}\n",
            "{'eval_loss': 0.4805702269077301, 'eval_accuracy': 0.823, 'eval_runtime': 12.0204, 'eval_samples_per_second': 2079.791, 'eval_steps_per_second': 51.995, 'epoch': 24.0}\n",
            "{'loss': 0.4719, 'learning_rate': 8e-06, 'epoch': 24.8}\n",
            "{'eval_loss': 0.48159223794937134, 'eval_accuracy': 0.8226, 'eval_runtime': 11.9706, 'eval_samples_per_second': 2088.449, 'eval_steps_per_second': 52.211, 'epoch': 25.0}\n",
            "{'train_runtime': 684.6278, 'train_samples_per_second': 912.905, 'train_steps_per_second': 22.823, 'train_loss': 0.48501567700195314, 'epoch': 25.0}\n"
          ]
        },
        {
          "output_type": "stream",
          "name": "stderr",
          "text": [
            "/usr/local/lib/python3.10/dist-packages/transformers/optimization.py:407: FutureWarning: This implementation of AdamW is deprecated and will be removed in a future version. Use the PyTorch implementation torch.optim.AdamW instead, or set `no_deprecation_warning=True` to disable this warning\n",
            "  warnings.warn(\n"
          ]
        },
        {
          "output_type": "stream",
          "name": "stdout",
          "text": [
            "{'loss': 0.5729, 'learning_rate': 0.000968, 'epoch': 0.8}\n",
            "{'eval_loss': 0.5072635412216187, 'eval_accuracy': 0.79568, 'eval_runtime': 11.8347, 'eval_samples_per_second': 2112.433, 'eval_steps_per_second': 52.811, 'epoch': 1.0}\n",
            "{'loss': 0.5204, 'learning_rate': 0.0009360000000000001, 'epoch': 1.6}\n",
            "{'eval_loss': 0.501420795917511, 'eval_accuracy': 0.80288, 'eval_runtime': 11.8286, 'eval_samples_per_second': 2113.522, 'eval_steps_per_second': 52.838, 'epoch': 2.0}\n",
            "{'loss': 0.5137, 'learning_rate': 0.0009040000000000001, 'epoch': 2.4}\n",
            "{'eval_loss': 0.5156015753746033, 'eval_accuracy': 0.7852, 'eval_runtime': 11.7582, 'eval_samples_per_second': 2126.172, 'eval_steps_per_second': 53.154, 'epoch': 3.0}\n",
            "{'loss': 0.5081, 'learning_rate': 0.000872, 'epoch': 3.2}\n",
            "{'loss': 0.5024, 'learning_rate': 0.00084, 'epoch': 4.0}\n",
            "{'eval_loss': 0.5218493342399597, 'eval_accuracy': 0.78132, 'eval_runtime': 11.8348, 'eval_samples_per_second': 2112.409, 'eval_steps_per_second': 52.81, 'epoch': 4.0}\n",
            "{'loss': 0.5001, 'learning_rate': 0.000808, 'epoch': 4.8}\n",
            "{'eval_loss': 0.5003737211227417, 'eval_accuracy': 0.80228, 'eval_runtime': 11.8783, 'eval_samples_per_second': 2104.68, 'eval_steps_per_second': 52.617, 'epoch': 5.0}\n",
            "{'loss': 0.4977, 'learning_rate': 0.000776, 'epoch': 5.6}\n",
            "{'eval_loss': 0.5066588521003723, 'eval_accuracy': 0.79192, 'eval_runtime': 11.8003, 'eval_samples_per_second': 2118.589, 'eval_steps_per_second': 52.965, 'epoch': 6.0}\n",
            "{'loss': 0.489, 'learning_rate': 0.000744, 'epoch': 6.4}\n",
            "{'eval_loss': 0.4962001144886017, 'eval_accuracy': 0.80596, 'eval_runtime': 11.8033, 'eval_samples_per_second': 2118.045, 'eval_steps_per_second': 52.951, 'epoch': 7.0}\n",
            "{'loss': 0.4983, 'learning_rate': 0.000712, 'epoch': 7.2}\n",
            "{'loss': 0.4913, 'learning_rate': 0.00068, 'epoch': 8.0}\n",
            "{'eval_loss': 0.4927053153514862, 'eval_accuracy': 0.81108, 'eval_runtime': 11.8321, 'eval_samples_per_second': 2112.893, 'eval_steps_per_second': 52.822, 'epoch': 8.0}\n",
            "{'loss': 0.4911, 'learning_rate': 0.000648, 'epoch': 8.8}\n",
            "{'eval_loss': 0.4944187104701996, 'eval_accuracy': 0.80732, 'eval_runtime': 11.7588, 'eval_samples_per_second': 2126.075, 'eval_steps_per_second': 53.152, 'epoch': 9.0}\n",
            "{'loss': 0.4887, 'learning_rate': 0.000616, 'epoch': 9.6}\n",
            "{'eval_loss': 0.4896182715892792, 'eval_accuracy': 0.8134, 'eval_runtime': 11.7216, 'eval_samples_per_second': 2132.824, 'eval_steps_per_second': 53.321, 'epoch': 10.0}\n",
            "{'loss': 0.4872, 'learning_rate': 0.000584, 'epoch': 10.4}\n",
            "{'eval_loss': 0.49969327449798584, 'eval_accuracy': 0.80048, 'eval_runtime': 11.8543, 'eval_samples_per_second': 2108.938, 'eval_steps_per_second': 52.723, 'epoch': 11.0}\n",
            "{'loss': 0.4871, 'learning_rate': 0.0005520000000000001, 'epoch': 11.2}\n",
            "{'loss': 0.4882, 'learning_rate': 0.0005200000000000001, 'epoch': 12.0}\n",
            "{'eval_loss': 0.5041933655738831, 'eval_accuracy': 0.79672, 'eval_runtime': 11.5246, 'eval_samples_per_second': 2169.267, 'eval_steps_per_second': 54.232, 'epoch': 12.0}\n",
            "{'loss': 0.486, 'learning_rate': 0.000488, 'epoch': 12.8}\n",
            "{'eval_loss': 0.4958087205886841, 'eval_accuracy': 0.80684, 'eval_runtime': 11.9872, 'eval_samples_per_second': 2085.562, 'eval_steps_per_second': 52.139, 'epoch': 13.0}\n",
            "{'loss': 0.4828, 'learning_rate': 0.000456, 'epoch': 13.6}\n",
            "{'eval_loss': 0.5027217864990234, 'eval_accuracy': 0.79708, 'eval_runtime': 11.82, 'eval_samples_per_second': 2115.066, 'eval_steps_per_second': 52.877, 'epoch': 14.0}\n",
            "{'loss': 0.4868, 'learning_rate': 0.000424, 'epoch': 14.4}\n",
            "{'eval_loss': 0.4890221953392029, 'eval_accuracy': 0.81196, 'eval_runtime': 11.8294, 'eval_samples_per_second': 2113.373, 'eval_steps_per_second': 52.834, 'epoch': 15.0}\n",
            "{'loss': 0.485, 'learning_rate': 0.00039200000000000004, 'epoch': 15.2}\n",
            "{'loss': 0.483, 'learning_rate': 0.00035999999999999997, 'epoch': 16.0}\n",
            "{'eval_loss': 0.4923749268054962, 'eval_accuracy': 0.80868, 'eval_runtime': 11.7926, 'eval_samples_per_second': 2119.972, 'eval_steps_per_second': 52.999, 'epoch': 16.0}\n",
            "{'loss': 0.4841, 'learning_rate': 0.000328, 'epoch': 16.8}\n",
            "{'eval_loss': 0.48808932304382324, 'eval_accuracy': 0.81424, 'eval_runtime': 11.7089, 'eval_samples_per_second': 2135.135, 'eval_steps_per_second': 53.378, 'epoch': 17.0}\n",
            "{'loss': 0.4826, 'learning_rate': 0.000296, 'epoch': 17.6}\n",
            "{'eval_loss': 0.5067781209945679, 'eval_accuracy': 0.79132, 'eval_runtime': 11.747, 'eval_samples_per_second': 2128.206, 'eval_steps_per_second': 53.205, 'epoch': 18.0}\n",
            "{'loss': 0.4829, 'learning_rate': 0.000264, 'epoch': 18.4}\n",
            "{'eval_loss': 0.4898335635662079, 'eval_accuracy': 0.8112, 'eval_runtime': 11.7473, 'eval_samples_per_second': 2128.147, 'eval_steps_per_second': 53.204, 'epoch': 19.0}\n",
            "{'loss': 0.4805, 'learning_rate': 0.00023200000000000003, 'epoch': 19.2}\n",
            "{'loss': 0.4806, 'learning_rate': 0.0002, 'epoch': 20.0}\n",
            "{'eval_loss': 0.4900301694869995, 'eval_accuracy': 0.81212, 'eval_runtime': 11.8152, 'eval_samples_per_second': 2115.921, 'eval_steps_per_second': 52.898, 'epoch': 20.0}\n",
            "{'loss': 0.4768, 'learning_rate': 0.00016800000000000002, 'epoch': 20.8}\n",
            "{'eval_loss': 0.4871443808078766, 'eval_accuracy': 0.8142, 'eval_runtime': 11.8121, 'eval_samples_per_second': 2116.466, 'eval_steps_per_second': 52.912, 'epoch': 21.0}\n",
            "{'loss': 0.4788, 'learning_rate': 0.00013600000000000003, 'epoch': 21.6}\n",
            "{'eval_loss': 0.49034613370895386, 'eval_accuracy': 0.8116, 'eval_runtime': 11.8118, 'eval_samples_per_second': 2116.53, 'eval_steps_per_second': 52.913, 'epoch': 22.0}\n",
            "{'loss': 0.4763, 'learning_rate': 0.000104, 'epoch': 22.4}\n",
            "{'eval_loss': 0.48619934916496277, 'eval_accuracy': 0.81596, 'eval_runtime': 11.788, 'eval_samples_per_second': 2120.809, 'eval_steps_per_second': 53.02, 'epoch': 23.0}\n",
            "{'loss': 0.4764, 'learning_rate': 7.2e-05, 'epoch': 23.2}\n",
            "{'loss': 0.4764, 'learning_rate': 4e-05, 'epoch': 24.0}\n",
            "{'eval_loss': 0.4876066744327545, 'eval_accuracy': 0.81368, 'eval_runtime': 11.9212, 'eval_samples_per_second': 2097.101, 'eval_steps_per_second': 52.428, 'epoch': 24.0}\n",
            "{'loss': 0.479, 'learning_rate': 8e-06, 'epoch': 24.8}\n",
            "{'eval_loss': 0.4886868894100189, 'eval_accuracy': 0.81296, 'eval_runtime': 11.6075, 'eval_samples_per_second': 2153.775, 'eval_steps_per_second': 53.844, 'epoch': 25.0}\n",
            "{'train_runtime': 681.5583, 'train_samples_per_second': 917.016, 'train_steps_per_second': 22.925, 'train_loss': 0.49125997387695314, 'epoch': 25.0}\n"
          ]
        },
        {
          "output_type": "stream",
          "name": "stderr",
          "text": [
            "/usr/local/lib/python3.10/dist-packages/transformers/optimization.py:407: FutureWarning: This implementation of AdamW is deprecated and will be removed in a future version. Use the PyTorch implementation torch.optim.AdamW instead, or set `no_deprecation_warning=True` to disable this warning\n",
            "  warnings.warn(\n"
          ]
        },
        {
          "output_type": "stream",
          "name": "stdout",
          "text": [
            "{'loss': 0.5786, 'learning_rate': 0.000968, 'epoch': 0.8}\n",
            "{'eval_loss': 0.514853298664093, 'eval_accuracy': 0.78616, 'eval_runtime': 11.827, 'eval_samples_per_second': 2113.806, 'eval_steps_per_second': 52.845, 'epoch': 1.0}\n",
            "{'loss': 0.5157, 'learning_rate': 0.0009360000000000001, 'epoch': 1.6}\n",
            "{'eval_loss': 0.5561536550521851, 'eval_accuracy': 0.74436, 'eval_runtime': 11.4197, 'eval_samples_per_second': 2189.196, 'eval_steps_per_second': 54.73, 'epoch': 2.0}\n",
            "{'loss': 0.5243, 'learning_rate': 0.0009040000000000001, 'epoch': 2.4}\n",
            "{'eval_loss': 0.5259444713592529, 'eval_accuracy': 0.77652, 'eval_runtime': 10.6361, 'eval_samples_per_second': 2350.477, 'eval_steps_per_second': 58.762, 'epoch': 3.0}\n",
            "{'loss': 0.5108, 'learning_rate': 0.000872, 'epoch': 3.2}\n",
            "{'loss': 0.5108, 'learning_rate': 0.00084, 'epoch': 4.0}\n",
            "{'eval_loss': 0.5188289284706116, 'eval_accuracy': 0.78312, 'eval_runtime': 11.245, 'eval_samples_per_second': 2223.218, 'eval_steps_per_second': 55.58, 'epoch': 4.0}\n",
            "{'loss': 0.509, 'learning_rate': 0.000808, 'epoch': 4.8}\n",
            "{'eval_loss': 0.5303599238395691, 'eval_accuracy': 0.76988, 'eval_runtime': 10.6339, 'eval_samples_per_second': 2350.972, 'eval_steps_per_second': 58.774, 'epoch': 5.0}\n",
            "{'loss': 0.5067, 'learning_rate': 0.000776, 'epoch': 5.6}\n",
            "{'eval_loss': 0.5060389041900635, 'eval_accuracy': 0.79676, 'eval_runtime': 10.7605, 'eval_samples_per_second': 2323.303, 'eval_steps_per_second': 58.083, 'epoch': 6.0}\n",
            "{'loss': 0.5059, 'learning_rate': 0.000744, 'epoch': 6.4}\n",
            "{'eval_loss': 0.505014955997467, 'eval_accuracy': 0.79596, 'eval_runtime': 11.3362, 'eval_samples_per_second': 2205.315, 'eval_steps_per_second': 55.133, 'epoch': 7.0}\n",
            "{'loss': 0.5073, 'learning_rate': 0.000712, 'epoch': 7.2}\n",
            "{'loss': 0.5016, 'learning_rate': 0.00068, 'epoch': 8.0}\n",
            "{'eval_loss': 0.502199113368988, 'eval_accuracy': 0.79856, 'eval_runtime': 11.2532, 'eval_samples_per_second': 2221.589, 'eval_steps_per_second': 55.54, 'epoch': 8.0}\n",
            "{'loss': 0.5005, 'learning_rate': 0.000648, 'epoch': 8.8}\n",
            "{'eval_loss': 0.50303715467453, 'eval_accuracy': 0.79708, 'eval_runtime': 11.8499, 'eval_samples_per_second': 2109.729, 'eval_steps_per_second': 52.743, 'epoch': 9.0}\n",
            "{'loss': 0.499, 'learning_rate': 0.000616, 'epoch': 9.6}\n",
            "{'eval_loss': 0.49998632073402405, 'eval_accuracy': 0.80208, 'eval_runtime': 12.2131, 'eval_samples_per_second': 2046.989, 'eval_steps_per_second': 51.175, 'epoch': 10.0}\n",
            "{'loss': 0.4961, 'learning_rate': 0.000584, 'epoch': 10.4}\n",
            "{'eval_loss': 0.5003325939178467, 'eval_accuracy': 0.80056, 'eval_runtime': 12.017, 'eval_samples_per_second': 2080.387, 'eval_steps_per_second': 52.01, 'epoch': 11.0}\n",
            "{'loss': 0.4976, 'learning_rate': 0.0005520000000000001, 'epoch': 11.2}\n",
            "{'loss': 0.4958, 'learning_rate': 0.0005200000000000001, 'epoch': 12.0}\n",
            "{'eval_loss': 0.5069548487663269, 'eval_accuracy': 0.7918, 'eval_runtime': 11.9359, 'eval_samples_per_second': 2094.518, 'eval_steps_per_second': 52.363, 'epoch': 12.0}\n",
            "{'loss': 0.4944, 'learning_rate': 0.000488, 'epoch': 12.8}\n",
            "{'eval_loss': 0.5092577934265137, 'eval_accuracy': 0.79068, 'eval_runtime': 12.0145, 'eval_samples_per_second': 2080.816, 'eval_steps_per_second': 52.02, 'epoch': 13.0}\n",
            "{'loss': 0.4919, 'learning_rate': 0.000456, 'epoch': 13.6}\n",
            "{'eval_loss': 0.5000742077827454, 'eval_accuracy': 0.80016, 'eval_runtime': 12.1887, 'eval_samples_per_second': 2051.077, 'eval_steps_per_second': 51.277, 'epoch': 14.0}\n",
            "{'loss': 0.4976, 'learning_rate': 0.000424, 'epoch': 14.4}\n",
            "{'eval_loss': 0.4965139329433441, 'eval_accuracy': 0.80392, 'eval_runtime': 12.0474, 'eval_samples_per_second': 2075.137, 'eval_steps_per_second': 51.878, 'epoch': 15.0}\n",
            "{'loss': 0.4908, 'learning_rate': 0.00039200000000000004, 'epoch': 15.2}\n",
            "{'loss': 0.4914, 'learning_rate': 0.00035999999999999997, 'epoch': 16.0}\n",
            "{'eval_loss': 0.49565526843070984, 'eval_accuracy': 0.80464, 'eval_runtime': 12.1278, 'eval_samples_per_second': 2061.388, 'eval_steps_per_second': 51.535, 'epoch': 16.0}\n",
            "{'loss': 0.4913, 'learning_rate': 0.000328, 'epoch': 16.8}\n",
            "{'eval_loss': 0.5035880208015442, 'eval_accuracy': 0.79876, 'eval_runtime': 12.1562, 'eval_samples_per_second': 2056.556, 'eval_steps_per_second': 51.414, 'epoch': 17.0}\n",
            "{'loss': 0.4898, 'learning_rate': 0.000296, 'epoch': 17.6}\n",
            "{'eval_loss': 0.5194718241691589, 'eval_accuracy': 0.78092, 'eval_runtime': 11.9152, 'eval_samples_per_second': 2098.168, 'eval_steps_per_second': 52.454, 'epoch': 18.0}\n",
            "{'loss': 0.4921, 'learning_rate': 0.000264, 'epoch': 18.4}\n",
            "{'eval_loss': 0.49924030900001526, 'eval_accuracy': 0.80092, 'eval_runtime': 11.8044, 'eval_samples_per_second': 2117.85, 'eval_steps_per_second': 52.946, 'epoch': 19.0}\n",
            "{'loss': 0.4904, 'learning_rate': 0.00023200000000000003, 'epoch': 19.2}\n",
            "{'loss': 0.489, 'learning_rate': 0.0002, 'epoch': 20.0}\n",
            "{'eval_loss': 0.49829694628715515, 'eval_accuracy': 0.80332, 'eval_runtime': 11.0087, 'eval_samples_per_second': 2270.931, 'eval_steps_per_second': 56.773, 'epoch': 20.0}\n",
            "{'loss': 0.4848, 'learning_rate': 0.00016800000000000002, 'epoch': 20.8}\n",
            "{'eval_loss': 0.5000126361846924, 'eval_accuracy': 0.80048, 'eval_runtime': 11.6722, 'eval_samples_per_second': 2141.84, 'eval_steps_per_second': 53.546, 'epoch': 21.0}\n",
            "{'loss': 0.4883, 'learning_rate': 0.00013600000000000003, 'epoch': 21.6}\n",
            "{'eval_loss': 0.4975276291370392, 'eval_accuracy': 0.80572, 'eval_runtime': 11.813, 'eval_samples_per_second': 2116.316, 'eval_steps_per_second': 52.908, 'epoch': 22.0}\n",
            "{'loss': 0.4853, 'learning_rate': 0.000104, 'epoch': 22.4}\n",
            "{'eval_loss': 0.4943809509277344, 'eval_accuracy': 0.80756, 'eval_runtime': 11.907, 'eval_samples_per_second': 2099.597, 'eval_steps_per_second': 52.49, 'epoch': 23.0}\n",
            "{'loss': 0.485, 'learning_rate': 7.2e-05, 'epoch': 23.2}\n",
            "{'loss': 0.4847, 'learning_rate': 4e-05, 'epoch': 24.0}\n",
            "{'eval_loss': 0.49486011266708374, 'eval_accuracy': 0.80596, 'eval_runtime': 11.0096, 'eval_samples_per_second': 2270.743, 'eval_steps_per_second': 56.769, 'epoch': 24.0}\n",
            "{'loss': 0.4897, 'learning_rate': 8e-06, 'epoch': 24.8}\n",
            "{'eval_loss': 0.4957261085510254, 'eval_accuracy': 0.80576, 'eval_runtime': 10.5431, 'eval_samples_per_second': 2371.23, 'eval_steps_per_second': 59.281, 'epoch': 25.0}\n",
            "{'train_runtime': 684.7048, 'train_samples_per_second': 912.802, 'train_steps_per_second': 22.82, 'train_loss': 0.4997194938964844, 'epoch': 25.0}\n"
          ]
        },
        {
          "output_type": "stream",
          "name": "stderr",
          "text": [
            "/usr/local/lib/python3.10/dist-packages/transformers/optimization.py:407: FutureWarning: This implementation of AdamW is deprecated and will be removed in a future version. Use the PyTorch implementation torch.optim.AdamW instead, or set `no_deprecation_warning=True` to disable this warning\n",
            "  warnings.warn(\n"
          ]
        },
        {
          "output_type": "stream",
          "name": "stdout",
          "text": [
            "{'loss': 0.5854, 'learning_rate': 0.000968, 'epoch': 0.8}\n",
            "{'eval_loss': 0.5442653298377991, 'eval_accuracy': 0.7528, 'eval_runtime': 10.5455, 'eval_samples_per_second': 2370.671, 'eval_steps_per_second': 59.267, 'epoch': 1.0}\n",
            "{'loss': 0.5305, 'learning_rate': 0.0009360000000000001, 'epoch': 1.6}\n",
            "{'eval_loss': 0.5336672067642212, 'eval_accuracy': 0.76724, 'eval_runtime': 10.9261, 'eval_samples_per_second': 2288.106, 'eval_steps_per_second': 57.203, 'epoch': 2.0}\n",
            "{'loss': 0.5338, 'learning_rate': 0.0009040000000000001, 'epoch': 2.4}\n",
            "{'eval_loss': 0.5521189570426941, 'eval_accuracy': 0.74732, 'eval_runtime': 11.6341, 'eval_samples_per_second': 2148.86, 'eval_steps_per_second': 53.722, 'epoch': 3.0}\n",
            "{'loss': 0.5219, 'learning_rate': 0.000872, 'epoch': 3.2}\n",
            "{'loss': 0.5205, 'learning_rate': 0.00084, 'epoch': 4.0}\n",
            "{'eval_loss': 0.518530011177063, 'eval_accuracy': 0.7822, 'eval_runtime': 11.4003, 'eval_samples_per_second': 2192.927, 'eval_steps_per_second': 54.823, 'epoch': 4.0}\n",
            "{'loss': 0.5181, 'learning_rate': 0.000808, 'epoch': 4.8}\n",
            "{'eval_loss': 0.5176084637641907, 'eval_accuracy': 0.78296, 'eval_runtime': 11.8637, 'eval_samples_per_second': 2107.268, 'eval_steps_per_second': 52.682, 'epoch': 5.0}\n",
            "{'loss': 0.5129, 'learning_rate': 0.000776, 'epoch': 5.6}\n",
            "{'eval_loss': 0.5130142569541931, 'eval_accuracy': 0.78768, 'eval_runtime': 11.7358, 'eval_samples_per_second': 2130.233, 'eval_steps_per_second': 53.256, 'epoch': 6.0}\n",
            "{'loss': 0.511, 'learning_rate': 0.000744, 'epoch': 6.4}\n",
            "{'eval_loss': 0.5140361189842224, 'eval_accuracy': 0.78764, 'eval_runtime': 11.8542, 'eval_samples_per_second': 2108.954, 'eval_steps_per_second': 52.724, 'epoch': 7.0}\n",
            "{'loss': 0.5153, 'learning_rate': 0.000712, 'epoch': 7.2}\n",
            "{'loss': 0.5072, 'learning_rate': 0.00068, 'epoch': 8.0}\n",
            "{'eval_loss': 0.5150684118270874, 'eval_accuracy': 0.78592, 'eval_runtime': 12.0993, 'eval_samples_per_second': 2066.242, 'eval_steps_per_second': 51.656, 'epoch': 8.0}\n",
            "{'loss': 0.5092, 'learning_rate': 0.000648, 'epoch': 8.8}\n",
            "{'eval_loss': 0.5096048712730408, 'eval_accuracy': 0.79208, 'eval_runtime': 11.7768, 'eval_samples_per_second': 2122.821, 'eval_steps_per_second': 53.071, 'epoch': 9.0}\n",
            "{'loss': 0.5089, 'learning_rate': 0.000616, 'epoch': 9.6}\n",
            "{'eval_loss': 0.5080094933509827, 'eval_accuracy': 0.7934, 'eval_runtime': 11.9048, 'eval_samples_per_second': 2100.001, 'eval_steps_per_second': 52.5, 'epoch': 10.0}\n",
            "{'loss': 0.505, 'learning_rate': 0.000584, 'epoch': 10.4}\n",
            "{'eval_loss': 0.5112887024879456, 'eval_accuracy': 0.78788, 'eval_runtime': 12.1133, 'eval_samples_per_second': 2063.845, 'eval_steps_per_second': 51.596, 'epoch': 11.0}\n",
            "{'loss': 0.5055, 'learning_rate': 0.0005520000000000001, 'epoch': 11.2}\n",
            "{'loss': 0.5047, 'learning_rate': 0.0005200000000000001, 'epoch': 12.0}\n",
            "{'loss': 0.5034, 'learning_rate': 0.000488, 'epoch': 12.8}\n",
            "{'eval_loss': 0.5261940360069275, 'eval_accuracy': 0.76912, 'eval_runtime': 11.9926, 'eval_samples_per_second': 2084.618, 'eval_steps_per_second': 52.115, 'epoch': 13.0}\n",
            "{'loss': 0.501, 'learning_rate': 0.000456, 'epoch': 13.6}\n",
            "{'eval_loss': 0.5082982182502747, 'eval_accuracy': 0.79132, 'eval_runtime': 12.0511, 'eval_samples_per_second': 2074.498, 'eval_steps_per_second': 51.862, 'epoch': 14.0}\n",
            "{'loss': 0.5035, 'learning_rate': 0.000424, 'epoch': 14.4}\n",
            "{'eval_loss': 0.5075452327728271, 'eval_accuracy': 0.79388, 'eval_runtime': 12.0644, 'eval_samples_per_second': 2072.219, 'eval_steps_per_second': 51.805, 'epoch': 15.0}\n",
            "{'loss': 0.5031, 'learning_rate': 0.00039200000000000004, 'epoch': 15.2}\n",
            "{'loss': 0.5037, 'learning_rate': 0.00035999999999999997, 'epoch': 16.0}\n",
            "{'eval_loss': 0.5061537623405457, 'eval_accuracy': 0.79404, 'eval_runtime': 11.944, 'eval_samples_per_second': 2093.095, 'eval_steps_per_second': 52.327, 'epoch': 16.0}\n",
            "{'loss': 0.5005, 'learning_rate': 0.000328, 'epoch': 16.8}\n",
            "{'eval_loss': 0.5162472128868103, 'eval_accuracy': 0.78136, 'eval_runtime': 11.8833, 'eval_samples_per_second': 2103.784, 'eval_steps_per_second': 52.595, 'epoch': 17.0}\n",
            "{'loss': 0.4991, 'learning_rate': 0.000296, 'epoch': 17.6}\n",
            "{'eval_loss': 0.5083535313606262, 'eval_accuracy': 0.79092, 'eval_runtime': 11.9172, 'eval_samples_per_second': 2097.806, 'eval_steps_per_second': 52.445, 'epoch': 18.0}\n",
            "{'loss': 0.5023, 'learning_rate': 0.000264, 'epoch': 18.4}\n",
            "{'eval_loss': 0.5069670081138611, 'eval_accuracy': 0.79192, 'eval_runtime': 12.0752, 'eval_samples_per_second': 2070.363, 'eval_steps_per_second': 51.759, 'epoch': 19.0}\n",
            "{'loss': 0.499, 'learning_rate': 0.00023200000000000003, 'epoch': 19.2}\n",
            "{'loss': 0.4985, 'learning_rate': 0.0002, 'epoch': 20.0}\n",
            "{'eval_loss': 0.5052474141120911, 'eval_accuracy': 0.79628, 'eval_runtime': 11.9986, 'eval_samples_per_second': 2083.577, 'eval_steps_per_second': 52.089, 'epoch': 20.0}\n",
            "{'loss': 0.4953, 'learning_rate': 0.00016800000000000002, 'epoch': 20.8}\n",
            "{'eval_loss': 0.5061402320861816, 'eval_accuracy': 0.79468, 'eval_runtime': 12.1608, 'eval_samples_per_second': 2055.787, 'eval_steps_per_second': 51.395, 'epoch': 21.0}\n",
            "{'loss': 0.4981, 'learning_rate': 0.00013600000000000003, 'epoch': 21.6}\n",
            "{'eval_loss': 0.5057141184806824, 'eval_accuracy': 0.7954, 'eval_runtime': 11.9115, 'eval_samples_per_second': 2098.804, 'eval_steps_per_second': 52.47, 'epoch': 22.0}\n",
            "{'loss': 0.496, 'learning_rate': 0.000104, 'epoch': 22.4}\n",
            "{'eval_loss': 0.503167986869812, 'eval_accuracy': 0.7994, 'eval_runtime': 11.7525, 'eval_samples_per_second': 2127.2, 'eval_steps_per_second': 53.18, 'epoch': 23.0}\n",
            "{'loss': 0.4953, 'learning_rate': 7.2e-05, 'epoch': 23.2}\n",
            "{'loss': 0.4942, 'learning_rate': 4e-05, 'epoch': 24.0}\n",
            "{'eval_loss': 0.5046676397323608, 'eval_accuracy': 0.79516, 'eval_runtime': 11.7771, 'eval_samples_per_second': 2122.768, 'eval_steps_per_second': 53.069, 'epoch': 24.0}\n",
            "{'loss': 0.5013, 'learning_rate': 8e-06, 'epoch': 24.8}\n",
            "{'eval_loss': 0.5036126375198364, 'eval_accuracy': 0.79812, 'eval_runtime': 11.2442, 'eval_samples_per_second': 2223.364, 'eval_steps_per_second': 55.584, 'epoch': 25.0}\n",
            "{'train_runtime': 678.6551, 'train_samples_per_second': 920.939, 'train_steps_per_second': 23.023, 'train_loss': 0.5090282133789062, 'epoch': 25.0}\n"
          ]
        },
        {
          "output_type": "display_data",
          "data": {
            "text/plain": [
              "<Figure size 640x480 with 1 Axes>"
            ],
            "image/png": "[encoded data removed]"
          },
          "metadata": {}
        }
      ]
    },
    {
      "cell_type": "code",
      "source": [
        "plot_by_slice(dropouts, \"Dropout\", do_trainers)"
      ],
      "metadata": {
        "colab": {
          "base_uri": "https://localhost:8080/",
          "height": 472
        },
        "id": "w87CpoBdjJ8e",
        "outputId": "edb0ba43-28bf-45be-e3a1-50f9169406ee"
      },
      "execution_count": null,
      "outputs": [
        {
          "output_type": "display_data",
          "data": {
            "text/plain": [
              "<Figure size 640x480 with 1 Axes>"
            ],
            "image/png": "[encoded data removed]"
          },
          "metadata": {}
        }
      ]
    },
    {
      "cell_type": "markdown",
      "source": [
        "## 5.c"
      ],
      "metadata": {
        "id": "XgPkf3sndAWG"
      }
    },
    {
      "cell_type": "code",
      "source": [
        "hidden_layers = list(range(0, 4))\n",
        "  \n",
        "hl_trainers = []\n",
        "for h in hidden_layers: \n",
        "  num_train_epochs=25\n",
        "  num_hidden_layers=h\n",
        "  activation=\"ReLU\"\n",
        "  title = f\"epochs:{num_train_epochs}_hidden:{h}_act:{activation}_do:{0}\"\n",
        "  trainer = configure_model(num_train_epochs=num_train_epochs, num_hidden_layers=num_hidden_layers, dropout=0, activation=nn.ReLU())\n",
        "  trainer.train()\n",
        "  hl_trainers.append(trainer)\n",
        "\n",
        "plot_by_slice(hidden_layers, \"Hidden Layers\", hl_trainers)"
      ],
      "metadata": {
        "id": "PBnj2OraThQx",
        "colab": {
          "base_uri": "https://localhost:8080/",
          "height": 1000
        },
        "outputId": "8cbcd22b-1e24-451b-a5f5-ff620d233e94"
      },
      "execution_count": null,
      "outputs": [
        {
          "output_type": "stream",
          "name": "stderr",
          "text": [
            "/usr/local/lib/python3.10/dist-packages/transformers/optimization.py:407: FutureWarning: This implementation of AdamW is deprecated and will be removed in a future version. Use the PyTorch implementation torch.optim.AdamW instead, or set `no_deprecation_warning=True` to disable this warning\n",
            "  warnings.warn(\n"
          ]
        },
        {
          "output_type": "stream",
          "name": "stdout",
          "text": [
            "{'loss': 0.6125, 'learning_rate': 0.000968, 'epoch': 0.8}\n",
            "{'eval_loss': 0.5350884199142456, 'eval_accuracy': 0.79372, 'eval_runtime': 13.3648, 'eval_samples_per_second': 1870.579, 'eval_steps_per_second': 46.764, 'epoch': 1.0}\n",
            "{'loss': 0.5235, 'learning_rate': 0.0009360000000000001, 'epoch': 1.6}\n",
            "{'eval_loss': 0.5051016807556152, 'eval_accuracy': 0.80964, 'eval_runtime': 12.218, 'eval_samples_per_second': 2046.17, 'eval_steps_per_second': 51.154, 'epoch': 2.0}\n",
            "{'loss': 0.5069, 'learning_rate': 0.0009040000000000001, 'epoch': 2.4}\n",
            "{'eval_loss': 0.5124723315238953, 'eval_accuracy': 0.79384, 'eval_runtime': 12.2979, 'eval_samples_per_second': 2032.872, 'eval_steps_per_second': 50.822, 'epoch': 3.0}\n",
            "{'loss': 0.4961, 'learning_rate': 0.000872, 'epoch': 3.2}\n",
            "{'loss': 0.49, 'learning_rate': 0.00084, 'epoch': 4.0}\n",
            "{'eval_loss': 0.4896445572376251, 'eval_accuracy': 0.81884, 'eval_runtime': 12.357, 'eval_samples_per_second': 2023.148, 'eval_steps_per_second': 50.579, 'epoch': 4.0}\n",
            "{'loss': 0.4862, 'learning_rate': 0.000808, 'epoch': 4.8}\n",
            "{'eval_loss': 0.48837941884994507, 'eval_accuracy': 0.82068, 'eval_runtime': 12.8835, 'eval_samples_per_second': 1940.47, 'eval_steps_per_second': 48.512, 'epoch': 5.0}\n",
            "{'loss': 0.482, 'learning_rate': 0.000776, 'epoch': 5.6}\n",
            "{'eval_loss': 0.48990026116371155, 'eval_accuracy': 0.81864, 'eval_runtime': 12.4072, 'eval_samples_per_second': 2014.96, 'eval_steps_per_second': 50.374, 'epoch': 6.0}\n",
            "{'loss': 0.4776, 'learning_rate': 0.000744, 'epoch': 6.4}\n",
            "{'eval_loss': 0.4822765290737152, 'eval_accuracy': 0.8248, 'eval_runtime': 12.3364, 'eval_samples_per_second': 2026.522, 'eval_steps_per_second': 50.663, 'epoch': 7.0}\n",
            "{'loss': 0.4825, 'learning_rate': 0.000712, 'epoch': 7.2}\n",
            "{'loss': 0.4764, 'learning_rate': 0.00068, 'epoch': 8.0}\n",
            "{'eval_loss': 0.4817500710487366, 'eval_accuracy': 0.82436, 'eval_runtime': 12.3139, 'eval_samples_per_second': 2030.229, 'eval_steps_per_second': 50.756, 'epoch': 8.0}\n",
            "{'loss': 0.4772, 'learning_rate': 0.000648, 'epoch': 8.8}\n",
            "{'eval_loss': 0.47971996665000916, 'eval_accuracy': 0.8274, 'eval_runtime': 13.4247, 'eval_samples_per_second': 1862.245, 'eval_steps_per_second': 46.556, 'epoch': 9.0}\n",
            "{'loss': 0.4732, 'learning_rate': 0.000616, 'epoch': 9.6}\n",
            "{'eval_loss': 0.4812014400959015, 'eval_accuracy': 0.82524, 'eval_runtime': 12.197, 'eval_samples_per_second': 2049.677, 'eval_steps_per_second': 51.242, 'epoch': 10.0}\n",
            "{'loss': 0.4729, 'learning_rate': 0.000584, 'epoch': 10.4}\n",
            "{'eval_loss': 0.4790666699409485, 'eval_accuracy': 0.8276, 'eval_runtime': 12.9638, 'eval_samples_per_second': 1928.454, 'eval_steps_per_second': 48.211, 'epoch': 11.0}\n",
            "{'loss': 0.4739, 'learning_rate': 0.0005520000000000001, 'epoch': 11.2}\n",
            "{'loss': 0.4728, 'learning_rate': 0.0005200000000000001, 'epoch': 12.0}\n",
            "{'eval_loss': 0.48047876358032227, 'eval_accuracy': 0.82528, 'eval_runtime': 24.3977, 'eval_samples_per_second': 1024.685, 'eval_steps_per_second': 25.617, 'epoch': 12.0}\n",
            "{'loss': 0.4719, 'learning_rate': 0.000488, 'epoch': 12.8}\n",
            "{'eval_loss': 0.4878825843334198, 'eval_accuracy': 0.81644, 'eval_runtime': 11.8813, 'eval_samples_per_second': 2104.139, 'eval_steps_per_second': 52.603, 'epoch': 13.0}\n",
            "{'loss': 0.4684, 'learning_rate': 0.000456, 'epoch': 13.6}\n",
            "{'eval_loss': 0.4775135815143585, 'eval_accuracy': 0.8286, 'eval_runtime': 12.1694, 'eval_samples_per_second': 2054.338, 'eval_steps_per_second': 51.358, 'epoch': 14.0}\n",
            "{'loss': 0.472, 'learning_rate': 0.000424, 'epoch': 14.4}\n",
            "{'eval_loss': 0.4766564965248108, 'eval_accuracy': 0.82928, 'eval_runtime': 15.0611, 'eval_samples_per_second': 1659.902, 'eval_steps_per_second': 41.498, 'epoch': 15.0}\n",
            "{'loss': 0.4691, 'learning_rate': 0.00039200000000000004, 'epoch': 15.2}\n",
            "{'loss': 0.4692, 'learning_rate': 0.00035999999999999997, 'epoch': 16.0}\n",
            "{'eval_loss': 0.47599223256111145, 'eval_accuracy': 0.8298, 'eval_runtime': 11.6386, 'eval_samples_per_second': 2148.03, 'eval_steps_per_second': 53.701, 'epoch': 16.0}\n",
            "{'loss': 0.4681, 'learning_rate': 0.000328, 'epoch': 16.8}\n",
            "{'eval_loss': 0.47697800397872925, 'eval_accuracy': 0.82856, 'eval_runtime': 11.1181, 'eval_samples_per_second': 2248.578, 'eval_steps_per_second': 56.214, 'epoch': 17.0}\n",
            "{'loss': 0.4676, 'learning_rate': 0.000296, 'epoch': 17.6}\n",
            "{'eval_loss': 0.4767817556858063, 'eval_accuracy': 0.8296, 'eval_runtime': 11.0559, 'eval_samples_per_second': 2261.233, 'eval_steps_per_second': 56.531, 'epoch': 18.0}\n",
            "{'loss': 0.4685, 'learning_rate': 0.000264, 'epoch': 18.4}\n",
            "{'eval_loss': 0.47522440552711487, 'eval_accuracy': 0.83092, 'eval_runtime': 11.2659, 'eval_samples_per_second': 2219.095, 'eval_steps_per_second': 55.477, 'epoch': 19.0}\n",
            "{'loss': 0.4659, 'learning_rate': 0.00023200000000000003, 'epoch': 19.2}\n",
            "{'loss': 0.4678, 'learning_rate': 0.0002, 'epoch': 20.0}\n",
            "{'eval_loss': 0.4769064784049988, 'eval_accuracy': 0.82772, 'eval_runtime': 11.111, 'eval_samples_per_second': 2250.023, 'eval_steps_per_second': 56.251, 'epoch': 20.0}\n",
            "{'loss': 0.4657, 'learning_rate': 0.00016800000000000002, 'epoch': 20.8}\n",
            "{'eval_loss': 0.47530168294906616, 'eval_accuracy': 0.83152, 'eval_runtime': 11.3552, 'eval_samples_per_second': 2201.627, 'eval_steps_per_second': 55.041, 'epoch': 21.0}\n",
            "{'loss': 0.4673, 'learning_rate': 0.00013600000000000003, 'epoch': 21.6}\n",
            "{'eval_loss': 0.4756176471710205, 'eval_accuracy': 0.83056, 'eval_runtime': 11.6966, 'eval_samples_per_second': 2137.366, 'eval_steps_per_second': 53.434, 'epoch': 22.0}\n",
            "{'loss': 0.4666, 'learning_rate': 0.000104, 'epoch': 22.4}\n",
            "{'eval_loss': 0.475004643201828, 'eval_accuracy': 0.83044, 'eval_runtime': 12.3325, 'eval_samples_per_second': 2027.159, 'eval_steps_per_second': 50.679, 'epoch': 23.0}\n",
            "{'loss': 0.4647, 'learning_rate': 7.2e-05, 'epoch': 23.2}\n",
            "{'loss': 0.4653, 'learning_rate': 4e-05, 'epoch': 24.0}\n",
            "{'eval_loss': 0.4750916063785553, 'eval_accuracy': 0.83036, 'eval_runtime': 11.9899, 'eval_samples_per_second': 2085.092, 'eval_steps_per_second': 52.127, 'epoch': 24.0}\n",
            "{'loss': 0.4678, 'learning_rate': 8e-06, 'epoch': 24.8}\n",
            "{'eval_loss': 0.47504255175590515, 'eval_accuracy': 0.83036, 'eval_runtime': 12.2788, 'eval_samples_per_second': 2036.026, 'eval_steps_per_second': 50.901, 'epoch': 25.0}\n",
            "{'train_runtime': 721.87, 'train_samples_per_second': 865.807, 'train_steps_per_second': 21.645, 'train_loss': 0.48011213012695314, 'epoch': 25.0}\n"
          ]
        },
        {
          "output_type": "stream",
          "name": "stderr",
          "text": [
            "/usr/local/lib/python3.10/dist-packages/transformers/optimization.py:407: FutureWarning: This implementation of AdamW is deprecated and will be removed in a future version. Use the PyTorch implementation torch.optim.AdamW instead, or set `no_deprecation_warning=True` to disable this warning\n",
            "  warnings.warn(\n"
          ]
        },
        {
          "output_type": "stream",
          "name": "stdout",
          "text": [
            "{'loss': 0.5694, 'learning_rate': 0.000968, 'epoch': 0.8}\n",
            "{'eval_loss': 0.4948839843273163, 'eval_accuracy': 0.811, 'eval_runtime': 11.0805, 'eval_samples_per_second': 2256.218, 'eval_steps_per_second': 56.405, 'epoch': 1.0}\n",
            "{'loss': 0.4959, 'learning_rate': 0.0009360000000000001, 'epoch': 1.6}\n",
            "{'eval_loss': 0.5020118951797485, 'eval_accuracy': 0.80192, 'eval_runtime': 11.4406, 'eval_samples_per_second': 2185.198, 'eval_steps_per_second': 54.63, 'epoch': 2.0}\n",
            "{'loss': 0.4959, 'learning_rate': 0.0009040000000000001, 'epoch': 2.4}\n",
            "{'eval_loss': 0.523392915725708, 'eval_accuracy': 0.77948, 'eval_runtime': 12.0075, 'eval_samples_per_second': 2082.028, 'eval_steps_per_second': 52.051, 'epoch': 3.0}\n",
            "{'loss': 0.4884, 'learning_rate': 0.000872, 'epoch': 3.2}\n",
            "{'loss': 0.4811, 'learning_rate': 0.00084, 'epoch': 4.0}\n",
            "{'eval_loss': 0.4811305105686188, 'eval_accuracy': 0.82408, 'eval_runtime': 11.5793, 'eval_samples_per_second': 2159.029, 'eval_steps_per_second': 53.976, 'epoch': 4.0}\n",
            "{'loss': 0.4859, 'learning_rate': 0.000808, 'epoch': 4.8}\n",
            "{'eval_loss': 0.4804786741733551, 'eval_accuracy': 0.82516, 'eval_runtime': 11.7419, 'eval_samples_per_second': 2129.119, 'eval_steps_per_second': 53.228, 'epoch': 5.0}\n",
            "{'loss': 0.4808, 'learning_rate': 0.000776, 'epoch': 5.6}\n",
            "{'eval_loss': 0.49106156826019287, 'eval_accuracy': 0.81272, 'eval_runtime': 12.1293, 'eval_samples_per_second': 2061.117, 'eval_steps_per_second': 51.528, 'epoch': 6.0}\n",
            "{'loss': 0.4785, 'learning_rate': 0.000744, 'epoch': 6.4}\n",
            "{'eval_loss': 0.4795190095901489, 'eval_accuracy': 0.8258, 'eval_runtime': 12.0649, 'eval_samples_per_second': 2072.121, 'eval_steps_per_second': 51.803, 'epoch': 7.0}\n",
            "{'loss': 0.4775, 'learning_rate': 0.000712, 'epoch': 7.2}\n",
            "{'loss': 0.4752, 'learning_rate': 0.00068, 'epoch': 8.0}\n",
            "{'eval_loss': 0.47957441210746765, 'eval_accuracy': 0.82528, 'eval_runtime': 12.0076, 'eval_samples_per_second': 2082.007, 'eval_steps_per_second': 52.05, 'epoch': 8.0}\n",
            "{'loss': 0.4754, 'learning_rate': 0.000648, 'epoch': 8.8}\n",
            "{'eval_loss': 0.47562968730926514, 'eval_accuracy': 0.82988, 'eval_runtime': 12.1635, 'eval_samples_per_second': 2055.335, 'eval_steps_per_second': 51.383, 'epoch': 9.0}\n",
            "{'loss': 0.4754, 'learning_rate': 0.000616, 'epoch': 9.6}\n",
            "{'eval_loss': 0.48216235637664795, 'eval_accuracy': 0.8234, 'eval_runtime': 12.0561, 'eval_samples_per_second': 2073.634, 'eval_steps_per_second': 51.841, 'epoch': 10.0}\n",
            "{'loss': 0.4725, 'learning_rate': 0.000584, 'epoch': 10.4}\n",
            "{'eval_loss': 0.47629883885383606, 'eval_accuracy': 0.82764, 'eval_runtime': 12.0695, 'eval_samples_per_second': 2071.343, 'eval_steps_per_second': 51.784, 'epoch': 11.0}\n",
            "{'loss': 0.4742, 'learning_rate': 0.0005520000000000001, 'epoch': 11.2}\n",
            "{'loss': 0.4724, 'learning_rate': 0.0005200000000000001, 'epoch': 12.0}\n",
            "{'eval_loss': 0.4774830937385559, 'eval_accuracy': 0.82636, 'eval_runtime': 12.1575, 'eval_samples_per_second': 2056.35, 'eval_steps_per_second': 51.409, 'epoch': 12.0}\n",
            "{'loss': 0.474, 'learning_rate': 0.000488, 'epoch': 12.8}\n",
            "{'eval_loss': 0.48126518726348877, 'eval_accuracy': 0.82304, 'eval_runtime': 12.1309, 'eval_samples_per_second': 2060.847, 'eval_steps_per_second': 51.521, 'epoch': 13.0}\n",
            "{'loss': 0.4666, 'learning_rate': 0.000456, 'epoch': 13.6}\n",
            "{'eval_loss': 0.47678688168525696, 'eval_accuracy': 0.829, 'eval_runtime': 12.2139, 'eval_samples_per_second': 2046.842, 'eval_steps_per_second': 51.171, 'epoch': 14.0}\n",
            "{'loss': 0.471, 'learning_rate': 0.000424, 'epoch': 14.4}\n",
            "{'eval_loss': 0.4776829779148102, 'eval_accuracy': 0.82832, 'eval_runtime': 12.1986, 'eval_samples_per_second': 2049.416, 'eval_steps_per_second': 51.235, 'epoch': 15.0}\n",
            "{'loss': 0.4685, 'learning_rate': 0.00039200000000000004, 'epoch': 15.2}\n",
            "{'loss': 0.4659, 'learning_rate': 0.00035999999999999997, 'epoch': 16.0}\n",
            "{'eval_loss': 0.47685009241104126, 'eval_accuracy': 0.82868, 'eval_runtime': 12.2748, 'eval_samples_per_second': 2036.687, 'eval_steps_per_second': 50.917, 'epoch': 16.0}\n",
            "{'loss': 0.4669, 'learning_rate': 0.000328, 'epoch': 16.8}\n",
            "{'eval_loss': 0.47476309537887573, 'eval_accuracy': 0.8306, 'eval_runtime': 12.424, 'eval_samples_per_second': 2012.241, 'eval_steps_per_second': 50.306, 'epoch': 17.0}\n",
            "{'loss': 0.4637, 'learning_rate': 0.000296, 'epoch': 17.6}\n",
            "{'eval_loss': 0.4739256203174591, 'eval_accuracy': 0.83284, 'eval_runtime': 12.207, 'eval_samples_per_second': 2048.013, 'eval_steps_per_second': 51.2, 'epoch': 18.0}\n",
            "{'loss': 0.4669, 'learning_rate': 0.000264, 'epoch': 18.4}\n",
            "{'eval_loss': 0.47261932492256165, 'eval_accuracy': 0.83244, 'eval_runtime': 12.5465, 'eval_samples_per_second': 1992.586, 'eval_steps_per_second': 49.815, 'epoch': 19.0}\n",
            "{'loss': 0.4613, 'learning_rate': 0.00023200000000000003, 'epoch': 19.2}\n",
            "{'loss': 0.4637, 'learning_rate': 0.0002, 'epoch': 20.0}\n",
            "{'eval_loss': 0.4751601219177246, 'eval_accuracy': 0.82908, 'eval_runtime': 12.7985, 'eval_samples_per_second': 1953.347, 'eval_steps_per_second': 48.834, 'epoch': 20.0}\n",
            "{'loss': 0.4608, 'learning_rate': 0.00016800000000000002, 'epoch': 20.8}\n",
            "{'eval_loss': 0.4719885587692261, 'eval_accuracy': 0.83392, 'eval_runtime': 12.2525, 'eval_samples_per_second': 2040.408, 'eval_steps_per_second': 51.01, 'epoch': 21.0}\n",
            "{'loss': 0.4615, 'learning_rate': 0.00013600000000000003, 'epoch': 21.6}\n",
            "{'eval_loss': 0.4761604368686676, 'eval_accuracy': 0.83008, 'eval_runtime': 12.0652, 'eval_samples_per_second': 2072.08, 'eval_steps_per_second': 51.802, 'epoch': 22.0}\n",
            "{'loss': 0.4612, 'learning_rate': 0.000104, 'epoch': 22.4}\n",
            "{'eval_loss': 0.4721109867095947, 'eval_accuracy': 0.83328, 'eval_runtime': 12.3523, 'eval_samples_per_second': 2023.914, 'eval_steps_per_second': 50.598, 'epoch': 23.0}\n",
            "{'loss': 0.4589, 'learning_rate': 7.2e-05, 'epoch': 23.2}\n",
            "{'loss': 0.4586, 'learning_rate': 4e-05, 'epoch': 24.0}\n",
            "{'eval_loss': 0.4718417525291443, 'eval_accuracy': 0.83284, 'eval_runtime': 11.9403, 'eval_samples_per_second': 2093.753, 'eval_steps_per_second': 52.344, 'epoch': 24.0}\n",
            "{'loss': 0.4605, 'learning_rate': 8e-06, 'epoch': 24.8}\n",
            "{'eval_loss': 0.4715019464492798, 'eval_accuracy': 0.83376, 'eval_runtime': 12.39, 'eval_samples_per_second': 2017.76, 'eval_steps_per_second': 50.444, 'epoch': 25.0}\n",
            "{'train_runtime': 692.7007, 'train_samples_per_second': 902.266, 'train_steps_per_second': 22.557, 'train_loss': 0.4749063171386719, 'epoch': 25.0}\n"
          ]
        },
        {
          "output_type": "stream",
          "name": "stderr",
          "text": [
            "/usr/local/lib/python3.10/dist-packages/transformers/optimization.py:407: FutureWarning: This implementation of AdamW is deprecated and will be removed in a future version. Use the PyTorch implementation torch.optim.AdamW instead, or set `no_deprecation_warning=True` to disable this warning\n",
            "  warnings.warn(\n"
          ]
        },
        {
          "output_type": "stream",
          "name": "stdout",
          "text": [
            "{'loss': 0.5609, 'learning_rate': 0.000968, 'epoch': 0.8}\n",
            "{'eval_loss': 0.49765563011169434, 'eval_accuracy': 0.80516, 'eval_runtime': 11.3229, 'eval_samples_per_second': 2207.918, 'eval_steps_per_second': 55.198, 'epoch': 1.0}\n",
            "{'loss': 0.4998, 'learning_rate': 0.0009360000000000001, 'epoch': 1.6}\n",
            "{'eval_loss': 0.49553555250167847, 'eval_accuracy': 0.80808, 'eval_runtime': 11.7096, 'eval_samples_per_second': 2135.009, 'eval_steps_per_second': 53.375, 'epoch': 2.0}\n",
            "{'loss': 0.501, 'learning_rate': 0.0009040000000000001, 'epoch': 2.4}\n",
            "{'eval_loss': 0.523464560508728, 'eval_accuracy': 0.77956, 'eval_runtime': 11.4128, 'eval_samples_per_second': 2190.52, 'eval_steps_per_second': 54.763, 'epoch': 3.0}\n",
            "{'loss': 0.4956, 'learning_rate': 0.000872, 'epoch': 3.2}\n",
            "{'loss': 0.4863, 'learning_rate': 0.00084, 'epoch': 4.0}\n",
            "{'eval_loss': 0.4943045377731323, 'eval_accuracy': 0.80904, 'eval_runtime': 12.331, 'eval_samples_per_second': 2027.41, 'eval_steps_per_second': 50.685, 'epoch': 4.0}\n",
            "{'loss': 0.4887, 'learning_rate': 0.000808, 'epoch': 4.8}\n",
            "{'eval_loss': 0.4809902608394623, 'eval_accuracy': 0.82456, 'eval_runtime': 11.9957, 'eval_samples_per_second': 2084.077, 'eval_steps_per_second': 52.102, 'epoch': 5.0}\n",
            "{'loss': 0.484, 'learning_rate': 0.000776, 'epoch': 5.6}\n",
            "{'eval_loss': 0.47761449217796326, 'eval_accuracy': 0.8266, 'eval_runtime': 12.0136, 'eval_samples_per_second': 2080.966, 'eval_steps_per_second': 52.024, 'epoch': 6.0}\n",
            "{'loss': 0.4773, 'learning_rate': 0.000744, 'epoch': 6.4}\n",
            "{'eval_loss': 0.4895934462547302, 'eval_accuracy': 0.81456, 'eval_runtime': 11.9249, 'eval_samples_per_second': 2096.461, 'eval_steps_per_second': 52.412, 'epoch': 7.0}\n",
            "{'loss': 0.4799, 'learning_rate': 0.000712, 'epoch': 7.2}\n",
            "{'loss': 0.4755, 'learning_rate': 0.00068, 'epoch': 8.0}\n",
            "{'eval_loss': 0.49431735277175903, 'eval_accuracy': 0.80916, 'eval_runtime': 12.4207, 'eval_samples_per_second': 2012.765, 'eval_steps_per_second': 50.319, 'epoch': 8.0}\n",
            "{'loss': 0.4787, 'learning_rate': 0.000648, 'epoch': 8.8}\n",
            "{'eval_loss': 0.4771359860897064, 'eval_accuracy': 0.82692, 'eval_runtime': 12.2923, 'eval_samples_per_second': 2033.787, 'eval_steps_per_second': 50.845, 'epoch': 9.0}\n",
            "{'loss': 0.4748, 'learning_rate': 0.000616, 'epoch': 9.6}\n",
            "{'eval_loss': 0.477733314037323, 'eval_accuracy': 0.8252, 'eval_runtime': 12.158, 'eval_samples_per_second': 2056.256, 'eval_steps_per_second': 51.406, 'epoch': 10.0}\n",
            "{'loss': 0.4715, 'learning_rate': 0.000584, 'epoch': 10.4}\n",
            "{'eval_loss': 0.4759218692779541, 'eval_accuracy': 0.82836, 'eval_runtime': 12.3066, 'eval_samples_per_second': 2031.425, 'eval_steps_per_second': 50.786, 'epoch': 11.0}\n",
            "{'loss': 0.4717, 'learning_rate': 0.0005520000000000001, 'epoch': 11.2}\n",
            "{'loss': 0.4717, 'learning_rate': 0.0005200000000000001, 'epoch': 12.0}\n",
            "{'eval_loss': 0.4871574640274048, 'eval_accuracy': 0.81564, 'eval_runtime': 12.3379, 'eval_samples_per_second': 2026.272, 'eval_steps_per_second': 50.657, 'epoch': 12.0}\n",
            "{'loss': 0.4711, 'learning_rate': 0.000488, 'epoch': 12.8}\n",
            "{'eval_loss': 0.4819222390651703, 'eval_accuracy': 0.82232, 'eval_runtime': 12.5465, 'eval_samples_per_second': 1992.58, 'eval_steps_per_second': 49.814, 'epoch': 13.0}\n",
            "{'loss': 0.4649, 'learning_rate': 0.000456, 'epoch': 13.6}\n",
            "{'eval_loss': 0.47564518451690674, 'eval_accuracy': 0.82724, 'eval_runtime': 12.4988, 'eval_samples_per_second': 2000.198, 'eval_steps_per_second': 50.005, 'epoch': 14.0}\n",
            "{'loss': 0.4682, 'learning_rate': 0.000424, 'epoch': 14.4}\n",
            "{'eval_loss': 0.4750727713108063, 'eval_accuracy': 0.8292, 'eval_runtime': 12.4647, 'eval_samples_per_second': 2005.669, 'eval_steps_per_second': 50.142, 'epoch': 15.0}\n",
            "{'loss': 0.4644, 'learning_rate': 0.00039200000000000004, 'epoch': 15.2}\n",
            "{'loss': 0.4645, 'learning_rate': 0.00035999999999999997, 'epoch': 16.0}\n",
            "{'eval_loss': 0.4746273159980774, 'eval_accuracy': 0.82948, 'eval_runtime': 12.4755, 'eval_samples_per_second': 2003.924, 'eval_steps_per_second': 50.098, 'epoch': 16.0}\n",
            "{'loss': 0.465, 'learning_rate': 0.000328, 'epoch': 16.8}\n",
            "{'eval_loss': 0.4712027311325073, 'eval_accuracy': 0.83324, 'eval_runtime': 12.2917, 'eval_samples_per_second': 2033.892, 'eval_steps_per_second': 50.847, 'epoch': 17.0}\n",
            "{'loss': 0.462, 'learning_rate': 0.000296, 'epoch': 17.6}\n",
            "{'eval_loss': 0.4737818241119385, 'eval_accuracy': 0.83024, 'eval_runtime': 12.3096, 'eval_samples_per_second': 2030.934, 'eval_steps_per_second': 50.773, 'epoch': 18.0}\n",
            "{'loss': 0.4634, 'learning_rate': 0.000264, 'epoch': 18.4}\n",
            "{'eval_loss': 0.4704105854034424, 'eval_accuracy': 0.83356, 'eval_runtime': 12.252, 'eval_samples_per_second': 2040.478, 'eval_steps_per_second': 51.012, 'epoch': 19.0}\n",
            "{'loss': 0.4588, 'learning_rate': 0.00023200000000000003, 'epoch': 19.2}\n",
            "{'loss': 0.4618, 'learning_rate': 0.0002, 'epoch': 20.0}\n",
            "{'eval_loss': 0.4716135561466217, 'eval_accuracy': 0.8316, 'eval_runtime': 12.1975, 'eval_samples_per_second': 2049.596, 'eval_steps_per_second': 51.24, 'epoch': 20.0}\n",
            "{'loss': 0.4582, 'learning_rate': 0.00016800000000000002, 'epoch': 20.8}\n",
            "{'eval_loss': 0.470718115568161, 'eval_accuracy': 0.83288, 'eval_runtime': 12.3129, 'eval_samples_per_second': 2030.395, 'eval_steps_per_second': 50.76, 'epoch': 21.0}\n",
            "{'loss': 0.4599, 'learning_rate': 0.00013600000000000003, 'epoch': 21.6}\n",
            "{'eval_loss': 0.4723014831542969, 'eval_accuracy': 0.83212, 'eval_runtime': 12.264, 'eval_samples_per_second': 2038.49, 'eval_steps_per_second': 50.962, 'epoch': 22.0}\n",
            "{'loss': 0.4582, 'learning_rate': 0.000104, 'epoch': 22.4}\n",
            "{'eval_loss': 0.4707067310810089, 'eval_accuracy': 0.83284, 'eval_runtime': 12.2834, 'eval_samples_per_second': 2035.265, 'eval_steps_per_second': 50.882, 'epoch': 23.0}\n",
            "{'loss': 0.4563, 'learning_rate': 7.2e-05, 'epoch': 23.2}\n",
            "{'loss': 0.4555, 'learning_rate': 4e-05, 'epoch': 24.0}\n",
            "{'eval_loss': 0.4704510569572449, 'eval_accuracy': 0.83388, 'eval_runtime': 12.3907, 'eval_samples_per_second': 2017.649, 'eval_steps_per_second': 50.441, 'epoch': 24.0}\n",
            "{'loss': 0.4575, 'learning_rate': 8e-06, 'epoch': 24.8}\n",
            "{'eval_loss': 0.47029903531074524, 'eval_accuracy': 0.83428, 'eval_runtime': 12.1927, 'eval_samples_per_second': 2050.414, 'eval_steps_per_second': 51.26, 'epoch': 25.0}\n",
            "{'train_runtime': 704.1055, 'train_samples_per_second': 887.651, 'train_steps_per_second': 22.191, 'train_loss': 0.4742021142578125, 'epoch': 25.0}\n"
          ]
        },
        {
          "output_type": "stream",
          "name": "stderr",
          "text": [
            "/usr/local/lib/python3.10/dist-packages/transformers/optimization.py:407: FutureWarning: This implementation of AdamW is deprecated and will be removed in a future version. Use the PyTorch implementation torch.optim.AdamW instead, or set `no_deprecation_warning=True` to disable this warning\n",
            "  warnings.warn(\n"
          ]
        },
        {
          "output_type": "stream",
          "name": "stdout",
          "text": [
            "{'loss': 0.5736, 'learning_rate': 0.000968, 'epoch': 0.8}\n",
            "{'eval_loss': 0.49608317017555237, 'eval_accuracy': 0.80876, 'eval_runtime': 12.3205, 'eval_samples_per_second': 2029.142, 'eval_steps_per_second': 50.729, 'epoch': 1.0}\n",
            "{'loss': 0.5043, 'learning_rate': 0.0009360000000000001, 'epoch': 1.6}\n",
            "{'eval_loss': 0.4896816313266754, 'eval_accuracy': 0.81484, 'eval_runtime': 12.1443, 'eval_samples_per_second': 2058.571, 'eval_steps_per_second': 51.464, 'epoch': 2.0}\n",
            "{'loss': 0.5042, 'learning_rate': 0.0009040000000000001, 'epoch': 2.4}\n",
            "{'eval_loss': 0.4948062598705292, 'eval_accuracy': 0.807, 'eval_runtime': 12.1284, 'eval_samples_per_second': 2061.277, 'eval_steps_per_second': 51.532, 'epoch': 3.0}\n",
            "{'loss': 0.4906, 'learning_rate': 0.000872, 'epoch': 3.2}\n",
            "{'loss': 0.4817, 'learning_rate': 0.00084, 'epoch': 4.0}\n",
            "{'eval_loss': 0.5063704252243042, 'eval_accuracy': 0.79792, 'eval_runtime': 11.4156, 'eval_samples_per_second': 2189.994, 'eval_steps_per_second': 54.75, 'epoch': 4.0}\n",
            "{'loss': 0.4829, 'learning_rate': 0.000808, 'epoch': 4.8}\n",
            "{'eval_loss': 0.49078190326690674, 'eval_accuracy': 0.80748, 'eval_runtime': 11.7063, 'eval_samples_per_second': 2135.599, 'eval_steps_per_second': 53.39, 'epoch': 5.0}\n",
            "{'loss': 0.4774, 'learning_rate': 0.000776, 'epoch': 5.6}\n",
            "{'eval_loss': 0.47656455636024475, 'eval_accuracy': 0.82592, 'eval_runtime': 11.8324, 'eval_samples_per_second': 2112.841, 'eval_steps_per_second': 52.821, 'epoch': 6.0}\n",
            "{'loss': 0.4754, 'learning_rate': 0.000744, 'epoch': 6.4}\n",
            "{'eval_loss': 0.4782048761844635, 'eval_accuracy': 0.82388, 'eval_runtime': 12.0515, 'eval_samples_per_second': 2074.435, 'eval_steps_per_second': 51.861, 'epoch': 7.0}\n",
            "{'loss': 0.479, 'learning_rate': 0.000712, 'epoch': 7.2}\n",
            "{'loss': 0.4742, 'learning_rate': 0.00068, 'epoch': 8.0}\n",
            "{'eval_loss': 0.5002596378326416, 'eval_accuracy': 0.79628, 'eval_runtime': 11.6499, 'eval_samples_per_second': 2145.946, 'eval_steps_per_second': 53.649, 'epoch': 8.0}\n",
            "{'loss': 0.474, 'learning_rate': 0.000648, 'epoch': 8.8}\n",
            "{'eval_loss': 0.47460851073265076, 'eval_accuracy': 0.828, 'eval_runtime': 11.687, 'eval_samples_per_second': 2139.132, 'eval_steps_per_second': 53.478, 'epoch': 9.0}\n",
            "{'loss': 0.4704, 'learning_rate': 0.000616, 'epoch': 9.6}\n",
            "{'eval_loss': 0.47124749422073364, 'eval_accuracy': 0.83112, 'eval_runtime': 11.8587, 'eval_samples_per_second': 2108.158, 'eval_steps_per_second': 52.704, 'epoch': 10.0}\n",
            "{'loss': 0.4716, 'learning_rate': 0.000584, 'epoch': 10.4}\n",
            "{'eval_loss': 0.47932571172714233, 'eval_accuracy': 0.82664, 'eval_runtime': 11.9512, 'eval_samples_per_second': 2091.835, 'eval_steps_per_second': 52.296, 'epoch': 11.0}\n",
            "{'loss': 0.4706, 'learning_rate': 0.0005520000000000001, 'epoch': 11.2}\n",
            "{'loss': 0.4698, 'learning_rate': 0.0005200000000000001, 'epoch': 12.0}\n",
            "{'eval_loss': 0.48433342576026917, 'eval_accuracy': 0.81628, 'eval_runtime': 11.5172, 'eval_samples_per_second': 2170.675, 'eval_steps_per_second': 54.267, 'epoch': 12.0}\n",
            "{'loss': 0.4699, 'learning_rate': 0.000488, 'epoch': 12.8}\n",
            "{'eval_loss': 0.4732820689678192, 'eval_accuracy': 0.83204, 'eval_runtime': 11.879, 'eval_samples_per_second': 2104.554, 'eval_steps_per_second': 52.614, 'epoch': 13.0}\n",
            "{'loss': 0.4659, 'learning_rate': 0.000456, 'epoch': 13.6}\n",
            "{'eval_loss': 0.4751163721084595, 'eval_accuracy': 0.83056, 'eval_runtime': 11.8214, 'eval_samples_per_second': 2114.817, 'eval_steps_per_second': 52.87, 'epoch': 14.0}\n",
            "{'loss': 0.4683, 'learning_rate': 0.000424, 'epoch': 14.4}\n",
            "{'eval_loss': 0.4726163148880005, 'eval_accuracy': 0.83016, 'eval_runtime': 11.4624, 'eval_samples_per_second': 2181.046, 'eval_steps_per_second': 54.526, 'epoch': 15.0}\n",
            "{'loss': 0.4658, 'learning_rate': 0.00039200000000000004, 'epoch': 15.2}\n",
            "{'loss': 0.4644, 'learning_rate': 0.00035999999999999997, 'epoch': 16.0}\n",
            "{'eval_loss': 0.47187289595603943, 'eval_accuracy': 0.833, 'eval_runtime': 10.8952, 'eval_samples_per_second': 2294.585, 'eval_steps_per_second': 57.365, 'epoch': 16.0}\n",
            "{'loss': 0.4648, 'learning_rate': 0.000328, 'epoch': 16.8}\n",
            "{'eval_loss': 0.4731462001800537, 'eval_accuracy': 0.82992, 'eval_runtime': 11.0873, 'eval_samples_per_second': 2254.827, 'eval_steps_per_second': 56.371, 'epoch': 17.0}\n",
            "{'loss': 0.4616, 'learning_rate': 0.000296, 'epoch': 17.6}\n",
            "{'eval_loss': 0.47453573346138, 'eval_accuracy': 0.82844, 'eval_runtime': 11.3915, 'eval_samples_per_second': 2194.624, 'eval_steps_per_second': 54.866, 'epoch': 18.0}\n",
            "{'loss': 0.4637, 'learning_rate': 0.000264, 'epoch': 18.4}\n",
            "{'eval_loss': 0.4708324670791626, 'eval_accuracy': 0.83312, 'eval_runtime': 11.337, 'eval_samples_per_second': 2205.167, 'eval_steps_per_second': 55.129, 'epoch': 19.0}\n",
            "{'loss': 0.4596, 'learning_rate': 0.00023200000000000003, 'epoch': 19.2}\n",
            "{'loss': 0.462, 'learning_rate': 0.0002, 'epoch': 20.0}\n",
            "{'eval_loss': 0.4718264043331146, 'eval_accuracy': 0.83168, 'eval_runtime': 10.993, 'eval_samples_per_second': 2274.173, 'eval_steps_per_second': 56.854, 'epoch': 20.0}\n",
            "{'loss': 0.4579, 'learning_rate': 0.00016800000000000002, 'epoch': 20.8}\n",
            "{'eval_loss': 0.46999216079711914, 'eval_accuracy': 0.8332, 'eval_runtime': 11.2097, 'eval_samples_per_second': 2230.211, 'eval_steps_per_second': 55.755, 'epoch': 21.0}\n",
            "{'loss': 0.4595, 'learning_rate': 0.00013600000000000003, 'epoch': 21.6}\n",
            "{'eval_loss': 0.46992823481559753, 'eval_accuracy': 0.83428, 'eval_runtime': 11.5496, 'eval_samples_per_second': 2164.571, 'eval_steps_per_second': 54.114, 'epoch': 22.0}\n",
            "{'loss': 0.4582, 'learning_rate': 0.000104, 'epoch': 22.4}\n",
            "{'eval_loss': 0.4703172743320465, 'eval_accuracy': 0.83224, 'eval_runtime': 11.9482, 'eval_samples_per_second': 2092.363, 'eval_steps_per_second': 52.309, 'epoch': 23.0}\n",
            "{'loss': 0.4555, 'learning_rate': 7.2e-05, 'epoch': 23.2}\n",
            "{'loss': 0.4549, 'learning_rate': 4e-05, 'epoch': 24.0}\n",
            "{'eval_loss': 0.469879686832428, 'eval_accuracy': 0.83516, 'eval_runtime': 11.4141, 'eval_samples_per_second': 2190.269, 'eval_steps_per_second': 54.757, 'epoch': 24.0}\n",
            "{'loss': 0.4568, 'learning_rate': 8e-06, 'epoch': 24.8}\n",
            "{'eval_loss': 0.4694405496120453, 'eval_accuracy': 0.83496, 'eval_runtime': 11.9791, 'eval_samples_per_second': 2086.972, 'eval_steps_per_second': 52.174, 'epoch': 25.0}\n",
            "{'train_runtime': 694.0282, 'train_samples_per_second': 900.54, 'train_steps_per_second': 22.513, 'train_loss': 0.4735900546875, 'epoch': 25.0}\n"
          ]
        },
        {
          "output_type": "display_data",
          "data": {
            "text/plain": [
              "<Figure size 640x480 with 1 Axes>"
            ],
            "image/png": "[encoded data removed]"
          },
          "metadata": {}
        }
      ]
    },
    {
      "cell_type": "code",
      "source": [
        "plot_by_slice(hidden_layers, \"Hidden Layers\", hl_trainers)"
      ],
      "metadata": {
        "colab": {
          "base_uri": "https://localhost:8080/",
          "height": 472
        },
        "id": "c0DC79ixivQ2",
        "outputId": "44c07ec0-6306-4d08-da1f-892e1807d03f"
      },
      "execution_count": null,
      "outputs": [
        {
          "output_type": "display_data",
          "data": {
            "text/plain": [
              "<Figure size 640x480 with 1 Axes>"
            ],
            "image/png": "[encoded data removed]"
          },
          "metadata": {}
        }
      ]
    },
    {
      "cell_type": "markdown",
      "source": [
        "## 5.d"
      ],
      "metadata": {
        "id": "u0Kv0HaWdCJv"
      }
    },
    {
      "cell_type": "code",
      "source": [
        "activations = [(\"ReLU\", nn.ReLU()), (\"LeakyReLU:0.1\", nn.LeakyReLU(0.1)), (\"RReLU\", nn.RReLU())]\n",
        "\n",
        "for a_title, a_val in activations: \n",
        "  num_train_epochs=25\n",
        "  num_hidden_layers=2\n",
        "  title = f\"epochs:{num_train_epochs}_hidden:{num_hidden_layers}_act:{a_title}_do:{0}\"\n",
        "  trainer = configure_model(num_train_epochs=num_train_epochs, num_hidden_layers=num_hidden_layers, dropout=0, activation=a_val)\n",
        "  trainer.train()\n",
        "  plot_accuracy(num_train_epochs, trainer, title)"
      ],
      "metadata": {
        "id": "Rd4wq0TldJHc",
        "colab": {
          "base_uri": "https://localhost:8080/",
          "height": 1000
        },
        "outputId": "8226e29e-d60e-4776-ec17-93ded466b913"
      },
      "execution_count": null,
      "outputs": [
        {
          "output_type": "stream",
          "name": "stderr",
          "text": [
            "/usr/local/lib/python3.10/dist-packages/transformers/optimization.py:407: FutureWarning: This implementation of AdamW is deprecated and will be removed in a future version. Use the PyTorch implementation torch.optim.AdamW instead, or set `no_deprecation_warning=True` to disable this warning\n",
            "  warnings.warn(\n"
          ]
        },
        {
          "output_type": "stream",
          "name": "stdout",
          "text": [
            "{'loss': 0.5609, 'learning_rate': 0.000968, 'epoch': 0.8}\n",
            "{'eval_loss': 0.49765563011169434, 'eval_accuracy': 0.80516, 'eval_runtime': 11.1584, 'eval_samples_per_second': 2240.468, 'eval_steps_per_second': 56.012, 'epoch': 1.0}\n",
            "{'loss': 0.4998, 'learning_rate': 0.0009360000000000001, 'epoch': 1.6}\n",
            "{'eval_loss': 0.49553555250167847, 'eval_accuracy': 0.80808, 'eval_runtime': 11.2183, 'eval_samples_per_second': 2228.511, 'eval_steps_per_second': 55.713, 'epoch': 2.0}\n",
            "{'loss': 0.501, 'learning_rate': 0.0009040000000000001, 'epoch': 2.4}\n",
            "{'eval_loss': 0.523464560508728, 'eval_accuracy': 0.77956, 'eval_runtime': 11.1798, 'eval_samples_per_second': 2236.168, 'eval_steps_per_second': 55.904, 'epoch': 3.0}\n",
            "{'loss': 0.4956, 'learning_rate': 0.000872, 'epoch': 3.2}\n",
            "{'loss': 0.4863, 'learning_rate': 0.00084, 'epoch': 4.0}\n",
            "{'eval_loss': 0.4943045377731323, 'eval_accuracy': 0.80904, 'eval_runtime': 11.1712, 'eval_samples_per_second': 2237.898, 'eval_steps_per_second': 55.947, 'epoch': 4.0}\n",
            "{'loss': 0.4887, 'learning_rate': 0.000808, 'epoch': 4.8}\n",
            "{'eval_loss': 0.4809902608394623, 'eval_accuracy': 0.82456, 'eval_runtime': 11.0936, 'eval_samples_per_second': 2253.551, 'eval_steps_per_second': 56.339, 'epoch': 5.0}\n",
            "{'loss': 0.484, 'learning_rate': 0.000776, 'epoch': 5.6}\n",
            "{'eval_loss': 0.47761449217796326, 'eval_accuracy': 0.8266, 'eval_runtime': 11.421, 'eval_samples_per_second': 2188.952, 'eval_steps_per_second': 54.724, 'epoch': 6.0}\n",
            "{'loss': 0.4773, 'learning_rate': 0.000744, 'epoch': 6.4}\n",
            "{'eval_loss': 0.4895934462547302, 'eval_accuracy': 0.81456, 'eval_runtime': 11.666, 'eval_samples_per_second': 2142.979, 'eval_steps_per_second': 53.574, 'epoch': 7.0}\n",
            "{'loss': 0.4799, 'learning_rate': 0.000712, 'epoch': 7.2}\n",
            "{'loss': 0.4755, 'learning_rate': 0.00068, 'epoch': 8.0}\n",
            "{'eval_loss': 0.49431735277175903, 'eval_accuracy': 0.80916, 'eval_runtime': 11.268, 'eval_samples_per_second': 2218.666, 'eval_steps_per_second': 55.467, 'epoch': 8.0}\n",
            "{'loss': 0.4787, 'learning_rate': 0.000648, 'epoch': 8.8}\n",
            "{'eval_loss': 0.4771359860897064, 'eval_accuracy': 0.82692, 'eval_runtime': 11.5325, 'eval_samples_per_second': 2167.787, 'eval_steps_per_second': 54.195, 'epoch': 9.0}\n",
            "{'loss': 0.4748, 'learning_rate': 0.000616, 'epoch': 9.6}\n",
            "{'eval_loss': 0.477733314037323, 'eval_accuracy': 0.8252, 'eval_runtime': 11.693, 'eval_samples_per_second': 2138.026, 'eval_steps_per_second': 53.451, 'epoch': 10.0}\n",
            "{'loss': 0.4715, 'learning_rate': 0.000584, 'epoch': 10.4}\n",
            "{'eval_loss': 0.4759218692779541, 'eval_accuracy': 0.82836, 'eval_runtime': 11.8728, 'eval_samples_per_second': 2105.648, 'eval_steps_per_second': 52.641, 'epoch': 11.0}\n",
            "{'loss': 0.4717, 'learning_rate': 0.0005520000000000001, 'epoch': 11.2}\n",
            "{'loss': 0.4717, 'learning_rate': 0.0005200000000000001, 'epoch': 12.0}\n",
            "{'eval_loss': 0.4871574640274048, 'eval_accuracy': 0.81564, 'eval_runtime': 11.4957, 'eval_samples_per_second': 2174.73, 'eval_steps_per_second': 54.368, 'epoch': 12.0}\n",
            "{'loss': 0.4711, 'learning_rate': 0.000488, 'epoch': 12.8}\n",
            "{'eval_loss': 0.4819222390651703, 'eval_accuracy': 0.82232, 'eval_runtime': 11.807, 'eval_samples_per_second': 2117.381, 'eval_steps_per_second': 52.935, 'epoch': 13.0}\n",
            "{'loss': 0.4649, 'learning_rate': 0.000456, 'epoch': 13.6}\n",
            "{'eval_loss': 0.47564518451690674, 'eval_accuracy': 0.82724, 'eval_runtime': 12.278, 'eval_samples_per_second': 2036.164, 'eval_steps_per_second': 50.904, 'epoch': 14.0}\n",
            "{'loss': 0.4682, 'learning_rate': 0.000424, 'epoch': 14.4}\n",
            "{'eval_loss': 0.4750727713108063, 'eval_accuracy': 0.8292, 'eval_runtime': 12.1525, 'eval_samples_per_second': 2057.183, 'eval_steps_per_second': 51.43, 'epoch': 15.0}\n",
            "{'loss': 0.4644, 'learning_rate': 0.00039200000000000004, 'epoch': 15.2}\n",
            "{'loss': 0.4645, 'learning_rate': 0.00035999999999999997, 'epoch': 16.0}\n",
            "{'eval_loss': 0.4746273159980774, 'eval_accuracy': 0.82948, 'eval_runtime': 12.3419, 'eval_samples_per_second': 2025.623, 'eval_steps_per_second': 50.641, 'epoch': 16.0}\n",
            "{'loss': 0.465, 'learning_rate': 0.000328, 'epoch': 16.8}\n",
            "{'eval_loss': 0.4712027311325073, 'eval_accuracy': 0.83324, 'eval_runtime': 12.6695, 'eval_samples_per_second': 1973.25, 'eval_steps_per_second': 49.331, 'epoch': 17.0}\n",
            "{'loss': 0.462, 'learning_rate': 0.000296, 'epoch': 17.6}\n",
            "{'eval_loss': 0.4737818241119385, 'eval_accuracy': 0.83024, 'eval_runtime': 12.5269, 'eval_samples_per_second': 1995.707, 'eval_steps_per_second': 49.893, 'epoch': 18.0}\n",
            "{'loss': 0.4634, 'learning_rate': 0.000264, 'epoch': 18.4}\n",
            "{'eval_loss': 0.4704105854034424, 'eval_accuracy': 0.83356, 'eval_runtime': 12.3335, 'eval_samples_per_second': 2026.995, 'eval_steps_per_second': 50.675, 'epoch': 19.0}\n",
            "{'loss': 0.4588, 'learning_rate': 0.00023200000000000003, 'epoch': 19.2}\n",
            "{'loss': 0.4618, 'learning_rate': 0.0002, 'epoch': 20.0}\n",
            "{'eval_loss': 0.4716135561466217, 'eval_accuracy': 0.8316, 'eval_runtime': 12.6177, 'eval_samples_per_second': 1981.351, 'eval_steps_per_second': 49.534, 'epoch': 20.0}\n",
            "{'loss': 0.4582, 'learning_rate': 0.00016800000000000002, 'epoch': 20.8}\n",
            "{'eval_loss': 0.470718115568161, 'eval_accuracy': 0.83288, 'eval_runtime': 12.2074, 'eval_samples_per_second': 2047.937, 'eval_steps_per_second': 51.198, 'epoch': 21.0}\n",
            "{'loss': 0.4599, 'learning_rate': 0.00013600000000000003, 'epoch': 21.6}\n",
            "{'eval_loss': 0.4723014831542969, 'eval_accuracy': 0.83212, 'eval_runtime': 12.3272, 'eval_samples_per_second': 2028.043, 'eval_steps_per_second': 50.701, 'epoch': 22.0}\n",
            "{'loss': 0.4582, 'learning_rate': 0.000104, 'epoch': 22.4}\n",
            "{'eval_loss': 0.4707067310810089, 'eval_accuracy': 0.83284, 'eval_runtime': 12.3461, 'eval_samples_per_second': 2024.927, 'eval_steps_per_second': 50.623, 'epoch': 23.0}\n",
            "{'loss': 0.4563, 'learning_rate': 7.2e-05, 'epoch': 23.2}\n",
            "{'loss': 0.4555, 'learning_rate': 4e-05, 'epoch': 24.0}\n",
            "{'eval_loss': 0.4704510569572449, 'eval_accuracy': 0.83388, 'eval_runtime': 12.2553, 'eval_samples_per_second': 2039.926, 'eval_steps_per_second': 50.998, 'epoch': 24.0}\n",
            "{'loss': 0.4575, 'learning_rate': 8e-06, 'epoch': 24.8}\n",
            "{'eval_loss': 0.47029903531074524, 'eval_accuracy': 0.83428, 'eval_runtime': 12.3159, 'eval_samples_per_second': 2029.902, 'eval_steps_per_second': 50.748, 'epoch': 25.0}\n",
            "{'train_runtime': 702.1774, 'train_samples_per_second': 890.088, 'train_steps_per_second': 22.252, 'train_loss': 0.4742021142578125, 'epoch': 25.0}\n"
          ]
        },
        {
          "output_type": "display_data",
          "data": {
            "text/plain": [
              "<Figure size 640x480 with 1 Axes>"
            ],
            "image/png": "[encoded data removed]"
          },
          "metadata": {}
        },
        {
          "output_type": "stream",
          "name": "stderr",
          "text": [
            "/usr/local/lib/python3.10/dist-packages/transformers/optimization.py:407: FutureWarning: This implementation of AdamW is deprecated and will be removed in a future version. Use the PyTorch implementation torch.optim.AdamW instead, or set `no_deprecation_warning=True` to disable this warning\n",
            "  warnings.warn(\n"
          ]
        },
        {
          "output_type": "stream",
          "name": "stdout",
          "text": [
            "{'loss': 0.5686, 'learning_rate': 0.000968, 'epoch': 0.8}\n",
            "{'eval_loss': 0.5140592455863953, 'eval_accuracy': 0.7894, 'eval_runtime': 12.1458, 'eval_samples_per_second': 2058.319, 'eval_steps_per_second': 51.458, 'epoch': 1.0}\n",
            "{'loss': 0.497, 'learning_rate': 0.0009360000000000001, 'epoch': 1.6}\n",
            "{'eval_loss': 0.4967557489871979, 'eval_accuracy': 0.80636, 'eval_runtime': 12.3758, 'eval_samples_per_second': 2020.069, 'eval_steps_per_second': 50.502, 'epoch': 2.0}\n",
            "{'loss': 0.4996, 'learning_rate': 0.0009040000000000001, 'epoch': 2.4}\n",
            "{'eval_loss': 0.48736485838890076, 'eval_accuracy': 0.81456, 'eval_runtime': 12.1911, 'eval_samples_per_second': 2050.679, 'eval_steps_per_second': 51.267, 'epoch': 3.0}\n",
            "{'loss': 0.4882, 'learning_rate': 0.000872, 'epoch': 3.2}\n",
            "{'loss': 0.4831, 'learning_rate': 0.00084, 'epoch': 4.0}\n",
            "{'eval_loss': 0.5255762934684753, 'eval_accuracy': 0.77392, 'eval_runtime': 12.3937, 'eval_samples_per_second': 2017.15, 'eval_steps_per_second': 50.429, 'epoch': 4.0}\n",
            "{'loss': 0.4824, 'learning_rate': 0.000808, 'epoch': 4.8}\n",
            "{'eval_loss': 0.4790433347225189, 'eval_accuracy': 0.82444, 'eval_runtime': 12.325, 'eval_samples_per_second': 2028.391, 'eval_steps_per_second': 50.71, 'epoch': 5.0}\n",
            "{'loss': 0.478, 'learning_rate': 0.000776, 'epoch': 5.6}\n",
            "{'eval_loss': 0.4771178066730499, 'eval_accuracy': 0.82612, 'eval_runtime': 12.2356, 'eval_samples_per_second': 2043.226, 'eval_steps_per_second': 51.081, 'epoch': 6.0}\n",
            "{'loss': 0.4719, 'learning_rate': 0.000744, 'epoch': 6.4}\n",
            "{'eval_loss': 0.475055456161499, 'eval_accuracy': 0.82852, 'eval_runtime': 12.1703, 'eval_samples_per_second': 2054.18, 'eval_steps_per_second': 51.354, 'epoch': 7.0}\n",
            "{'loss': 0.4771, 'learning_rate': 0.000712, 'epoch': 7.2}\n",
            "{'loss': 0.4744, 'learning_rate': 0.00068, 'epoch': 8.0}\n",
            "{'eval_loss': 0.4773447513580322, 'eval_accuracy': 0.8252, 'eval_runtime': 12.0303, 'eval_samples_per_second': 2078.079, 'eval_steps_per_second': 51.952, 'epoch': 8.0}\n",
            "{'loss': 0.4736, 'learning_rate': 0.000648, 'epoch': 8.8}\n",
            "{'eval_loss': 0.4749438762664795, 'eval_accuracy': 0.82844, 'eval_runtime': 12.2645, 'eval_samples_per_second': 2038.399, 'eval_steps_per_second': 50.96, 'epoch': 9.0}\n",
            "{'loss': 0.4701, 'learning_rate': 0.000616, 'epoch': 9.6}\n",
            "{'eval_loss': 0.4737566113471985, 'eval_accuracy': 0.8302, 'eval_runtime': 12.1953, 'eval_samples_per_second': 2049.971, 'eval_steps_per_second': 51.249, 'epoch': 10.0}\n",
            "{'loss': 0.4719, 'learning_rate': 0.000584, 'epoch': 10.4}\n",
            "{'eval_loss': 0.48537737131118774, 'eval_accuracy': 0.81804, 'eval_runtime': 13.0044, 'eval_samples_per_second': 1922.425, 'eval_steps_per_second': 48.061, 'epoch': 11.0}\n",
            "{'loss': 0.4727, 'learning_rate': 0.0005520000000000001, 'epoch': 11.2}\n",
            "{'loss': 0.4684, 'learning_rate': 0.0005200000000000001, 'epoch': 12.0}\n",
            "{'eval_loss': 0.4826691448688507, 'eval_accuracy': 0.81896, 'eval_runtime': 11.8437, 'eval_samples_per_second': 2110.832, 'eval_steps_per_second': 52.771, 'epoch': 12.0}\n",
            "{'loss': 0.4683, 'learning_rate': 0.000488, 'epoch': 12.8}\n",
            "{'eval_loss': 0.476620078086853, 'eval_accuracy': 0.82632, 'eval_runtime': 12.0331, 'eval_samples_per_second': 2077.608, 'eval_steps_per_second': 51.94, 'epoch': 13.0}\n",
            "{'loss': 0.4644, 'learning_rate': 0.000456, 'epoch': 13.6}\n",
            "{'eval_loss': 0.47325870394706726, 'eval_accuracy': 0.829, 'eval_runtime': 12.1544, 'eval_samples_per_second': 2056.873, 'eval_steps_per_second': 51.422, 'epoch': 14.0}\n",
            "{'loss': 0.4667, 'learning_rate': 0.000424, 'epoch': 14.4}\n",
            "{'eval_loss': 0.4742564857006073, 'eval_accuracy': 0.82976, 'eval_runtime': 12.1201, 'eval_samples_per_second': 2062.693, 'eval_steps_per_second': 51.567, 'epoch': 15.0}\n",
            "{'loss': 0.4647, 'learning_rate': 0.00039200000000000004, 'epoch': 15.2}\n",
            "{'loss': 0.4632, 'learning_rate': 0.00035999999999999997, 'epoch': 16.0}\n",
            "{'eval_loss': 0.47187766432762146, 'eval_accuracy': 0.83116, 'eval_runtime': 11.9653, 'eval_samples_per_second': 2089.381, 'eval_steps_per_second': 52.235, 'epoch': 16.0}\n",
            "{'loss': 0.4633, 'learning_rate': 0.000328, 'epoch': 16.8}\n",
            "{'eval_loss': 0.4718785583972931, 'eval_accuracy': 0.83028, 'eval_runtime': 11.9812, 'eval_samples_per_second': 2086.609, 'eval_steps_per_second': 52.165, 'epoch': 17.0}\n",
            "{'loss': 0.4614, 'learning_rate': 0.000296, 'epoch': 17.6}\n",
            "{'eval_loss': 0.4730871617794037, 'eval_accuracy': 0.83004, 'eval_runtime': 12.1614, 'eval_samples_per_second': 2055.676, 'eval_steps_per_second': 51.392, 'epoch': 18.0}\n",
            "{'loss': 0.4634, 'learning_rate': 0.000264, 'epoch': 18.4}\n",
            "{'eval_loss': 0.46978479623794556, 'eval_accuracy': 0.83348, 'eval_runtime': 12.1189, 'eval_samples_per_second': 2062.893, 'eval_steps_per_second': 51.572, 'epoch': 19.0}\n",
            "{'loss': 0.4588, 'learning_rate': 0.00023200000000000003, 'epoch': 19.2}\n",
            "{'loss': 0.4614, 'learning_rate': 0.0002, 'epoch': 20.0}\n",
            "{'eval_loss': 0.4711304008960724, 'eval_accuracy': 0.83216, 'eval_runtime': 12.2657, 'eval_samples_per_second': 2038.209, 'eval_steps_per_second': 50.955, 'epoch': 20.0}\n",
            "{'loss': 0.4566, 'learning_rate': 0.00016800000000000002, 'epoch': 20.8}\n",
            "{'eval_loss': 0.47094830870628357, 'eval_accuracy': 0.83296, 'eval_runtime': 12.2394, 'eval_samples_per_second': 2042.585, 'eval_steps_per_second': 51.065, 'epoch': 21.0}\n",
            "{'loss': 0.4585, 'learning_rate': 0.00013600000000000003, 'epoch': 21.6}\n",
            "{'eval_loss': 0.47074759006500244, 'eval_accuracy': 0.83436, 'eval_runtime': 12.2277, 'eval_samples_per_second': 2044.542, 'eval_steps_per_second': 51.114, 'epoch': 22.0}\n",
            "{'loss': 0.4571, 'learning_rate': 0.000104, 'epoch': 22.4}\n",
            "{'eval_loss': 0.47046706080436707, 'eval_accuracy': 0.83304, 'eval_runtime': 12.0798, 'eval_samples_per_second': 2069.562, 'eval_steps_per_second': 51.739, 'epoch': 23.0}\n",
            "{'loss': 0.4546, 'learning_rate': 7.2e-05, 'epoch': 23.2}\n",
            "{'loss': 0.4535, 'learning_rate': 4e-05, 'epoch': 24.0}\n",
            "{'eval_loss': 0.47034069895744324, 'eval_accuracy': 0.83396, 'eval_runtime': 12.1657, 'eval_samples_per_second': 2054.961, 'eval_steps_per_second': 51.374, 'epoch': 24.0}\n",
            "{'loss': 0.4554, 'learning_rate': 8e-06, 'epoch': 24.8}\n",
            "{'eval_loss': 0.4693073332309723, 'eval_accuracy': 0.8358, 'eval_runtime': 12.2698, 'eval_samples_per_second': 2037.531, 'eval_steps_per_second': 50.938, 'epoch': 25.0}\n",
            "{'train_runtime': 691.7189, 'train_samples_per_second': 903.546, 'train_steps_per_second': 22.589, 'train_loss': 0.4722932404785156, 'epoch': 25.0}\n"
          ]
        },
        {
          "output_type": "display_data",
          "data": {
            "text/plain": [
              "<Figure size 640x480 with 1 Axes>"
            ],
            "image/png": "[encoded data removed]"
          },
          "metadata": {}
        },
        {
          "output_type": "stream",
          "name": "stderr",
          "text": [
            "/usr/local/lib/python3.10/dist-packages/transformers/optimization.py:407: FutureWarning: This implementation of AdamW is deprecated and will be removed in a future version. Use the PyTorch implementation torch.optim.AdamW instead, or set `no_deprecation_warning=True` to disable this warning\n",
            "  warnings.warn(\n"
          ]
        },
        {
          "output_type": "stream",
          "name": "stdout",
          "text": [
            "{'loss': 0.5634, 'learning_rate': 0.000968, 'epoch': 0.8}\n",
            "{'eval_loss': 0.4986985921859741, 'eval_accuracy': 0.80624, 'eval_runtime': 11.1059, 'eval_samples_per_second': 2251.05, 'eval_steps_per_second': 56.276, 'epoch': 1.0}\n",
            "{'loss': 0.5042, 'learning_rate': 0.0009360000000000001, 'epoch': 1.6}\n",
            "{'eval_loss': 0.4884694218635559, 'eval_accuracy': 0.81676, 'eval_runtime': 11.3126, 'eval_samples_per_second': 2209.917, 'eval_steps_per_second': 55.248, 'epoch': 2.0}\n",
            "{'loss': 0.4995, 'learning_rate': 0.0009040000000000001, 'epoch': 2.4}\n",
            "{'eval_loss': 0.48208487033843994, 'eval_accuracy': 0.82104, 'eval_runtime': 11.625, 'eval_samples_per_second': 2150.529, 'eval_steps_per_second': 53.763, 'epoch': 3.0}\n",
            "{'loss': 0.4885, 'learning_rate': 0.000872, 'epoch': 3.2}\n",
            "{'loss': 0.4817, 'learning_rate': 0.00084, 'epoch': 4.0}\n",
            "{'eval_loss': 0.4815753996372223, 'eval_accuracy': 0.82136, 'eval_runtime': 11.2772, 'eval_samples_per_second': 2216.862, 'eval_steps_per_second': 55.422, 'epoch': 4.0}\n",
            "{'loss': 0.483, 'learning_rate': 0.000808, 'epoch': 4.8}\n",
            "{'eval_loss': 0.5072849988937378, 'eval_accuracy': 0.79256, 'eval_runtime': 12.1608, 'eval_samples_per_second': 2055.79, 'eval_steps_per_second': 51.395, 'epoch': 5.0}\n",
            "{'loss': 0.479, 'learning_rate': 0.000776, 'epoch': 5.6}\n",
            "{'eval_loss': 0.4761827290058136, 'eval_accuracy': 0.82612, 'eval_runtime': 12.2609, 'eval_samples_per_second': 2038.997, 'eval_steps_per_second': 50.975, 'epoch': 6.0}\n",
            "{'loss': 0.4735, 'learning_rate': 0.000744, 'epoch': 6.4}\n",
            "{'eval_loss': 0.476535826921463, 'eval_accuracy': 0.82784, 'eval_runtime': 11.8054, 'eval_samples_per_second': 2117.675, 'eval_steps_per_second': 52.942, 'epoch': 7.0}\n",
            "{'loss': 0.4752, 'learning_rate': 0.000712, 'epoch': 7.2}\n",
            "{'loss': 0.4738, 'learning_rate': 0.00068, 'epoch': 8.0}\n",
            "{'eval_loss': 0.489727258682251, 'eval_accuracy': 0.8092, 'eval_runtime': 12.1807, 'eval_samples_per_second': 2052.431, 'eval_steps_per_second': 51.311, 'epoch': 8.0}\n",
            "{'loss': 0.4739, 'learning_rate': 0.000648, 'epoch': 8.8}\n",
            "{'eval_loss': 0.4757833480834961, 'eval_accuracy': 0.82776, 'eval_runtime': 12.1123, 'eval_samples_per_second': 2064.025, 'eval_steps_per_second': 51.601, 'epoch': 9.0}\n",
            "{'loss': 0.4691, 'learning_rate': 0.000616, 'epoch': 9.6}\n",
            "{'eval_loss': 0.47451305389404297, 'eval_accuracy': 0.8274, 'eval_runtime': 12.1876, 'eval_samples_per_second': 2051.269, 'eval_steps_per_second': 51.282, 'epoch': 10.0}\n",
            "{'loss': 0.4706, 'learning_rate': 0.000584, 'epoch': 10.4}\n",
            "{'eval_loss': 0.47127699851989746, 'eval_accuracy': 0.8338, 'eval_runtime': 12.1429, 'eval_samples_per_second': 2058.82, 'eval_steps_per_second': 51.47, 'epoch': 11.0}\n",
            "{'loss': 0.4693, 'learning_rate': 0.0005520000000000001, 'epoch': 11.2}\n",
            "{'loss': 0.4692, 'learning_rate': 0.0005200000000000001, 'epoch': 12.0}\n",
            "{'eval_loss': 0.491576224565506, 'eval_accuracy': 0.80884, 'eval_runtime': 12.213, 'eval_samples_per_second': 2046.999, 'eval_steps_per_second': 51.175, 'epoch': 12.0}\n",
            "{'loss': 0.4698, 'learning_rate': 0.000488, 'epoch': 12.8}\n",
            "{'eval_loss': 0.47598835825920105, 'eval_accuracy': 0.82568, 'eval_runtime': 12.105, 'eval_samples_per_second': 2065.269, 'eval_steps_per_second': 51.632, 'epoch': 13.0}\n",
            "{'loss': 0.4642, 'learning_rate': 0.000456, 'epoch': 13.6}\n",
            "{'eval_loss': 0.47350406646728516, 'eval_accuracy': 0.82936, 'eval_runtime': 12.0893, 'eval_samples_per_second': 2067.949, 'eval_steps_per_second': 51.699, 'epoch': 14.0}\n",
            "{'loss': 0.4679, 'learning_rate': 0.000424, 'epoch': 14.4}\n",
            "{'eval_loss': 0.47563400864601135, 'eval_accuracy': 0.82904, 'eval_runtime': 12.0732, 'eval_samples_per_second': 2070.7, 'eval_steps_per_second': 51.768, 'epoch': 15.0}\n",
            "{'loss': 0.4647, 'learning_rate': 0.00039200000000000004, 'epoch': 15.2}\n",
            "{'loss': 0.4636, 'learning_rate': 0.00035999999999999997, 'epoch': 16.0}\n",
            "{'eval_loss': 0.4736386835575104, 'eval_accuracy': 0.83, 'eval_runtime': 12.1624, 'eval_samples_per_second': 2055.515, 'eval_steps_per_second': 51.388, 'epoch': 16.0}\n",
            "{'loss': 0.4644, 'learning_rate': 0.000328, 'epoch': 16.8}\n",
            "{'eval_loss': 0.46988290548324585, 'eval_accuracy': 0.83336, 'eval_runtime': 12.2348, 'eval_samples_per_second': 2043.357, 'eval_steps_per_second': 51.084, 'epoch': 17.0}\n",
            "{'loss': 0.4612, 'learning_rate': 0.000296, 'epoch': 17.6}\n",
            "{'eval_loss': 0.4726611077785492, 'eval_accuracy': 0.8318, 'eval_runtime': 12.1655, 'eval_samples_per_second': 2054.992, 'eval_steps_per_second': 51.375, 'epoch': 18.0}\n",
            "{'loss': 0.4624, 'learning_rate': 0.000264, 'epoch': 18.4}\n",
            "{'eval_loss': 0.46936696767807007, 'eval_accuracy': 0.8338, 'eval_runtime': 12.1756, 'eval_samples_per_second': 2053.294, 'eval_steps_per_second': 51.332, 'epoch': 19.0}\n",
            "{'loss': 0.4583, 'learning_rate': 0.00023200000000000003, 'epoch': 19.2}\n",
            "{'loss': 0.4611, 'learning_rate': 0.0002, 'epoch': 20.0}\n",
            "{'eval_loss': 0.47095543146133423, 'eval_accuracy': 0.83344, 'eval_runtime': 12.309, 'eval_samples_per_second': 2031.038, 'eval_steps_per_second': 50.776, 'epoch': 20.0}\n",
            "{'loss': 0.4568, 'learning_rate': 0.00016800000000000002, 'epoch': 20.8}\n",
            "{'eval_loss': 0.4708738923072815, 'eval_accuracy': 0.83364, 'eval_runtime': 12.1083, 'eval_samples_per_second': 2064.703, 'eval_steps_per_second': 51.618, 'epoch': 21.0}\n",
            "{'loss': 0.4591, 'learning_rate': 0.00013600000000000003, 'epoch': 21.6}\n",
            "{'eval_loss': 0.4708494544029236, 'eval_accuracy': 0.83364, 'eval_runtime': 12.1276, 'eval_samples_per_second': 2061.419, 'eval_steps_per_second': 51.535, 'epoch': 22.0}\n",
            "{'loss': 0.4575, 'learning_rate': 0.000104, 'epoch': 22.4}\n",
            "{'eval_loss': 0.4698965549468994, 'eval_accuracy': 0.83408, 'eval_runtime': 12.0693, 'eval_samples_per_second': 2071.365, 'eval_steps_per_second': 51.784, 'epoch': 23.0}\n",
            "{'loss': 0.4546, 'learning_rate': 7.2e-05, 'epoch': 23.2}\n",
            "{'loss': 0.4545, 'learning_rate': 4e-05, 'epoch': 24.0}\n",
            "{'eval_loss': 0.4699889123439789, 'eval_accuracy': 0.83492, 'eval_runtime': 12.1941, 'eval_samples_per_second': 2050.168, 'eval_steps_per_second': 51.254, 'epoch': 24.0}\n",
            "{'loss': 0.4562, 'learning_rate': 8e-06, 'epoch': 24.8}\n",
            "{'eval_loss': 0.4691256284713745, 'eval_accuracy': 0.83512, 'eval_runtime': 12.0907, 'eval_samples_per_second': 2067.703, 'eval_steps_per_second': 51.693, 'epoch': 25.0}\n",
            "{'train_runtime': 699.8342, 'train_samples_per_second': 893.069, 'train_steps_per_second': 22.327, 'train_loss': 0.4723638720703125, 'epoch': 25.0}\n"
          ]
        },
        {
          "output_type": "display_data",
          "data": {
            "text/plain": [
              "<Figure size 640x480 with 1 Axes>"
            ],
            "image/png": "[encoded data removed]"
          },
          "metadata": {}
        }
      ]
    },
    {
      "cell_type": "markdown",
      "source": [
        "## 5.e"
      ],
      "metadata": {
        "id": "eLIhvZ3SeAJn"
      }
    },
    {
      "cell_type": "code",
      "source": [
        "import random\n",
        "\n",
        "best_trainer = do_trainers[0]\n",
        "p, l, m = best_trainer.predict(small_eval_dataset)\n",
        "p = torch.tensor(p)\n",
        "\n",
        "idxs = []\n",
        "all = list(range(len(l)))\n",
        "random.shuffle(all)\n",
        "for i in all:\n",
        "  if (len(idxs) == 10):\n",
        "    break\n",
        "  if (int(torch.argmax(p[i])) != int(l[i])):\n",
        "    idxs.append(i)"
      ],
      "metadata": {
        "id": "QMmNEXVRmGLB"
      },
      "execution_count": null,
      "outputs": []
    },
    {
      "cell_type": "code",
      "source": [
        "for i in idxs:\n",
        "  print(raw_datasets['test'][i])"
      ],
      "metadata": {
        "colab": {
          "base_uri": "https://localhost:8080/"
        },
        "id": "Vz_Db8z4oV0c",
        "outputId": "39feebcd-bf2a-49af-c355-4f8f766d8711"
      },
      "execution_count": null,
      "outputs": [
        {
          "output_type": "stream",
          "name": "stdout",
          "text": [
            "{'text': 'Why is it that Canada can turn out decent to good movies in every genre, other then action? I caught Dragon Hunt on TV the other day and it was like a train wreck. I just could not change the channel, it\\'s sheer stupidity sapped my willpower. Its pretty telling that the cast IMDb \"credits\" with this monstrosity apparently never worked again.<br /><br />Bad acting, bad writing, bad narration, bad music, bad hair, bad cinematography. It just goes on and on. The movie really has nothing to recommend it. If you\\'re looking for bad action films to enjoy by laughing out, there are a tonne of other films that won\\'t require you to scorch out your retinas afterwards.<br /><br />I hope this film didn\\'t get money from the government for financing, otherwise I\\'m never paying taxes again.', 'label': 0}\n",
            "{'text': \"The film is somewhat entertaining, but the greatest feature is Shalom Harlow's laughable performance. It has been 4 years since this movie was released and hopefully Harlow has gone through more training. Perhaps she should stick to the more worldly, somewhat corruptive characters that she has generated in other performances.\", 'label': 0}\n",
            "{'text': \"Dr. Chopper starts shortly after teenager Nicholas' (Robert Adamson) mum has died, he is still cut up about it but every cloud has a silver lining & in this case it appears that his mum owns a log cabin at Lake Tatonka the self proclaimed 'friendly place for happy people' that she didn't tell him about. So Nicholas together with his girlfriend Jessica (Chelsey Crisp) & three friends, Jimmy (Butch Hansen), Reese (Chase Hoyt) & Tamara (Ashley McCarthy) head out there for a fun weekend. Unfortunately things don't go according to plan, the cabin turns out to be little more than a run down shed & their neighbours turn out to be Dr. Chopper (Ed Brigadier) & his two nurses who go around killing anyone they meet to use them in horrible experiments...<br /><br />Going straight-to-video/DVD Dr. Chopper was edited & directed by Lewis Schoenburn & this film seems to be having a hard time here on the IMDb with some pretty harsh reviews, while I think Dr. Chopper as a horror film is pretty worthless I don't think some of the criticism I've read is entirely justified. The script which takes itself very seriously is credited to Ian Holt (whether he likes it or not...) who has a role in the film as Detective Crocker according to the IMDb cast list although I can't remember any character of that name, maybe he was one of the cops at the start? Anyway, the basic story is alright I suppose although it's a tad dull & lasts for too long, it's typical slasher fare with some sort of evil character running around bumping off our annoying American teen cast, you know the drill by now. Besides some brief & undeveloped nonsense about Dr. Chopper using body parts to replenish his own deteriorating body there's not much story here & the script seems to exist solely to invent situations for girls to take their tops off, there's the inevitable sex scenes, there's a sequence where some girls have to complete a sorority house initiation topless & there's even a couple of lesbians here as well one of whom is seen without her full compliment of clothing. Oh, & when I say topless I mean they aren't wearing any tops but they all keep their bras on so you may want to bear in mind there isn't any actual full frontal nudity in Dr. Chopper at all. So there you have it really, it's an average story that has a mildly surprising twist at the end which is wasted, is populated with poor clichéd dumb character's that exist only to showcase some cheap gore scenes & girls in bras. To be honest I expect a little bit more from my films but then again maybe I'm just being picky.<br /><br />Director Schoenburn does OK actually, this is by no means the worst looking film I've seen although it still looks cheap. There's no style here, I didn't think it was scary & there's no atmosphere either. The gore is restrained & restricted to some dead bodies & severed limbs, there's nothing new here or any particularly convincing special effects. Dr. Chopper is also one of those films where character decisions & motivations are ridiculous.<br /><br />Technically this is a little rough around the edges but is reasonably well made on what was probably a really low budget, the forest locations are suitably isolated although the cops office looks like someones front room & the two nurses outfits at the start look like stripper outfits. The acting is alright, it could have better but I've certainly seen worse.<br /><br />Dr. Chopper indeed features a doctor who rides around on a chopper motorbike but unfortunately that just isn't enough to satisfy me, despite it being a reasonably competent production the lack of any real gore, nudity or a decent plot sinks it without trace.\", 'label': 0}\n",
            "{'text': \"Imaginary Heroes is clearly the best film of the year. It was a complete and utter joy to watch. I was riveted. The whole audience up at the Sunset Five was riveted, when the film ended no one moved, spoke, nothing. I think this film is a perfect example of the of the power that drama has. Especially in so much as it sets an example of the quality of drama/ work of this younger generation. <br /><br />There were moments in your film, many, like at least seven, where I was struck by such a great amount of beauty, emotional beauty, that I actually couldn't breathe for a while. And for a catharsis junkie like me, that's about the best censorial experience I could ask for. It is the result of powerful, masterful storytelling and direction. Like heavyweight stuff, like Burtolucci and those guys. <br /><br />Each element of the film fit tightly together. There were no missteps at all. The cast was amazing. I have been a huge fan of Emile's and Ryan's for a long time, and I thought they have never been better. I was/am/will be continuously stunned by this film. And I promise I will drag every person I know to see it. It should be seen. It should win awards.\", 'label': 1}\n",
            "{'text': \"This movie has got to be one of the all-time lows of Michael J. Fox's generally respectable career. I should have known how awful this movie was when I rented it and found the movie only half viewed and not rewound by the previous renter. Never a good sign! Fox plays a grown up child star who's now an agent for other show business kids. His character is delusional in that he still believes that everyone should love him for being Mikey. His big break comes when he meets Angie Vega, a talented child. Vega is abrasive and not at all likeable. In fact, the only likeable character in the whole movie is Cyndi Lauper as a Brooklyn accented receptionist for the agency. One of those movies that makes me want to stick a post-it note to the box warning others not to waste their time!\", 'label': 0}\n",
            "{'text': 'Robert Aldrich\\'s brutal, quasi-black comedy \"The Grissom Gang\", a reworking of the 1948 British film \"No Orchids For Miss Blandish\", has 1920s heiress Kim Darby kidnapped by a pack of clumsy thieves; soon, that gang is dispatched and poor Kim is then transferred into the clutches of another crooked bunch--third-rate gangster brothers with sweaty, pasty faces and a mother who looks like Buddy Ebsen in drag. At first, Darby (not very plucky, and not very smart) attempts to escape this drooling brood, but they\\'re onto her. Eventually she just gives up trying, and therein lies the trouble with the story. Are we in the audience supposed to sympathize with her? Is her growing concern for the family half-wit supposed to be heartwarming? These are disgusting, cretinous characters, and I wanted to see as little of them as possible. But since the side-stories (the progress of the cops on the case and another one involving floozy-singer Connie Stevens) are rather dull, the director has no choice but to keep foisting those sweaty faces on us. Pretty soon, nervous Darby starts sweating too, although her scene up in the hayloft is sensitively performed and Aldrich\\'s climactic moments are thought-provoking, if disorganized. ** from ****', 'label': 0}\n",
            "{'text': 'Gregory Peck and Gig Young are competing for the same girl and after Peck sends Young on a very dangerous mission, they blame him for his reasons. Feeling guilty, Peck goes on an almost impossible task of defending a fort, where they are outnumbered by the Indians. Peck chooses for this mission soldiers which he considers to be the scum of the earth and the actors that play these soldiers, Ward Bond, Lon Chaney Jr., Neville Brand among others, are excellent. The script is derived from a novel by Charles Marquis Warren who was a specialist in westerns, as a writer, director and producer. The idea of using this type of men as heroes inspired many films that came out later including \"The Dirty Dozen\" made in 1967.', 'label': 1}\n",
            "{'text': 'First of all, season 1 is intolerably bad. The prison is ridiculously unrealistic, the characters are so two dimensional they\\'re nearly transparent, and the direction is terrible. It runs like a bad video of a junior high school play, characters wandering past the camera and uttering highly timed and rehearsed lines, passing off as random prison talk. Soon the show gets better, but not by much. The return from the commercial break is always accompanied by some ridiculous monologue by wheelchair-bound Augustus Hill, who is played impressively by Harold Perrineau. The only time his character is consistently bad is during the bad performance art monologues, most of which take place in an inexplicable rotating glass cube and generally have nothing to do with what\\'s taking place in the show.<br /><br />Unfortunately, the bad ideas in Oz could fill an encyclopedia of several volumes. Consider the whole situation, first of all. Prisoners are able to hang out in plain sight getting drunk, doing drugs, and they not only have CD players (CDs?? They might as well pass out steak knives), but all incoming mail is thoroughly examined by PRISONERS. Christ, the place is like a men\\'s club with guards. Guards that don\\'t do much. <br /><br />Near the end of season two, an older prisoner\\'s grandson is diagnosed with leukemia, and all of the prisoners pitch in thick wads of $20 and $50 bills to help send him to Disneyworld to fulfill his dying wish. These have to be the richest prisoners in the world. Every single prisoner in Oz all of a sudden became caring, loving guys except Kenny Wangler, an irritating character but one of the only ones who is consistently convincing. Even Adibisi wanted to be nice. But that\\'s okay, because there is no order or sense in the show, so even this is not much of a distraction.<br /><br />Later, shockingly, there is a boxing scene in which one inmate is wearing an \"I Love Cops\" t- shirt. In prison!! Can you imagine?? I have a cousin who was in prison a few years ago. I sent him an old picture of us with some friends in high school, and in the picture, one of my friends was holding an \"I Love Cops\" bumper sticker, and one of \"the woods\" (guys who have been in prison for years and years) saw the picture but just grabbed it and ripped it to shreds. My cousin got lucky. <br /><br />Kenny Wangler also constantly berates the guards and even more senior officers for not calling him Bricks. One of them even tried to bribe him to go to an English class. You may lose track of who is in charge, the prisoners or the guards. More than one investigator, for example, goes into the prison undercover and gets killed trying to stop the drug trade. Personally I would just stop letting prisoners inspect incoming mail rather than risk the lives of investigators. <br /><br />Let\\'s see, what else? Shillinger\\'s son OD\\'s in solitary and no one thinks to ask the guard how he got the drugs. He just...got them, I guess. And make sure to pay attention, otherwise you\\'ll miss the reason why the prisoners have enough money to be able to afford ascellular dermal grafts when they get bad gums. I didn\\'t know guests in maximum security prisons were afforded such luxurious treatment options. How about this, when Robson asks about Dr. Faraj\\'s schedule so he can ask what race of gums he was given, Faraj is so terrified that he goes to the warden and quits his job on the spot. Do doctors and dentists not have the right to request not to see certain prisoners? After Poet and O\\'Reilly make the announcement to the entire prison, Robson asks to see Dr. Faraj, and is escorted to his office, brought in without knocking, and the guard promptly leaves without a word. They might as well give him a gun.<br /><br />I shouldn\\'t go on about stupid ideas in this show, but it\\'s like a flood, I can\\'t stop it. Who thought of the Chinese refugees who can\\'t speak Chinese and who disappear en masse from sight unless they\\'re needed? Who thought of the goofy religious wars and all the reverend prisoners? Who though of Robson\\'s gum transplant? What\\'s the deal with Busmalis and Agamemnon? Agamemnon because he clearly doesn\\'t belong in prison and Busmalis because of the whole thing with his grandson. Macbeth, because it was nothing but a ridiculous means to an end, as it were. <br /><br />But what are the worst ideas? Things that go nowhere, which are constant. An Irish man comes to the prison and builds a bomb. He threatens to blow up the entire prison, the bomb turns out to be a dud, and the episode ends with him being led away by the bomb squad after the entire prison is evacuated. Nothing is ever heard from him or about the whole situation again. It\\'s like it never happened. In one episode, prisoners are given dogs to train. What the hell?? If that wasn\\'t bad enough, during one training session, a guard fires his gun inside the prison walls as a training exercise. No one seems to mind.<br /><br />I also like how anytime some kind of altercation breaks out, the culprits are pulled aside, they don\\'t say anything, and the guards or warden or sister Pete or whoever always says, \"I hope you don\\'t think I\\'m gonna let this go!!\" And then they walk away and let it go. The audience won\\'t remember. <br /><br />Maybe I\\'m spoiled by Prison Break, but Oz is just a goofy prison drama that might be better as a play. A short one. At least a low-budget movie. There is just not enough here to sustain a multi-season TV show. Then again, I watched six seasons of it on DVD. Sometimes I don\\'t understand myself...', 'label': 0}\n",
            "{'text': \"Here we've got an intelligent mixture of typical hongkongmovieshootouts, worlddestructionthemes and intelligent filmmaking. Not that the script has not its big holes and a few specialeffects are a bit cheaplooking. But the cinematography is a optical treat and the soundtrack is first rate. The blend of fast actionsequences and colorful slow, sometimes nearly poetic parts, has no comparison in its kind of movie, so a classification is rather hard. The closest genre is a disaster or terroristmovie with deeper human and political notes than usual. Well worth to be seen worldwide in cinemas. But i am hoping this for so many other (mostly asian) movies before and nobody seems to believe me. Unfortunately.\", 'label': 1}\n",
            "{'text': \"When I first heard of this movie, I was mildly interested. The plot seemed like an opportunity for hilarity and Bam Margera as an actor and director seemed like something that might be good. When I found out the movie starred Ryan Dunn, I was even further interested (I was a fan of Homewrecker when it was on... Yeah, I'm that lame). However, I didn't have much faith in it being to good. When I sat down to watch it, I was afraid I was wasting my time.<br /><br />But even just five minutes it it became apparent that I'd been wrong.<br /><br />I thought that the comedy of this film was delightfully idiotic, and definitely not suited for all kinds of people. The acting was rather good, much better than my expectations. I thought that it was rather easy to relate to Ryan's character, which gave the movie a center that was believable. This is key in a movie as outrageous as this (and is probably why I was not a fan of Borat).<br /><br />The movie is not suitable at all for younger people, DUH, and will definitely create more than it's fair share of awkward turtles if watched with parents. But it's a good one for you and your buddies on a movie night.\", 'label': 1}\n"
          ]
        }
      ]
    }
  ]
}