{
  "nbformat": 4,
  "nbformat_minor": 0,
  "metadata": {
    "anaconda-cloud": {},
    "kernelspec": {
      "display_name": "Python 3",
      "language": "python",
      "name": "python3"
    },
    "language_info": {
      "codemirror_mode": {
        "name": "ipython",
        "version": 3
      },
      "file_extension": ".py",
      "mimetype": "text/x-python",
      "name": "python",
      "nbconvert_exporter": "python",
      "pygments_lexer": "ipython3",
      "version": "3.8.0"
    },
    "pycharm": {
      "stem_cell": {
        "cell_type": "raw",
        "metadata": {
          "collapsed": false
        },
        "source": []
      }
    },
    "colab": {
      "provenance": [],
      "gpuType": "T4"
    },
    "accelerator": "GPU",
    "gpuClass": "standard"
  },
  "cells": [
    {
      "cell_type": "markdown",
      "metadata": {
        "id": "XPKTqQ3W8qLt"
      },
      "source": [
        "To begin copy this notebook to your own drive:\n",
        "\n",
        "![image.png](data:image/png;base64,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)\n",
        "\n",
        "\n",
        "### Submission Instructions:\n",
        "1. **Restart the kernel** (in the menubar, select Runtime$\\rightarrow$Restart runtime)\n",
        "2. **Run all cells** (in the menubar, select Runtime$\\rightarrow$Run All).\n",
        "3. **Download the notebook** (in the menubar, select File$\\rightarrow$Download .ipynb)\n",
        "4. **Upload the downloaded notebook (.ipynb file) to your repository**.\n",
        "\n",
        "Note: To use a GPU, do the following: Runtime$\\rightarrow$Change runtime type$\\rightarrow$ GPU\n",
        "\n",
        "Make sure you fill in any place that says `YOUR CODE HERE`, and that no tests fail.  "
      ]
    },
    {
      "cell_type": "markdown",
      "metadata": {
        "deletable": false,
        "editable": false,
        "nbgrader": {
          "cell_type": "markdown",
          "checksum": "5493400e8b7f9a8e2cde874866d4fa7f",
          "grade": false,
          "grade_id": "cell-3a1bca1dbb7d0069",
          "locked": true,
          "schema_version": 3,
          "solution": false,
          "task": false
        },
        "id": "XvPkt7Zm8qLt"
      },
      "source": [
        "![shakespeare](https://i.imgur.com/81YZuel.jpg)\n",
        "\n",
        "# Generating Shakespeare Using a Character-level Language Model\n",
        "\n",
        "### From Words to Characters\n",
        "In the previous two sections we dealt with word-level language models. But looking again at section 2, there is nothing that constraints us to using _words_ as the basic elemnents in our model. The model we analyzed in section 2 could just as well be character-based - just replace \"word\" with \"character\", and you are good to go. In this notebook we will train a small character-based language model that will help us generate Shakespearean-like (emphasis on the _like_...) texts."
      ]
    },
    {
      "cell_type": "markdown",
      "metadata": {
        "deletable": false,
        "editable": false,
        "nbgrader": {
          "cell_type": "markdown",
          "checksum": "9af7a343d0e3524c3fd846d987d766a8",
          "grade": false,
          "grade_id": "cell-7301754e4d655d01",
          "locked": true,
          "schema_version": 3,
          "solution": false,
          "task": false
        },
        "id": "EvGyr_ux8qLt"
      },
      "source": [
        "### Question 3.a\n",
        "Can you think of an advantage a character-based language model could have over a word-based language model? And what about the other way around: can you think of an advantage a word-based language model could have over a character-based language model? (Add your answer to the final submission pdf)."
      ]
    },
    {
      "cell_type": "markdown",
      "source": [
        "In character-based language models, the vocabulary in of fixed size in contrast to word-based language models however the notion of context is not well-defined between characters because there is no semantic relations between individual characters. In word-based language models, the vocabulary size is not consistent between different texts. Generation in word-based language models is easier because the vocabulary is already composed of real words in contrast to generation in character-based models there is a risk that gibberish words will be generated."
      ],
      "metadata": {
        "id": "iFIPSwU7XgJl"
      }
    },
    {
      "cell_type": "markdown",
      "metadata": {
        "deletable": false,
        "editable": false,
        "nbgrader": {
          "cell_type": "markdown",
          "checksum": "d46a8dfd340b8f68e51a041307f7d7d3",
          "grade": false,
          "grade_id": "cell-ebc0d8ae3061c0fc",
          "locked": true,
          "schema_version": 3,
          "solution": false,
          "task": false
        },
        "id": "ghCevRFf8qLt"
      },
      "source": [
        "### Using PyTorch\n",
        "\n",
        "We'll build our language model using PyTorch. PyTorch is a [very popular](https://thegradient.pub/state-of-ml-frameworks-2019-pytorch-dominates-research-tensorflow-dominates-industry/) open-source machine learning (and deep learning) framework developed by Facebook. In short:\n",
        "\n",
        "> Pytorch is a Python-based scientific computing package targeted at two sets of audiences:\n",
        "* A replacement for NumPy to use the power of GPUs\n",
        "* A deep learning research platform that provides maximum flexibility and speed\n",
        "\n",
        "To get familiar with PyTorch, check out this [quick tutorial](https://pytorch.org/tutorials/beginner/blitz/tensor_tutorial.html). In addition, another imporant difference from numpy is that PyTorch can automatically calculate the gradients needed for backpropagation, as explained [here](https://pytorch.org/tutorials/beginner/blitz/autograd_tutorial.html)."
      ]
    },
    {
      "cell_type": "markdown",
      "metadata": {
        "deletable": false,
        "editable": false,
        "nbgrader": {
          "cell_type": "markdown",
          "checksum": "02af8a21a2e8fae58d84f915de5b016d",
          "grade": false,
          "grade_id": "cell-aa2773db1bef7014",
          "locked": true,
          "schema_version": 3,
          "solution": false,
          "task": false
        },
        "id": "MYd79g6k8qLt"
      },
      "source": [
        "### Preparing the Data\n",
        "\n",
        "Our dataset is a plain text file. For simplicity, we turn any potential unicode characters into plain ASCII by using the `unidecode` package."
      ]
    },
    {
      "cell_type": "code",
      "metadata": {
        "colab": {
          "base_uri": "https://localhost:8080/"
        },
        "id": "OT5WdSbsFT1K",
        "outputId": "acd1dc27-dc69-46c1-afaa-0355aa9a3428"
      },
      "source": [
        "!pip install unidecode"
      ],
      "execution_count": 1,
      "outputs": [
        {
          "output_type": "stream",
          "name": "stdout",
          "text": [
            "Looking in indexes: https://pypi.org/simple, https://us-python.pkg.dev/colab-wheels/public/simple/\n",
            "Collecting unidecode\n",
            "  Downloading Unidecode-1.3.6-py3-none-any.whl (235 kB)\n",
            "\u001b[2K     \u001b[90m━━━━━━━━━━━━━━━━━━━━━━━━━━━━━━━━━━━━━━━\u001b[0m \u001b[32m235.9/235.9 kB\u001b[0m \u001b[31m7.0 MB/s\u001b[0m eta \u001b[36m0:00:00\u001b[0m\n",
            "\u001b[?25hInstalling collected packages: unidecode\n",
            "Successfully installed unidecode-1.3.6\n"
          ]
        }
      ]
    },
    {
      "cell_type": "code",
      "metadata": {
        "deletable": false,
        "editable": false,
        "nbgrader": {
          "cell_type": "code",
          "checksum": "ef0359e8c08b2057771c115150011e7e",
          "grade": false,
          "grade_id": "cell-cce75419c097f3fd",
          "locked": true,
          "schema_version": 3,
          "solution": false,
          "task": false
        },
        "pycharm": {
          "is_executing": false
        },
        "id": "RYqFoQgV8qLt",
        "colab": {
          "base_uri": "https://localhost:8080/"
        },
        "outputId": "2961dda2-a203-433c-f70c-86273a7b1d6c"
      },
      "source": [
        "import string\n",
        "import random\n",
        "import re\n",
        "import requests\n",
        "import unidecode\n",
        "url = \"https://github.com/tau-nlp-course/NLP_HW2/raw/main/data/shakespeare.txt\"\n",
        "\n",
        "\n",
        "all_characters = string.printable\n",
        "n_characters = len(all_characters)  # our vocabulary size (|V| from the handout)\n",
        "\n",
        "dataset_as_string = unidecode.unidecode(requests.get(url).content.decode())\n",
        "n_chars_in_dataset = len(dataset_as_string)\n",
        "print(f'Total number of characters in our dataset: {n_chars_in_dataset}')"
      ],
      "execution_count": 2,
      "outputs": [
        {
          "output_type": "stream",
          "name": "stdout",
          "text": [
            "Total number of characters in our dataset: 1115394\n"
          ]
        }
      ]
    },
    {
      "cell_type": "markdown",
      "metadata": {
        "deletable": false,
        "editable": false,
        "nbgrader": {
          "cell_type": "markdown",
          "checksum": "06dd2ac91a6296206475c7e330e53e3d",
          "grade": false,
          "grade_id": "cell-d795f907dd7922f3",
          "locked": true,
          "schema_version": 3,
          "solution": false,
          "task": false
        },
        "id": "mIctyT3J8qLu"
      },
      "source": [
        "To make inputs out of this big string of text, we will split it into chunks."
      ]
    },
    {
      "cell_type": "code",
      "metadata": {
        "deletable": false,
        "editable": false,
        "nbgrader": {
          "cell_type": "code",
          "checksum": "61947ad22fb7f16eba246d47ab8cae22",
          "grade": false,
          "grade_id": "cell-379f229536dae19b",
          "locked": true,
          "schema_version": 3,
          "solution": false,
          "task": false
        },
        "pycharm": {
          "is_executing": false
        },
        "id": "eoLs0ivz8qLu",
        "colab": {
          "base_uri": "https://localhost:8080/"
        },
        "outputId": "0aa476c2-2d8a-4f80-9e85-426ed559ad1d"
      },
      "source": [
        "chunk_len = 400\n",
        "\n",
        "def random_chunk():\n",
        "    start_index = random.randint(0, n_chars_in_dataset - chunk_len)\n",
        "    end_index = start_index + chunk_len + 1\n",
        "    return dataset_as_string[start_index:end_index]\n",
        "\n",
        "print(random_chunk())"
      ],
      "execution_count": 3,
      "outputs": [
        {
          "output_type": "stream",
          "name": "stdout",
          "text": [
            " this writing here, and thou shalt know\n",
            "The treason that my haste forbids me show.\n",
            "\n",
            "DUKE OF AUMERLE:\n",
            "Remember, as thou read'st, thy promise pass'd:\n",
            "I do repent me; read not my name there\n",
            "My heart is not confederate with my hand.\n",
            "\n",
            "DUKE OF YORK:\n",
            "It was, villain, ere thy hand did set it down.\n",
            "I tore it from the traitor's bosom, king;\n",
            "Fear, and not love, begets his penitence:\n",
            "Forget to pity him, lest t\n"
          ]
        }
      ]
    },
    {
      "cell_type": "markdown",
      "metadata": {
        "deletable": false,
        "editable": false,
        "nbgrader": {
          "cell_type": "markdown",
          "checksum": "ba5d4900ff254fa335fe935962878c8d",
          "grade": false,
          "grade_id": "cell-fcbb2d73f4e442fb",
          "locked": true,
          "schema_version": 3,
          "solution": false,
          "task": false
        },
        "id": "ho8WlUcV8qLv"
      },
      "source": [
        "### Building Our Model\n",
        "\n",
        "Our model consists of three main components:\n",
        "\n",
        "1. [**Embedding**](https://pytorch.org/docs/stable/nn.html#embedding). A mapping between characters and their learned representations (\"word vectors\") \\[correspoding to ${\\boldsymbol L}$ in terms of the handout\\]\n",
        "2. [**GRU**](https://pytorch.org/docs/stable/nn.html#gru). \\[correspoding to the computation of ${\\boldsymbol h}^{(t)}$ in terms of the handout\\]\n",
        "3. **Output Layer**. A feed-forward neural network that transforms a hidden state at a timestep into a probability distribution of the next character. \\[correspoding to the computation of $\\hat{\\boldsymbol y}^{(t)}$ in terms of the handout\\] "
      ]
    },
    {
      "cell_type": "markdown",
      "metadata": {
        "id": "KFm8g2pd8qLv"
      },
      "source": [
        "### Question 3.b\n",
        "Complete the implementation of the `forward` method of our model."
      ]
    },
    {
      "cell_type": "code",
      "metadata": {
        "deletable": false,
        "nbgrader": {
          "cell_type": "code",
          "checksum": "a9ad1239fcd5aec23f439249397895ec",
          "grade": false,
          "grade_id": "cell-1640492438386e87",
          "locked": false,
          "schema_version": 3,
          "solution": true,
          "task": false
        },
        "pycharm": {
          "is_executing": false
        },
        "id": "2SoCQ_ZM8qLv"
      },
      "source": [
        "import torch\n",
        "import torch.nn as nn\n",
        "from torch.autograd import Variable\n",
        "\n",
        "\n",
        "class OurModel(nn.Module):\n",
        "    def __init__(self, input_size, hidden_size, output_size, num_layers=1):\n",
        "        super(OurModel, self).__init__()\n",
        "        self.input_size = input_size\n",
        "        self.hidden_size = hidden_size\n",
        "        self.output_size = output_size\n",
        "        self.num_layers = num_layers\n",
        "        \n",
        "        self.embedding = nn.Embedding(input_size, hidden_size)  # In the terms of the handout, here d = D_h\n",
        "        self.gru = nn.GRU(hidden_size, hidden_size, num_layers)\n",
        "        self.output_layer = nn.Linear(hidden_size, output_size)\n",
        "    \n",
        "    def forward(self, input_, hidden):\n",
        "        # General instructions:\n",
        "        # Pass the embedded input through the GRU and use the output layer to get the next character distribution.\n",
        "        # return that distribution and the next hidden state.\n",
        "        # You may need to play around with the dimensions a bit until you get it right. Dimension-induced frustration is good for you!\n",
        "        # -------------------------\n",
        "        # YOUR CODE HERE\n",
        "        x = torch.unsqueeze(self.embedding(input_), 0)\n",
        "        if len(x.shape) < 3:\n",
        "          x = torch.unsqueeze(x, 0)\n",
        "        output, hidden = self.gru(x, hidden)\n",
        "        output = torch.squeeze(self.output_layer(output), 0)\n",
        "        # -------------------------\n",
        "        return output, hidden\n",
        "\n",
        "    def init_hidden(self):\n",
        "        return Variable(torch.zeros(self.num_layers, 1, self.hidden_size))"
      ],
      "execution_count": 42,
      "outputs": []
    },
    {
      "cell_type": "markdown",
      "metadata": {
        "deletable": false,
        "editable": false,
        "nbgrader": {
          "cell_type": "markdown",
          "checksum": "da793a49917dc4882e7e70f04d07a777",
          "grade": false,
          "grade_id": "cell-b9299fddeb082b4e",
          "locked": true,
          "schema_version": 3,
          "solution": false,
          "task": false
        },
        "id": "aZWMbY1o8qLv"
      },
      "source": [
        "### Creating the Training Examples"
      ]
    },
    {
      "cell_type": "markdown",
      "metadata": {
        "deletable": false,
        "editable": false,
        "nbgrader": {
          "cell_type": "markdown",
          "checksum": "f6eaeb80c370b32f26eda2ac1be57444",
          "grade": false,
          "grade_id": "cell-83bf9e1b0374206c",
          "locked": true,
          "schema_version": 3,
          "solution": false,
          "task": false
        },
        "id": "B-ngTV6Q8qLv"
      },
      "source": [
        "Each chunk will be turned into a tensor by looping through the characters of the string and looking up the index of each character in `all_characters`."
      ]
    },
    {
      "cell_type": "code",
      "metadata": {
        "deletable": false,
        "editable": false,
        "nbgrader": {
          "cell_type": "code",
          "checksum": "cc87bca342db2fde1b3957f48bcfe857",
          "grade": false,
          "grade_id": "cell-5360afdd0b03b1f4",
          "locked": true,
          "schema_version": 3,
          "solution": false,
          "task": false
        },
        "pycharm": {
          "is_executing": false
        },
        "id": "98wyNtkw8qLv",
        "colab": {
          "base_uri": "https://localhost:8080/"
        },
        "outputId": "ce15b141-8065-4760-fc65-5305cbe18218"
      },
      "source": [
        "# Turn a string into list of longs\n",
        "def chars_to_tensor(string):\n",
        "    tensor = torch.zeros(len(string)).long()\n",
        "    for c in range(len(string)):\n",
        "        tensor[c] = all_characters.index(string[c])\n",
        "    return Variable(tensor)\n",
        "\n",
        "print(chars_to_tensor('abcDEF'))"
      ],
      "execution_count": 89,
      "outputs": [
        {
          "output_type": "stream",
          "name": "stdout",
          "text": [
            "tensor([10, 11, 12, 39, 40, 41])\n"
          ]
        }
      ]
    },
    {
      "cell_type": "markdown",
      "metadata": {
        "deletable": false,
        "editable": false,
        "nbgrader": {
          "cell_type": "markdown",
          "checksum": "f7fab2aa0d22a697fcc3d675b1821875",
          "grade": false,
          "grade_id": "cell-6e7b3d9e8c9396bb",
          "locked": true,
          "schema_version": 3,
          "solution": false,
          "task": false
        },
        "id": "cYh_R1K88qLv"
      },
      "source": [
        "Now we can assemble a pair of input and target tensors (i.e. a single training example) for training, from a random chunk. The input will be all characters *except the last*, and the target will be all characters *except the first*. So if our chunk is \"abc\" the input will correspond to \"ab\" while the target is \"bc\"."
      ]
    },
    {
      "cell_type": "code",
      "metadata": {
        "deletable": false,
        "editable": false,
        "nbgrader": {
          "cell_type": "code",
          "checksum": "adf90d7ec6728b2f45d1e8de5c47203c",
          "grade": false,
          "grade_id": "cell-d3539c5f1d96a188",
          "locked": true,
          "schema_version": 3,
          "solution": false,
          "task": false
        },
        "pycharm": {
          "is_executing": false
        },
        "id": "QFDYhW3a8qLv"
      },
      "source": [
        "def random_training_set():    \n",
        "    chunk = random_chunk()\n",
        "    inp = chars_to_tensor(chunk[:-1])\n",
        "    target = chars_to_tensor(chunk[1:])\n",
        "    return inp, target"
      ],
      "execution_count": 14,
      "outputs": []
    },
    {
      "cell_type": "markdown",
      "metadata": {
        "deletable": false,
        "editable": false,
        "nbgrader": {
          "cell_type": "markdown",
          "checksum": "18a6bf800d9bc590739b15ba01dda408",
          "grade": false,
          "grade_id": "cell-16d13f3b273395ac",
          "locked": true,
          "schema_version": 3,
          "solution": false,
          "task": false
        },
        "id": "eU6VTX8F8qLv"
      },
      "source": [
        "### Evaluating\n",
        "\n",
        "To evaluate the network we will feed one character at a time, use the outputs of the network as a probability distribution for the next character, and repeat. To start generation we pass a priming string to start building up the hidden state, from which we then generate one character at a time."
      ]
    },
    {
      "cell_type": "code",
      "metadata": {
        "deletable": false,
        "editable": false,
        "nbgrader": {
          "cell_type": "code",
          "checksum": "a47c721a818979b886f119401206e756",
          "grade": false,
          "grade_id": "cell-44ab27a8fee696ad",
          "locked": true,
          "schema_version": 3,
          "solution": false,
          "task": false
        },
        "pycharm": {
          "is_executing": false
        },
        "id": "xeoACNc78qLv"
      },
      "source": [
        "import torch.nn.functional as F\n",
        "\n",
        "def evaluate(prime_str='A', predict_len=100, temperature=0.8):\n",
        "    hidden = model.init_hidden()\n",
        "    prime_input = chars_to_tensor(prime_str)\n",
        "    predicted = prime_str\n",
        "\n",
        "    # Use priming string to \"build up\" hidden state\n",
        "    for p in range(len(prime_str) - 1):\n",
        "        _, hidden = model(prime_input[p], hidden)\n",
        "    inp = prime_input[-1]\n",
        "    \n",
        "    for p in range(predict_len):\n",
        "        output, hidden = model(inp, hidden)\n",
        "        \n",
        "        # Sample from the network as a multinomial distribution\n",
        "        output_dist =  F.softmax(output / temperature, dim=-1)\n",
        "        top_i = torch.multinomial(output_dist, 1)[0]\n",
        "        \n",
        "        # Add predicted character to string and use as next input\n",
        "        predicted_char = all_characters[top_i]\n",
        "        predicted += predicted_char\n",
        "        inp = chars_to_tensor(predicted_char)\n",
        "\n",
        "    return predicted"
      ],
      "execution_count": 15,
      "outputs": []
    },
    {
      "cell_type": "markdown",
      "metadata": {
        "deletable": false,
        "editable": false,
        "nbgrader": {
          "cell_type": "markdown",
          "checksum": "3fffa10554299eaae14cc007fea3935a",
          "grade": false,
          "grade_id": "cell-1d3fd015fe8f64d1",
          "locked": true,
          "schema_version": 3,
          "solution": false,
          "task": false
        },
        "id": "iNmsUvyM8qLv"
      },
      "source": [
        "### Training"
      ]
    },
    {
      "cell_type": "markdown",
      "metadata": {
        "deletable": false,
        "editable": false,
        "nbgrader": {
          "cell_type": "markdown",
          "checksum": "8a98218b35f47137eeba1ba1aead0700",
          "grade": false,
          "grade_id": "cell-a209b293a8850a57",
          "locked": true,
          "schema_version": 3,
          "solution": false,
          "task": false
        },
        "id": "AiCVg5Ec8qLv"
      },
      "source": [
        "The main training function"
      ]
    },
    {
      "cell_type": "code",
      "metadata": {
        "deletable": false,
        "editable": false,
        "nbgrader": {
          "cell_type": "code",
          "checksum": "eb3bfcd4d49b2f2672447d8c65b6cb05",
          "grade": false,
          "grade_id": "cell-e246cbd9689e1a6d",
          "locked": true,
          "schema_version": 3,
          "solution": false,
          "task": false
        },
        "pycharm": {
          "is_executing": false
        },
        "id": "Wug0q2Me8qLv"
      },
      "source": [
        "def train(inp, target):\n",
        "    hidden = model.init_hidden()\n",
        "    model.zero_grad()\n",
        "    loss = 0\n",
        "\n",
        "    for c in range(chunk_len):\n",
        "        output, hidden = model(inp[c], hidden)\n",
        "        loss += criterion(output, target[c].view(-1))\n",
        "\n",
        "    loss.backward()\n",
        "    optimizer.step()\n",
        "\n",
        "    return loss.item() / chunk_len"
      ],
      "execution_count": 22,
      "outputs": []
    },
    {
      "cell_type": "markdown",
      "metadata": {
        "deletable": false,
        "editable": false,
        "nbgrader": {
          "cell_type": "markdown",
          "checksum": "bfb863e279db4b170c35d8d0c7a37a1f",
          "grade": false,
          "grade_id": "cell-05ce9b9275e0d1cc",
          "locked": true,
          "schema_version": 3,
          "solution": false,
          "task": false
        },
        "id": "hFBSiQqS8qLv"
      },
      "source": [
        "A helper to print the amount of time passed:"
      ]
    },
    {
      "cell_type": "code",
      "metadata": {
        "deletable": false,
        "editable": false,
        "nbgrader": {
          "cell_type": "code",
          "checksum": "16d7b53f211a6a1bef71c1dd2d1271cf",
          "grade": false,
          "grade_id": "cell-cb78afef7022f9a1",
          "locked": true,
          "schema_version": 3,
          "solution": false,
          "task": false
        },
        "pycharm": {
          "is_executing": false
        },
        "id": "vIzUAL-a8qLv"
      },
      "source": [
        "import time, math\n",
        "\n",
        "def time_since(since):\n",
        "    s = time.time() - since\n",
        "    m = math.floor(s / 60)\n",
        "    s -= m * 60\n",
        "    return f'{m}m {math.floor(s)}s'"
      ],
      "execution_count": 17,
      "outputs": []
    },
    {
      "cell_type": "code",
      "metadata": {
        "deletable": false,
        "editable": false,
        "nbgrader": {
          "cell_type": "code",
          "checksum": "2b368f1767ddd0eddca44249fa47ed32",
          "grade": true,
          "grade_id": "cell-98f46bec0b8c87cc",
          "locked": true,
          "points": 10,
          "schema_version": 3,
          "solution": false,
          "task": false
        },
        "id": "pAlXhasn8qLv"
      },
      "source": [
        "# DO NOT DELETE THIS CELL\n"
      ],
      "execution_count": 18,
      "outputs": []
    },
    {
      "cell_type": "markdown",
      "metadata": {
        "deletable": false,
        "editable": false,
        "nbgrader": {
          "cell_type": "markdown",
          "checksum": "98abd7dd7805753c2e7b635f1265cb73",
          "grade": false,
          "grade_id": "cell-baf25642209867dc",
          "locked": true,
          "schema_version": 3,
          "solution": false,
          "task": false
        },
        "id": "0Xva5o5I8qLv"
      },
      "source": [
        "Define the training parameters, instantiate the model, and start training:"
      ]
    },
    {
      "cell_type": "code",
      "metadata": {
        "deletable": false,
        "editable": false,
        "nbgrader": {
          "cell_type": "code",
          "checksum": "ab44452ad9f838e0b56e1fc154ab6125",
          "grade": false,
          "grade_id": "cell-4900f92ae503be69",
          "locked": true,
          "schema_version": 3,
          "solution": false,
          "task": false
        },
        "pycharm": {
          "is_executing": false
        },
        "id": "pRLHP-UQ8qLw",
        "outputId": "6bdbe8d3-495d-4f08-bed0-d1af43e3672b",
        "colab": {
          "base_uri": "https://localhost:8080/"
        }
      },
      "source": [
        "n_epochs = 2000\n",
        "print_every = 100\n",
        "plot_every = 10\n",
        "hidden_size = 100  # (D_h from the handout)\n",
        "num_layers = 1\n",
        "lr = 0.005\n",
        "\n",
        "model = OurModel(n_characters, hidden_size, n_characters, num_layers)\n",
        "optimizer = torch.optim.Adam(model.parameters(), lr=lr)\n",
        "criterion = nn.CrossEntropyLoss()\n",
        "\n",
        "start = time.time()\n",
        "all_losses = []\n",
        "loss_avg = 0\n",
        "\n",
        "for epoch in range(1, n_epochs + 1):\n",
        "    loss = train(*random_training_set())\n",
        "    loss_avg += loss\n",
        "\n",
        "    if epoch % print_every == 0:\n",
        "        print(f'[time elapsed: {time_since(start)}  ;  epochs: {epoch} ({epoch / n_epochs * 100}%)  ;  loss: {loss:.4}]')\n",
        "        print(evaluate('Wh', 200), '\\n')  # generate text starting with 'Wh'\n",
        "\n",
        "    if epoch % plot_every == 0:\n",
        "        all_losses.append(loss_avg / plot_every)\n",
        "        loss_avg = 0"
      ],
      "execution_count": 43,
      "outputs": [
        {
          "output_type": "stream",
          "name": "stdout",
          "text": [
            "[time elapsed: 0m 28s  ;  epochs: 100 (5.0%)  ;  loss: 2.181]\n",
            "Whlout thare him thid mas the.\n",
            "\n",
            "ARD:\n",
            "Tis nors, Lot gren wim ther wlot replaes.\n",
            "\n",
            "BINEIS:\n",
            "So diornd, of beris on the mere freron ham beanon, roumse. Nord yot hour e ble, my ale min',\n",
            "Gor lont ot of, Pen e \n",
            "\n",
            "[time elapsed: 0m 59s  ;  epochs: 200 (10.0%)  ;  loss: 2.12]\n",
            "Whow shothe to is what and thou, canione hod sit woha ding; wih wee your not ming thou hour sight-you with of his my love heme his silld re suor fesvere ith I'l lenther thave dout ing thou hom stat the  \n",
            "\n",
            "[time elapsed: 1m 33s  ;  epochs: 300 (15.0%)  ;  loss: 2.04]\n",
            "Why noth't suting beangain\n",
            "I the hould weing, brane the thiss peare\n",
            "The sould the pel.\n",
            "\n",
            "FiLA:\n",
            "What but with to this it thee be the he preisty thou me he peplear's brount the me of beverst\n",
            "That be gof bu \n",
            "\n",
            "[time elapsed: 2m 5s  ;  epochs: 400 (20.0%)  ;  loss: 2.266]\n",
            "Whable a nawhisher; the duke thale, servere:\n",
            "What who, make this I and then you hard lise I'll conting,\n",
            "That so talence thou we un there reates. There tor whins trust alesetier dist ay thel?\n",
            "Le an'd man \n",
            "\n",
            "[time elapsed: 2m 34s  ;  epochs: 500 (25.0%)  ;  loss: 1.93]\n",
            "Whink youse soperir and he dill\n",
            "For I prace and you dave it's prove and be dead Arged shall!\n",
            "\n",
            "BRKINGR EVIO:\n",
            "I for he not thoo the of stuch a brane\n",
            "tthe happer'd in trude\n",
            "thing you ares, myir greace thee \n",
            "\n",
            "[time elapsed: 3m 4s  ;  epochs: 600 (30.0%)  ;  loss: 1.901]\n",
            "Whing brateself, fience. Our hath ood supt for.\n",
            "\n",
            "RONIO:\n",
            "Now your ad retom! my alding from how have arp theat hery sake of thou sugpce of that\n",
            "honat sence, wost he ard the his the proustard.\n",
            "\n",
            "BUKENY RUCH \n",
            "\n",
            "[time elapsed: 3m 33s  ;  epochs: 700 (35.0%)  ;  loss: 1.961]\n",
            "What mine the am been the wery.\n",
            "\n",
            "BENTIA:\n",
            "Saty lemuy I vall proker brarged myerfuces not mouss, whif and his\n",
            "dent trutiess, or me, I as'd that helounst.\n",
            "\n",
            "LUCO:\n",
            "May, the come, the have and say full bened  \n",
            "\n",
            "[time elapsed: 4m 3s  ;  epochs: 800 (40.0%)  ;  loss: 1.841]\n",
            "Where ow had tat mince\n",
            "Loots to than I sare the virt;\n",
            "And, I the pentain's lain the penters that the his sering the pray\n",
            "Than my him with thy sistent aw in of my\n",
            "Is mit are war overess to pay of my tell \n",
            "\n",
            "[time elapsed: 4m 32s  ;  epochs: 900 (45.0%)  ;  loss: 2.003]\n",
            "Whition's be Preates.\n",
            "\n",
            "HENRY VI:\n",
            "And be again. Moves have wis have had beting is was me\n",
            "Bidy, I his with thou beate ere abour targher.\n",
            "\n",
            "Prast in EDCLYGHE:\n",
            "No, the chast breatrerix'd take,\n",
            "Whing unnest c \n",
            "\n",
            "[time elapsed: 5m 1s  ;  epochs: 1000 (50.0%)  ;  loss: 1.752]\n",
            "Whing renech to lord,\n",
            "To death as dight what as concming-sir: the my in. They, I'll of in the will king it,\n",
            "And seech and the gragieng with could be'd age, if\n",
            "The king; this both I know seppear prai'd.\n",
            " \n",
            "\n",
            "[time elapsed: 5m 29s  ;  epochs: 1100 (55.00000000000001%)  ;  loss: 1.637]\n",
            "What soutsite,\n",
            "Horus your in your that our cure.\n",
            "\n",
            "CALIANUS:\n",
            "A I thou I, sout youse of thy beakes\n",
            "My fress ere theer of south leave done thy flome\n",
            "The ware Anged of hall my lasts,\n",
            "O, come fame all now, h \n",
            "\n",
            "[time elapsed: 5m 58s  ;  epochs: 1200 (60.0%)  ;  loss: 1.889]\n",
            "Which. I and are the what seer come of here is deagh.\n",
            "\n",
            "MAMILLIUS:\n",
            "Thy betting for pered it mird ich her hounts,\n",
            "To canmed is in thee if must your beacles.\n",
            "\n",
            "MENENIUS:\n",
            "Even with the lie shood pittle let m \n",
            "\n",
            "[time elapsed: 6m 27s  ;  epochs: 1300 (65.0%)  ;  loss: 1.841]\n",
            "Whant his denother,\n",
            "This world to you, but armors\n",
            "And not in a a dostse house brother.\n",
            "\n",
            "COMINIUS:\n",
            "Nour Romgonery, and her dignour wim,\n",
            "Had as flale am as and heppen:\n",
            "He world, parrity thing by theiff hi \n",
            "\n",
            "[time elapsed: 6m 56s  ;  epochs: 1400 (70.0%)  ;  loss: 1.478]\n",
            "Wharle deseed,\n",
            "A lies hearst a the the treat! whath in thy to letigon affusunce.\n",
            "\n",
            "ANGELLO:\n",
            "\n",
            "GLOUCESTER:\n",
            "How, was Sam, I calress a did great thee hold be\n",
            "To dise it the so spain,\n",
            "I man this none?\n",
            "\n",
            "COMINI \n",
            "\n",
            "[time elapsed: 7m 24s  ;  epochs: 1500 (75.0%)  ;  loss: 1.372]\n",
            "Whinst coursek.\n",
            "What again it life streate, Prowing: me,\n",
            "But coplice of the dese in the rewigh to Frea.\n",
            "\n",
            "Second VI:\n",
            "And thee eate, besseged in a his bood be\n",
            "therrower thee ending fathere my my lady dose \n",
            "\n",
            "[time elapsed: 7m 53s  ;  epochs: 1600 (80.0%)  ;  loss: 1.819]\n",
            "What is you will beslands what upin of my ress shall grouch\n",
            "And the crave me veep. I man sir.\n",
            "\n",
            "FirsTIO:\n",
            "Nothen it me these for and bain me and can that,\n",
            "What is not by my mates it gone,\n",
            "To he done of if \n",
            "\n",
            "[time elapsed: 8m 22s  ;  epochs: 1700 (85.0%)  ;  loss: 1.789]\n",
            "Whings\n",
            "When the liep as fiend him---sings thal altest\n",
            "Comes but them of this struents an it.\n",
            "\n",
            "CLAREY:\n",
            "You hono's did cannot of thy gracled.\n",
            "\n",
            "LEONTES:\n",
            "Are so helt wost my as, 'tis and\n",
            "Ment as now the lie \n",
            "\n",
            "[time elapsed: 8m 50s  ;  epochs: 1800 (90.0%)  ;  loss: 1.509]\n",
            "What server dote see and you,\n",
            "And boght to the deed, wald to daughters too\n",
            "That not her of fears doot of lord.\n",
            "\n",
            "Form:\n",
            "Who atter? her love is hope out to and\n",
            "the was be the not not dew if by his womang b \n",
            "\n",
            "[time elapsed: 9m 19s  ;  epochs: 1900 (95.0%)  ;  loss: 1.658]\n",
            "Whinged affer leghmen\n",
            "The resand at and with as look anger;\n",
            "For be to the evour? and unded, shall vervingue out\n",
            "Dion you will partert, doth no more dain, with lets,\n",
            "In love takes you do you glass.\n",
            "\n",
            "MON  \n",
            "\n",
            "[time elapsed: 9m 48s  ;  epochs: 2000 (100.0%)  ;  loss: 1.79]\n",
            "What? woming that set by growe\n",
            "Ssive, slo kingue, dobritence, excery Warwonourn\n",
            "Betle, in him not him. For breath,\n",
            "Of God good the wather but our kind?\n",
            "\n",
            "First Dood:\n",
            "For his blander grouch\n",
            "For thou sot l \n",
            "\n"
          ]
        }
      ]
    },
    {
      "cell_type": "markdown",
      "metadata": {
        "deletable": false,
        "editable": false,
        "nbgrader": {
          "cell_type": "markdown",
          "checksum": "8584d3be75d90a5197e7133411e0021d",
          "grade": false,
          "grade_id": "cell-ff9d72dafefa0a23",
          "locked": true,
          "schema_version": 3,
          "solution": false,
          "task": false
        },
        "id": "dXeVkk298qLw"
      },
      "source": [
        "### Training Loss\n",
        "\n",
        "Plotting the the losses that were computed during training can provide a further indication that the network was indeed learning (Add your plot to the final submission pdf)."
      ]
    },
    {
      "cell_type": "code",
      "metadata": {
        "deletable": false,
        "editable": false,
        "nbgrader": {
          "cell_type": "code",
          "checksum": "357a8a13a77f5e3b3e336e022dc596d4",
          "grade": false,
          "grade_id": "cell-f91bb597844b8f7d",
          "locked": true,
          "schema_version": 3,
          "solution": false,
          "task": false
        },
        "pycharm": {
          "is_executing": false
        },
        "id": "S2SZanbV8qLw",
        "outputId": "4d5318f0-3d94-435e-cd8d-d3aa379a3122",
        "colab": {
          "base_uri": "https://localhost:8080/",
          "height": 467
        }
      },
      "source": [
        "import matplotlib.pyplot as plt\n",
        "%matplotlib inline\n",
        "\n",
        "plt.grid(True)\n",
        "plt.xlabel('# of epochs (divided by plot_every)')\n",
        "plt.ylabel('average loss')\n",
        "plt.plot(all_losses)"
      ],
      "execution_count": 44,
      "outputs": [
        {
          "output_type": "execute_result",
          "data": {
            "text/plain": [
              "[<matplotlib.lines.Line2D at 0x7fe3e175f6a0>]"
            ]
          },
          "metadata": {},
          "execution_count": 44
        },
        {
          "output_type": "display_data",
          "data": {
            "text/plain": [
              "<Figure size 640x480 with 1 Axes>"
            ],
            "image/png": "[encoded data removed]"
          },
          "metadata": {}
        }
      ]
    },
    {
      "cell_type": "markdown",
      "source": [
        "# 4.b Perplexity"
      ],
      "metadata": {
        "id": "NvZtIVuxq3fp"
      }
    },
    {
      "cell_type": "code",
      "source": [
        "import string\n",
        "import random\n",
        "import re\n",
        "import requests\n",
        "import unidecode\n",
        "\n",
        "def perplexity(filepath):\n",
        "  text = \"\"\n",
        "  with open(filepath) as f:\n",
        "    text = unidecode.unidecode(f.read())\n",
        "\n",
        "  hidden = model.init_hidden()\n",
        "  prime_input = chars_to_tensor(text)\n",
        "  inp = prime_input[-1]\n",
        "\n",
        "  sum_log_probs = 0\n",
        "  for p in range(len(text) - 1):\n",
        "      output, hidden = model(inp, hidden)\n",
        "      output_dist =  F.softmax(output / 0.8, dim=-1)      \n",
        "      char_prob = output_dist[:, all_characters.index(text[p])]\n",
        "      sum_log_probs += torch.log(char_prob)\n",
        "      inp = prime_input[p]\n",
        "\n",
        "  return torch.exp((-1.0/len(text))*sum_log_probs).item()\n"
      ],
      "metadata": {
        "id": "Kv7HPQPsrLtn"
      },
      "execution_count": 119,
      "outputs": []
    },
    {
      "cell_type": "code",
      "source": [
        "print(perplexity(\"/content/shakespeare_for_perplexity.txt\"))"
      ],
      "metadata": {
        "id": "RlSehpxR133P",
        "outputId": "5bca4955-8711-41dc-96d8-49aa2dc5ca06",
        "colab": {
          "base_uri": "https://localhost:8080/"
        }
      },
      "execution_count": 120,
      "outputs": [
        {
          "output_type": "stream",
          "name": "stdout",
          "text": [
            "7.159401893615723\n"
          ]
        }
      ]
    },
    {
      "cell_type": "code",
      "source": [
        "print(perplexity(\"/content/wikipedia_for_perplexity.txt\"))"
      ],
      "metadata": {
        "id": "4ooPcgfA2sBM",
        "outputId": "d7b50e4b-be9a-46b4-b34d-f3ceaa93cdd8",
        "colab": {
          "base_uri": "https://localhost:8080/"
        }
      },
      "execution_count": 121,
      "outputs": [
        {
          "output_type": "stream",
          "name": "stdout",
          "text": [
            "20.321489334106445\n"
          ]
        }
      ]
    }
  ]
}